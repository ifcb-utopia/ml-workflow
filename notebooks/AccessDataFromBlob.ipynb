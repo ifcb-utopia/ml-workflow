{
 "cells": [
  {
   "cell_type": "markdown",
   "id": "ce7fdf2e-18ff-4ce1-a078-409ed6464ac7",
   "metadata": {},
   "source": [
    "We have stored the 2015 NAAMES data to Azure Cloud Storage and to read it we will use the Python API. \n",
    "\n",
    "ifcb storage account -> naames container -> NAAMES_ml folder"
   ]
  },
  {
   "cell_type": "code",
   "execution_count": 27,
   "id": "3031ea78-9c45-495a-92ad-9626c057ddaf",
   "metadata": {},
   "outputs": [],
   "source": [
    "import matplotlib.pyplot as plt"
   ]
  },
  {
   "cell_type": "code",
   "execution_count": 28,
   "id": "bec48228-1585-4ae5-a256-9db5d12d5f3e",
   "metadata": {
    "tags": []
   },
   "outputs": [],
   "source": [
    "import imageio"
   ]
  },
  {
   "cell_type": "code",
   "execution_count": 13,
   "id": "44e6fb9b-2d28-4eb6-adc8-052fd7c706fb",
   "metadata": {},
   "outputs": [],
   "source": [
    "import getpass"
   ]
  },
  {
   "cell_type": "code",
   "execution_count": 15,
   "id": "398edaf4-3f24-40f4-91af-bae64085b8b5",
   "metadata": {},
   "outputs": [],
   "source": [
    "import azure.storage.blob"
   ]
  },
  {
   "cell_type": "code",
   "execution_count": 17,
   "id": "66e81101-1387-4cf7-9b15-8246ef737f07",
   "metadata": {},
   "outputs": [
    {
     "name": "stdin",
     "output_type": "stream",
     "text": [
      " ···················································································································································································\n"
     ]
    }
   ],
   "source": [
    "connection_string = getpass.getpass()"
   ]
  },
  {
   "cell_type": "code",
   "execution_count": 35,
   "id": "4e4ea952-8f34-4425-98eb-2229394b2e6c",
   "metadata": {},
   "outputs": [],
   "source": [
    "container_client = azure.storage.blob.ContainerClient.from_connection_string(\n",
    "    connection_string, container_name=\"naames\"\n",
    ")"
   ]
  },
  {
   "cell_type": "code",
   "execution_count": 36,
   "id": "cd20e53a-f79e-4b41-b8b1-53a6f3fc0b4b",
   "metadata": {},
   "outputs": [],
   "source": [
    "# we limit to a subfolder to test the functionality\n",
    "blobs_list = container_client.list_blobs(name_starts_with='NAAMES_ml/D20151102T161705_IFCB107')"
   ]
  },
  {
   "cell_type": "code",
   "execution_count": null,
   "id": "b7f8c274-1b0c-476d-869b-eb1c7cb994ba",
   "metadata": {},
   "outputs": [],
   "source": []
  },
  {
   "cell_type": "code",
   "execution_count": 38,
   "id": "f429a71b-fc1e-4c0d-b78e-147921684d7c",
   "metadata": {},
   "outputs": [],
   "source": [
    "container_name = 'naames'\n",
    "account_name = 'ifcb'"
   ]
  },
  {
   "cell_type": "code",
   "execution_count": 39,
   "id": "3f833d8d-8936-41e8-a2fc-a71b7b914c7c",
   "metadata": {},
   "outputs": [],
   "source": [
    "# attach the azure url\n",
    "blob_urls = (f\"https://{account_name}.blob.core.windows.net/{container_name}/{blob.name}\" for blob in blobs_list)"
   ]
  },
  {
   "cell_type": "code",
   "execution_count": 40,
   "id": "509e292a-5248-429c-a91c-f1d004e3f20e",
   "metadata": {
    "tags": []
   },
   "outputs": [
    {
     "name": "stdout",
     "output_type": "stream",
     "text": [
      "CPU times: user 1min 2s, sys: 5 s, total: 1min 7s\n",
      "Wall time: 42min 8s\n"
     ]
    }
   ],
   "source": [
    "%%time\n",
    "dataset = []\n",
    "failed_urls = []\n",
    "for blob_url in blob_urls:\n",
    "    # print(blob_url)\n",
    "    # select 'png'\n",
    "    if 'png' in blob_url:\n",
    "        try:\n",
    "            image = imageio.imread(blob_url)\n",
    "            dataset.append(image)\n",
    "        except Exception as e:\n",
    "            failed_urls.append(blob_url)\n",
    "            pass\n",
    "        "
   ]
  },
  {
   "cell_type": "code",
   "execution_count": 42,
   "id": "98e485d1-555b-4b1a-a240-9230af07334b",
   "metadata": {},
   "outputs": [
    {
     "name": "stdout",
     "output_type": "stream",
     "text": [
      "['https://ifcb.blob.core.windows.net/naames/NAAMES_ml/D20151102T161705_IFCB107/IFCB107D20151102T161705P02219.png', 'https://ifcb.blob.core.windows.net/naames/NAAMES_ml/D20151102T161705_IFCB107/IFCB107D20151102T161705P03075.png']\n"
     ]
    }
   ],
   "source": [
    "print(failed_urls)"
   ]
  },
  {
   "cell_type": "code",
   "execution_count": 41,
   "id": "d3732234-ed99-44a6-828f-71b5c7ac659a",
   "metadata": {},
   "outputs": [
    {
     "data": {
      "text/plain": [
       "4117"
      ]
     },
     "execution_count": 41,
     "metadata": {},
     "output_type": "execute_result"
    }
   ],
   "source": [
    "len(dataset)"
   ]
  },
  {
   "cell_type": "code",
   "execution_count": 25,
   "id": "a7e71d31-2899-4a4d-96ba-e17ab8e53a39",
   "metadata": {},
   "outputs": [],
   "source": [
    "# show an image"
   ]
  },
  {
   "cell_type": "code",
   "execution_count": 43,
   "id": "aad3fe03-3abf-4670-82a9-241099bf467e",
   "metadata": {},
   "outputs": [
    {
     "data": {
      "text/plain": [
       "<matplotlib.image.AxesImage at 0x7fea5491b0d0>"
      ]
     },
     "execution_count": 43,
     "metadata": {},
     "output_type": "execute_result"
    },
    {
     "data": {
      "image/png": "[encoded data removed]",
      "text/plain": [
       "<Figure size 432x288 with 1 Axes>"
      ]
     },
     "metadata": {
      "needs_background": "light"
     },
     "output_type": "display_data"
    }
   ],
   "source": [
    "plt.imshow(dataset[0])"
   ]
  },
  {
   "cell_type": "code",
   "execution_count": 30,
   "id": "f64a7aed-3df6-42f7-be69-f507b7220c5a",
   "metadata": {},
   "outputs": [
    {
     "data": {
      "text/plain": [
       "<imageio.plugins.pillow_legacy.PNGFormat.Reader at 0x7fea565d77c0>"
      ]
     },
     "execution_count": 30,
     "metadata": {},
     "output_type": "execute_result"
    }
   ],
   "source": [
    "dataset[0]"
   ]
  },
  {
   "cell_type": "code",
   "execution_count": null,
   "id": "f9a0cf3c-3e1e-4cad-93be-f04fd4fded09",
   "metadata": {},
   "outputs": [],
   "source": []
  },
  {
   "cell_type": "code",
   "execution_count": null,
   "id": "5565e86e-fa7b-4e64-bedc-ab21bb05cd3c",
   "metadata": {},
   "outputs": [],
   "source": []
  }
 ],
 "metadata": {
  "kernelspec": {
   "display_name": "Python 3 (ipykernel)",
   "language": "python",
   "name": "python3"
  },
  "language_info": {
   "codemirror_mode": {
    "name": "ipython",
    "version": 3
   },
   "file_extension": ".py",
   "mimetype": "text/x-python",
   "name": "python",
   "nbconvert_exporter": "python",
   "pygments_lexer": "ipython3",
   "version": "3.8.12"
  }
 },
 "nbformat": 4,
 "nbformat_minor": 5
}
