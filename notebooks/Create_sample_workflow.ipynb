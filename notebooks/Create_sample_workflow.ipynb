{
  "cells": [
    {
      "cell_type": "markdown",
      "source": [
        "# Create_sample_workflow notebook for NAAMES data from one day (20151107)"
      ],
      "metadata": {
        "id": "hIYcKjyqIGdh"
      }
    },
    {
      "cell_type": "markdown",
      "source": [
        "This notebook prepares plankton image data from an IFCB instrument for use in a machine learning test example. There are two data streams that are read in, a csv file containing one row of metadata for each image (~2 million total images), and a folder of plankton images in PNG format, with subfolders representing one IFCB sample each (each sample with 100s-1000s of images). The PNG data are converted to a 4d array and then used in a simple machine learning test case.\n",
        "\n",
        "Function for image pre-processing `preprocess_input` is from E. Culhane \\\n",
        "Machine Learning model set-up and training code are from the example: https://keras.io/examples/vision/mnist_convnet/ "
      ],
      "metadata": {
        "id": "XoYor9SdGbvv"
      }
    },
    {
      "cell_type": "markdown",
      "source": [
        "[![Open In Colab](https://colab.research.google.com/assets/colab-badge.svg)](https://colab.research.google.com/drive/1Ds0GNR9uNKWBy49_sLARCbn7hIAY9lfh?authuser=1#scrollTo=FpZyQpk5IzGh)\n",
        "\n"
      ],
      "metadata": {
        "id": "FpZyQpk5IzGh"
      }
    },
    {
      "cell_type": "code",
      "execution_count": null,
      "metadata": {
        "id": "n1ydE5cxXnVk"
      },
      "outputs": [],
      "source": [
        "import pandas as pd\n",
        "import matplotlib.pyplot as plt\n",
        "import matplotlib.image as mpimg\n",
        "import os \n",
        "from glob import glob\n",
        "import cv2\n",
        "import numpy as np\n",
        "from tensorflow import keras\n",
        "from tensorflow.keras import layers\n",
        "from sklearn.model_selection import train_test_split\n",
        "from sklearn.metrics import confusion_matrix"
      ]
    },
    {
      "cell_type": "code",
      "execution_count": null,
      "metadata": {
        "colab": {
          "base_uri": "https://localhost:8080/"
        },
        "id": "G3wzWm_TYFCM",
        "outputId": "2dc50e6e-1bbc-4549-c24e-b42765f55049"
      },
      "outputs": [
        {
          "output_type": "stream",
          "name": "stdout",
          "text": [
            "Mounted at /content/gdrive\n"
          ]
        }
      ],
      "source": [
        "from google.colab import drive\n",
        "\n",
        "drive.mount('/content/gdrive')"
      ]
    },
    {
      "cell_type": "code",
      "source": [
        "DATA_PATH = '/gdrive/MyDrive/UTOPIA/Data/'\n",
        "#NAAMES_DATA_PATH = 'gdrive/MyDrive/UTOPIA/Data/NAAMES_ml/'\n",
        "SAMPLE_DATA_PATH = 'gdrive/MyDrive/UTOPIA/Data/D20151107/'"
      ],
      "metadata": {
        "id": "yaEAaaYYAJ-J"
      },
      "execution_count": null,
      "outputs": []
    },
    {
      "cell_type": "markdown",
      "source": [
        "## buildPNGsName\n",
        "\n",
        "This function is to create the name of the png and the folder path that will match each row of data in the \"big\" file of metadata and group information."
      ],
      "metadata": {
        "id": "dx4tEL5n8hKT"
      }
    },
    {
      "cell_type": "code",
      "source": [
        "# build a list of PNGs that match the rows of subsampled metadata from image-file-directory.csv\n",
        "\n",
        "def buildPNGsName(imageid):\n",
        "  '''\n",
        "    Build a list of PNGs that match the rows of subsampled metadata\n",
        "    Inputs\n",
        "    ------\n",
        "      imageid (str):\n",
        "        example format: IFCB107D20151109T221417P00789\n",
        "      \n",
        "    Outputs\n",
        "    -------\n",
        "      png_name (str)\n",
        "        name of the png and the folder it belongs to (relative path). \n",
        "        example format: D20151128T170950_IFCB107/IFCB107D20151128T170950P00079.png\n",
        "        The folder name and the png name should match with exception of the underscore and the unique image id (PXXXXX)\n",
        "  '''\n",
        "  file_name = imageid + '.png'\n",
        "  datetime = imageid[-22:-6]\n",
        "  instrument_name = imageid[:-22]\n",
        "  folder_name = datetime + '_' + instrument_name\n",
        "  png_name = os.path.join(folder_name,file_name)\n",
        "  return png_name"
      ],
      "metadata": {
        "id": "c_kMlKpR8ZZf"
      },
      "execution_count": null,
      "outputs": []
    },
    {
      "cell_type": "markdown",
      "source": [
        "## Reading metadata image-by-row .csv file\n",
        "Also remove rows in the file without metadata"
      ],
      "metadata": {
        "id": "phMCSqm_NKoa"
      }
    },
    {
      "cell_type": "code",
      "execution_count": null,
      "metadata": {
        "id": "k9oqF-BzYKGY"
      },
      "outputs": [],
      "source": [
        "# this csv file contains ~2 million rows, one for each of the \"manually\" labeled images in the NAAMES dataset. \n",
        "csv_file = 'gdrive/MyDrive/UTOPIA/Data/image-file-directory.csv'"
      ]
    },
    {
      "cell_type": "code",
      "execution_count": null,
      "metadata": {
        "id": "z7UbupsWYc4U"
      },
      "outputs": [],
      "source": [
        "# define dataframe of the entire csv file\n",
        "df = pd.read_csv(csv_file)"
      ]
    },
    {
      "cell_type": "code",
      "source": [
        "# add a column of the png path to the df datafram\n",
        "df['png_path'] = df['id'].apply(lambda row : buildPNGsName(row))"
      ],
      "metadata": {
        "id": "pYToceTU7xst"
      },
      "execution_count": null,
      "outputs": []
    },
    {
      "cell_type": "code",
      "execution_count": null,
      "metadata": {
        "colab": {
          "base_uri": "https://localhost:8080/",
          "height": 270
        },
        "id": "nfnkSy3CY1VW",
        "outputId": "19e756ae-1757-4609-c77d-3e50eb93cd38"
      },
      "outputs": [
        {
          "output_type": "execute_result",
          "data": {
            "text/html": [
              "\n",
              "  <div id=\"df-a61a7b36-42c8-4d58-9bf5-d0ea78f94d41\">\n",
              "    <div class=\"colab-df-container\">\n",
              "      <div>\n",
              "<style scoped>\n",
              "    .dataframe tbody tr th:only-of-type {\n",
              "        vertical-align: middle;\n",
              "    }\n",
              "\n",
              "    .dataframe tbody tr th {\n",
              "        vertical-align: top;\n",
              "    }\n",
              "\n",
              "    .dataframe thead th {\n",
              "        text-align: right;\n",
              "    }\n",
              "</style>\n",
              "<table border=\"1\" class=\"dataframe\">\n",
              "  <thead>\n",
              "    <tr style=\"text-align: right;\">\n",
              "      <th></th>\n",
              "      <th>file_name</th>\n",
              "      <th>class_raw</th>\n",
              "      <th>high_group</th>\n",
              "      <th>missing_high_group</th>\n",
              "      <th>id</th>\n",
              "      <th>lat</th>\n",
              "      <th>long</th>\n",
              "      <th>Area</th>\n",
              "      <th>Biovolume</th>\n",
              "      <th>ConvexArea</th>\n",
              "      <th>ConvexPerimeter</th>\n",
              "      <th>FeretDiameter</th>\n",
              "      <th>MajorAxisLength</th>\n",
              "      <th>MinorAxisLength</th>\n",
              "      <th>Perimeter</th>\n",
              "      <th>ESDA</th>\n",
              "      <th>ESDV</th>\n",
              "      <th>PA</th>\n",
              "      <th>ScatInt</th>\n",
              "      <th>FluoInt</th>\n",
              "      <th>ScatPeak</th>\n",
              "      <th>FluoPeak</th>\n",
              "      <th>NumberOfROIinTrigger</th>\n",
              "      <th>missing_meta_data</th>\n",
              "      <th>ESDA_exclude</th>\n",
              "      <th>excluded_1</th>\n",
              "      <th>set</th>\n",
              "      <th>binary_label</th>\n",
              "      <th>png_path</th>\n",
              "    </tr>\n",
              "  </thead>\n",
              "  <tbody>\n",
              "    <tr>\n",
              "      <th>0</th>\n",
              "      <td>IFCB107D20151104T112022P00433_Unicellular.png</td>\n",
              "      <td>Unicellular</td>\n",
              "      <td>Other</td>\n",
              "      <td>False</td>\n",
              "      <td>IFCB107D20151104T112022P00433</td>\n",
              "      <td>NaN</td>\n",
              "      <td>NaN</td>\n",
              "      <td>NaN</td>\n",
              "      <td>NaN</td>\n",
              "      <td>NaN</td>\n",
              "      <td>NaN</td>\n",
              "      <td>NaN</td>\n",
              "      <td>NaN</td>\n",
              "      <td>NaN</td>\n",
              "      <td>NaN</td>\n",
              "      <td>NaN</td>\n",
              "      <td>NaN</td>\n",
              "      <td>NaN</td>\n",
              "      <td>NaN</td>\n",
              "      <td>NaN</td>\n",
              "      <td>NaN</td>\n",
              "      <td>NaN</td>\n",
              "      <td>NaN</td>\n",
              "      <td>True</td>\n",
              "      <td>False</td>\n",
              "      <td>1</td>\n",
              "      <td>train</td>\n",
              "      <td>plankton</td>\n",
              "      <td>D20151104T112022_IFCB107/IFCB107D20151104T1120...</td>\n",
              "    </tr>\n",
              "    <tr>\n",
              "      <th>1</th>\n",
              "      <td>IFCB107D20151104T114135P00194_Unicellular.png</td>\n",
              "      <td>Unicellular</td>\n",
              "      <td>Other</td>\n",
              "      <td>False</td>\n",
              "      <td>IFCB107D20151104T114135P00194</td>\n",
              "      <td>NaN</td>\n",
              "      <td>NaN</td>\n",
              "      <td>NaN</td>\n",
              "      <td>NaN</td>\n",
              "      <td>NaN</td>\n",
              "      <td>NaN</td>\n",
              "      <td>NaN</td>\n",
              "      <td>NaN</td>\n",
              "      <td>NaN</td>\n",
              "      <td>NaN</td>\n",
              "      <td>NaN</td>\n",
              "      <td>NaN</td>\n",
              "      <td>NaN</td>\n",
              "      <td>NaN</td>\n",
              "      <td>NaN</td>\n",
              "      <td>NaN</td>\n",
              "      <td>NaN</td>\n",
              "      <td>NaN</td>\n",
              "      <td>True</td>\n",
              "      <td>False</td>\n",
              "      <td>1</td>\n",
              "      <td>train</td>\n",
              "      <td>plankton</td>\n",
              "      <td>D20151104T114135_IFCB107/IFCB107D20151104T1141...</td>\n",
              "    </tr>\n",
              "    <tr>\n",
              "      <th>2</th>\n",
              "      <td>IFCB107D20151104T114135P00246_Unicellular.png</td>\n",
              "      <td>Unicellular</td>\n",
              "      <td>Other</td>\n",
              "      <td>False</td>\n",
              "      <td>IFCB107D20151104T114135P00246</td>\n",
              "      <td>NaN</td>\n",
              "      <td>NaN</td>\n",
              "      <td>NaN</td>\n",
              "      <td>NaN</td>\n",
              "      <td>NaN</td>\n",
              "      <td>NaN</td>\n",
              "      <td>NaN</td>\n",
              "      <td>NaN</td>\n",
              "      <td>NaN</td>\n",
              "      <td>NaN</td>\n",
              "      <td>NaN</td>\n",
              "      <td>NaN</td>\n",
              "      <td>NaN</td>\n",
              "      <td>NaN</td>\n",
              "      <td>NaN</td>\n",
              "      <td>NaN</td>\n",
              "      <td>NaN</td>\n",
              "      <td>NaN</td>\n",
              "      <td>True</td>\n",
              "      <td>False</td>\n",
              "      <td>1</td>\n",
              "      <td>train</td>\n",
              "      <td>plankton</td>\n",
              "      <td>D20151104T114135_IFCB107/IFCB107D20151104T1141...</td>\n",
              "    </tr>\n",
              "    <tr>\n",
              "      <th>3</th>\n",
              "      <td>IFCB107D20151104T124515P00027_Unicellular.png</td>\n",
              "      <td>Unicellular</td>\n",
              "      <td>Other</td>\n",
              "      <td>False</td>\n",
              "      <td>IFCB107D20151104T124515P00027</td>\n",
              "      <td>NaN</td>\n",
              "      <td>NaN</td>\n",
              "      <td>NaN</td>\n",
              "      <td>NaN</td>\n",
              "      <td>NaN</td>\n",
              "      <td>NaN</td>\n",
              "      <td>NaN</td>\n",
              "      <td>NaN</td>\n",
              "      <td>NaN</td>\n",
              "      <td>NaN</td>\n",
              "      <td>NaN</td>\n",
              "      <td>NaN</td>\n",
              "      <td>NaN</td>\n",
              "      <td>NaN</td>\n",
              "      <td>NaN</td>\n",
              "      <td>NaN</td>\n",
              "      <td>NaN</td>\n",
              "      <td>NaN</td>\n",
              "      <td>True</td>\n",
              "      <td>False</td>\n",
              "      <td>1</td>\n",
              "      <td>train</td>\n",
              "      <td>plankton</td>\n",
              "      <td>D20151104T124515_IFCB107/IFCB107D20151104T1245...</td>\n",
              "    </tr>\n",
              "    <tr>\n",
              "      <th>4</th>\n",
              "      <td>IFCB107D20151105T174918P00074_Dinophyceae.png</td>\n",
              "      <td>Dinophyceae</td>\n",
              "      <td>Dinoflagellate</td>\n",
              "      <td>False</td>\n",
              "      <td>IFCB107D20151105T174918P00074</td>\n",
              "      <td>NaN</td>\n",
              "      <td>NaN</td>\n",
              "      <td>NaN</td>\n",
              "      <td>NaN</td>\n",
              "      <td>NaN</td>\n",
              "      <td>NaN</td>\n",
              "      <td>NaN</td>\n",
              "      <td>NaN</td>\n",
              "      <td>NaN</td>\n",
              "      <td>NaN</td>\n",
              "      <td>NaN</td>\n",
              "      <td>NaN</td>\n",
              "      <td>NaN</td>\n",
              "      <td>NaN</td>\n",
              "      <td>NaN</td>\n",
              "      <td>NaN</td>\n",
              "      <td>NaN</td>\n",
              "      <td>NaN</td>\n",
              "      <td>True</td>\n",
              "      <td>False</td>\n",
              "      <td>1</td>\n",
              "      <td>train</td>\n",
              "      <td>plankton</td>\n",
              "      <td>D20151105T174918_IFCB107/IFCB107D20151105T1749...</td>\n",
              "    </tr>\n",
              "  </tbody>\n",
              "</table>\n",
              "</div>\n",
              "      <button class=\"colab-df-convert\" onclick=\"convertToInteractive('df-a61a7b36-42c8-4d58-9bf5-d0ea78f94d41')\"\n",
              "              title=\"Convert this dataframe to an interactive table.\"\n",
              "              style=\"display:none;\">\n",
              "        \n",
              "  <svg xmlns=\"http://www.w3.org/2000/svg\" height=\"24px\"viewBox=\"0 0 24 24\"\n",
              "       width=\"24px\">\n",
              "    <path d=\"M0 0h24v24H0V0z\" fill=\"none\"/>\n",
              "    <path d=\"M18.56 5.44l.94 2.06.94-2.06 2.06-.94-2.06-.94-.94-2.06-.94 2.06-2.06.94zm-11 1L8.5 8.5l.94-2.06 2.06-.94-2.06-.94L8.5 2.5l-.94 2.06-2.06.94zm10 10l.94 2.06.94-2.06 2.06-.94-2.06-.94-.94-2.06-.94 2.06-2.06.94z\"/><path d=\"M17.41 7.96l-1.37-1.37c-.4-.4-.92-.59-1.43-.59-.52 0-1.04.2-1.43.59L10.3 9.45l-7.72 7.72c-.78.78-.78 2.05 0 2.83L4 21.41c.39.39.9.59 1.41.59.51 0 1.02-.2 1.41-.59l7.78-7.78 2.81-2.81c.8-.78.8-2.07 0-2.86zM5.41 20L4 18.59l7.72-7.72 1.47 1.35L5.41 20z\"/>\n",
              "  </svg>\n",
              "      </button>\n",
              "      \n",
              "  <style>\n",
              "    .colab-df-container {\n",
              "      display:flex;\n",
              "      flex-wrap:wrap;\n",
              "      gap: 12px;\n",
              "    }\n",
              "\n",
              "    .colab-df-convert {\n",
              "      background-color: #E8F0FE;\n",
              "      border: none;\n",
              "      border-radius: 50%;\n",
              "      cursor: pointer;\n",
              "      display: none;\n",
              "      fill: #1967D2;\n",
              "      height: 32px;\n",
              "      padding: 0 0 0 0;\n",
              "      width: 32px;\n",
              "    }\n",
              "\n",
              "    .colab-df-convert:hover {\n",
              "      background-color: #E2EBFA;\n",
              "      box-shadow: 0px 1px 2px rgba(60, 64, 67, 0.3), 0px 1px 3px 1px rgba(60, 64, 67, 0.15);\n",
              "      fill: #174EA6;\n",
              "    }\n",
              "\n",
              "    [theme=dark] .colab-df-convert {\n",
              "      background-color: #3B4455;\n",
              "      fill: #D2E3FC;\n",
              "    }\n",
              "\n",
              "    [theme=dark] .colab-df-convert:hover {\n",
              "      background-color: #434B5C;\n",
              "      box-shadow: 0px 1px 3px 1px rgba(0, 0, 0, 0.15);\n",
              "      filter: drop-shadow(0px 1px 2px rgba(0, 0, 0, 0.3));\n",
              "      fill: #FFFFFF;\n",
              "    }\n",
              "  </style>\n",
              "\n",
              "      <script>\n",
              "        const buttonEl =\n",
              "          document.querySelector('#df-a61a7b36-42c8-4d58-9bf5-d0ea78f94d41 button.colab-df-convert');\n",
              "        buttonEl.style.display =\n",
              "          google.colab.kernel.accessAllowed ? 'block' : 'none';\n",
              "\n",
              "        async function convertToInteractive(key) {\n",
              "          const element = document.querySelector('#df-a61a7b36-42c8-4d58-9bf5-d0ea78f94d41');\n",
              "          const dataTable =\n",
              "            await google.colab.kernel.invokeFunction('convertToInteractive',\n",
              "                                                     [key], {});\n",
              "          if (!dataTable) return;\n",
              "\n",
              "          const docLinkHtml = 'Like what you see? Visit the ' +\n",
              "            '<a target=\"_blank\" href=https://colab.research.google.com/notebooks/data_table.ipynb>data table notebook</a>'\n",
              "            + ' to learn more about interactive tables.';\n",
              "          element.innerHTML = '';\n",
              "          dataTable['output_type'] = 'display_data';\n",
              "          await google.colab.output.renderOutput(dataTable, element);\n",
              "          const docLink = document.createElement('div');\n",
              "          docLink.innerHTML = docLinkHtml;\n",
              "          element.appendChild(docLink);\n",
              "        }\n",
              "      </script>\n",
              "    </div>\n",
              "  </div>\n",
              "  "
            ],
            "text/plain": [
              "                                       file_name  ...                                           png_path\n",
              "0  IFCB107D20151104T112022P00433_Unicellular.png  ...  D20151104T112022_IFCB107/IFCB107D20151104T1120...\n",
              "1  IFCB107D20151104T114135P00194_Unicellular.png  ...  D20151104T114135_IFCB107/IFCB107D20151104T1141...\n",
              "2  IFCB107D20151104T114135P00246_Unicellular.png  ...  D20151104T114135_IFCB107/IFCB107D20151104T1141...\n",
              "3  IFCB107D20151104T124515P00027_Unicellular.png  ...  D20151104T124515_IFCB107/IFCB107D20151104T1245...\n",
              "4  IFCB107D20151105T174918P00074_Dinophyceae.png  ...  D20151105T174918_IFCB107/IFCB107D20151105T1749...\n",
              "\n",
              "[5 rows x 29 columns]"
            ]
          },
          "metadata": {},
          "execution_count": 8
        }
      ],
      "source": [
        "# check the first five rows \n",
        "df.head()"
      ]
    },
    {
      "cell_type": "code",
      "execution_count": null,
      "metadata": {
        "colab": {
          "base_uri": "https://localhost:8080/"
        },
        "id": "l_pbjnQwZyXo",
        "outputId": "4b44891b-1e02-47c2-fd5d-bef367b569d9"
      },
      "outputs": [
        {
          "output_type": "execute_result",
          "data": {
            "text/plain": [
              "(1998900, 29)"
            ]
          },
          "metadata": {},
          "execution_count": 9
        }
      ],
      "source": [
        "# check the size of the dataframe\n",
        "df.shape"
      ]
    },
    {
      "cell_type": "markdown",
      "source": [
        "Remove rows in the dataframe without metadata (132,781 out of ~2 million)"
      ],
      "metadata": {
        "id": "krONUEEnNj17"
      }
    },
    {
      "cell_type": "code",
      "execution_count": null,
      "metadata": {
        "colab": {
          "base_uri": "https://localhost:8080/"
        },
        "id": "GWabqRc0aBqK",
        "outputId": "e40ecf89-a5b6-4fca-910c-f27868d87f8f"
      },
      "outputs": [
        {
          "output_type": "execute_result",
          "data": {
            "text/plain": [
              "0           True\n",
              "1           True\n",
              "2           True\n",
              "3           True\n",
              "4           True\n",
              "           ...  \n",
              "1998895    False\n",
              "1998896    False\n",
              "1998897    False\n",
              "1998898    False\n",
              "1998899    False\n",
              "Name: missing_meta_data, Length: 1998900, dtype: bool"
            ]
          },
          "metadata": {},
          "execution_count": 8
        }
      ],
      "source": [
        "df.missing_meta_data == True"
      ]
    },
    {
      "cell_type": "code",
      "execution_count": null,
      "metadata": {
        "colab": {
          "base_uri": "https://localhost:8080/"
        },
        "id": "Hmcm0rBjaXKt",
        "outputId": "9e8d840f-99f7-4d33-bd7b-e3268411a961"
      },
      "outputs": [
        {
          "output_type": "execute_result",
          "data": {
            "text/plain": [
              "(132781, 28)"
            ]
          },
          "metadata": {},
          "execution_count": 9
        }
      ],
      "source": [
        "df[df.missing_meta_data == True].shape"
      ]
    },
    {
      "cell_type": "code",
      "execution_count": null,
      "metadata": {
        "id": "-mHR_hRJaijh"
      },
      "outputs": [],
      "source": [
        "df_metadata = df[df.missing_meta_data == False]"
      ]
    },
    {
      "cell_type": "code",
      "execution_count": null,
      "metadata": {
        "colab": {
          "base_uri": "https://localhost:8080/"
        },
        "id": "WoynXAXraz7M",
        "outputId": "86053d3b-bb86-482e-d4e1-c710c5ba1a5a"
      },
      "outputs": [
        {
          "output_type": "execute_result",
          "data": {
            "text/plain": [
              "(1866119, 28)"
            ]
          },
          "metadata": {},
          "execution_count": 11
        }
      ],
      "source": [
        "df_metadata.shape"
      ]
    },
    {
      "cell_type": "code",
      "execution_count": null,
      "metadata": {
        "colab": {
          "base_uri": "https://localhost:8080/",
          "height": 359
        },
        "id": "__HUhZK-a1ei",
        "outputId": "dbf349fd-1461-469b-cdce-cc1fdb1105da"
      },
      "outputs": [
        {
          "output_type": "execute_result",
          "data": {
            "text/plain": [
              "([0, 1, 2, 3, 4, 5, 6, 7, 8, 9, 10, 11, 12, 13, 14, 15, 16],\n",
              " <a list of 17 Text major ticklabel objects>)"
            ]
          },
          "metadata": {},
          "execution_count": 12
        },
        {
          "output_type": "display_data",
          "data": {
            "image/png": "[encoded data removed]",
            "text/plain": [
              "<Figure size 432x288 with 1 Axes>"
            ]
          },
          "metadata": {
            "needs_background": "light"
          }
        }
      ],
      "source": [
        "# plot distribution of types (coarse taxonomic resolution; column named \"high_group\")\n",
        "# need to define the number of bin to plot correctly\n",
        "df_metadata.high_group.hist(bins=17) \n",
        "plt.xticks(rotation = 45)"
      ]
    },
    {
      "cell_type": "code",
      "execution_count": null,
      "metadata": {
        "colab": {
          "base_uri": "https://localhost:8080/"
        },
        "id": "LK8Jcxewbx-R",
        "outputId": "178e5366-a828-4cc1-ea37-04f162fa0408"
      },
      "outputs": [
        {
          "output_type": "execute_result",
          "data": {
            "text/plain": [
              "Other             1155984\n",
              "Diatom             200173\n",
              "Dinoflagellate     135342\n",
              "Corrupt            113552\n",
              "Not living          80816\n",
              "Eugleno             61572\n",
              "Crypto              42171\n",
              "Multiple            29359\n",
              "Prymnesio           20176\n",
              "Chloro              11990\n",
              "Dictyo              11228\n",
              "Cilliate             3386\n",
              "Artefact              179\n",
              "Rhizaria              110\n",
              "Cyanobacteria          48\n",
              "Zoo                    20\n",
              "Chryso                 13\n",
              "Name: high_group, dtype: int64"
            ]
          },
          "metadata": {},
          "execution_count": 13
        }
      ],
      "source": [
        "df_metadata.high_group.value_counts()"
      ]
    },
    {
      "cell_type": "code",
      "execution_count": null,
      "metadata": {
        "colab": {
          "base_uri": "https://localhost:8080/"
        },
        "id": "h5DesMdHc0M3",
        "outputId": "c63db8d0-b983-4533-e9bb-3f124ba2b587"
      },
      "outputs": [
        {
          "output_type": "execute_result",
          "data": {
            "text/plain": [
              "array(['Other', 'Not living', 'Corrupt', 'Dinoflagellate', 'Diatom',\n",
              "       'Chloro', 'Crypto', 'Prymnesio', 'Eugleno', 'Multiple', 'Artefact',\n",
              "       'Dictyo', 'Cilliate', 'Chryso', 'Rhizaria', 'Zoo', 'Cyanobacteria'],\n",
              "      dtype=object)"
            ]
          },
          "metadata": {},
          "execution_count": 14
        }
      ],
      "source": [
        "df_metadata.high_group.unique()"
      ]
    },
    {
      "cell_type": "markdown",
      "source": [
        "### *Testing* to create PNG names from IDs in sample df"
      ],
      "metadata": {
        "id": "9wK-SfI0OYTh"
      }
    },
    {
      "cell_type": "code",
      "execution_count": null,
      "metadata": {
        "id": "1MyE7HuDunnW",
        "colab": {
          "base_uri": "https://localhost:8080/",
          "height": 166
        },
        "outputId": "77de3d54-d3fb-4076-baec-617724505d42"
      },
      "outputs": [
        {
          "output_type": "error",
          "ename": "NameError",
          "evalue": "ignored",
          "traceback": [
            "\u001b[0;31m---------------------------------------------------------------------------\u001b[0m",
            "\u001b[0;31mNameError\u001b[0m                                 Traceback (most recent call last)",
            "\u001b[0;32m<ipython-input-27-8f37a4390810>\u001b[0m in \u001b[0;36m<module>\u001b[0;34m()\u001b[0m\n\u001b[0;32m----> 1\u001b[0;31m \u001b[0mid\u001b[0m \u001b[0;34m=\u001b[0m \u001b[0msample_df\u001b[0m\u001b[0;34m.\u001b[0m\u001b[0mid\u001b[0m\u001b[0;34m[\u001b[0m\u001b[0;36m0\u001b[0m\u001b[0;34m]\u001b[0m\u001b[0;34m\u001b[0m\u001b[0;34m\u001b[0m\u001b[0m\n\u001b[0m",
            "\u001b[0;31mNameError\u001b[0m: name 'sample_df' is not defined"
          ]
        }
      ],
      "source": [
        "id = sample_df.id[0]"
      ]
    },
    {
      "cell_type": "code",
      "execution_count": null,
      "metadata": {
        "id": "bvUQpWSjvG4T"
      },
      "outputs": [],
      "source": [
        "file_name = id + '.png'"
      ]
    },
    {
      "cell_type": "markdown",
      "metadata": {
        "id": "ecXvVN6kycZ9"
      },
      "source": [
        "This matching between png and filename id will only work with the current filename formatting \n",
        "\n",
        "folder format: D20180909T015237_IFCB107\n",
        "\n",
        "*strip last 6 characters (e.g. P00000)\n",
        "\n",
        "*date time is 16 characters"
      ]
    },
    {
      "cell_type": "code",
      "execution_count": null,
      "metadata": {
        "id": "H2wt6ns-zqvA"
      },
      "outputs": [],
      "source": [
        "datetime = id[-22:-6]"
      ]
    },
    {
      "cell_type": "code",
      "execution_count": null,
      "metadata": {
        "id": "Sf7IBs8Lzw3Q"
      },
      "outputs": [],
      "source": [
        "instrument_name = id[:-22]"
      ]
    },
    {
      "cell_type": "code",
      "execution_count": null,
      "metadata": {
        "id": "dkFfF0dv0Vtf"
      },
      "outputs": [],
      "source": [
        "folder_name = instrument_name + '_' + datetime"
      ]
    },
    {
      "cell_type": "code",
      "execution_count": null,
      "metadata": {
        "id": "1tQaR3pC0yG8"
      },
      "outputs": [],
      "source": [
        "os.path.join(folder_name,file_name)"
      ]
    },
    {
      "cell_type": "markdown",
      "source": [
        "### Select the top 11 groups with the most number of images"
      ],
      "metadata": {
        "id": "4uXikXt2OH4O"
      }
    },
    {
      "cell_type": "code",
      "execution_count": null,
      "metadata": {
        "id": "Gw_YRw2SfK9L"
      },
      "outputs": [],
      "source": [
        "list_groups = list(df_metadata.high_group.unique()[0:10])\n",
        "list_groups.append('Dictyo')"
      ]
    },
    {
      "cell_type": "code",
      "execution_count": null,
      "metadata": {
        "id": "bgtYXrJ5f7LU"
      },
      "outputs": [],
      "source": [
        "df_11groups = df_metadata.loc[df_metadata[\"high_group\"].isin(list_groups)]"
      ]
    },
    {
      "cell_type": "markdown",
      "source": [
        "## Proportional sampling \n",
        "\n",
        "Sampling is proportional to the distribtion of the 11 groups; all groups do not have the same number of images"
      ],
      "metadata": {
        "id": "LeeufCJLOkam"
      }
    },
    {
      "cell_type": "markdown",
      "source": [
        "Sample_df is 1% of all images of the top 11 groups (out of 17), after the rows without metadata have been removed. "
      ],
      "metadata": {
        "id": "nEgEODJQ7as5"
      }
    },
    {
      "cell_type": "code",
      "execution_count": null,
      "metadata": {
        "id": "7OFBdcQ_ic7g"
      },
      "outputs": [],
      "source": [
        "sample_df = df_11groups.groupby('high_group').apply(lambda x: x.sample(frac=0.01))"
      ]
    },
    {
      "cell_type": "code",
      "execution_count": null,
      "metadata": {
        "colab": {
          "base_uri": "https://localhost:8080/"
        },
        "id": "b50i9p_rrYiD",
        "outputId": "81c2a46e-e349-43fa-b0af-da7be8917136"
      },
      "outputs": [
        {
          "output_type": "execute_result",
          "data": {
            "text/plain": [
              "(18625, 28)"
            ]
          },
          "metadata": {},
          "execution_count": 23
        }
      ],
      "source": [
        "sample_df.shape"
      ]
    },
    {
      "cell_type": "code",
      "execution_count": null,
      "metadata": {
        "colab": {
          "base_uri": "https://localhost:8080/"
        },
        "id": "b-r-VQzdrh9i",
        "outputId": "71b722eb-9935-4ddd-9a92-168c8404ad8c"
      },
      "outputs": [
        {
          "output_type": "execute_result",
          "data": {
            "text/plain": [
              "Other             11560\n",
              "Diatom             2002\n",
              "Dinoflagellate     1353\n",
              "Corrupt            1136\n",
              "Not living          808\n",
              "Eugleno             616\n",
              "Crypto              422\n",
              "Multiple            294\n",
              "Prymnesio           202\n",
              "Chloro              120\n",
              "Dictyo              112\n",
              "Name: high_group, dtype: int64"
            ]
          },
          "metadata": {},
          "execution_count": 24
        }
      ],
      "source": [
        "sample_df.high_group.value_counts()"
      ]
    },
    {
      "cell_type": "code",
      "execution_count": null,
      "metadata": {
        "colab": {
          "base_uri": "https://localhost:8080/",
          "height": 348
        },
        "id": "azcAzzGwrm0Y",
        "outputId": "33c61346-d785-49de-f09c-34ab533209ea"
      },
      "outputs": [
        {
          "output_type": "execute_result",
          "data": {
            "text/plain": [
              "([0, 1, 2, 3, 4, 5, 6, 7, 8, 9, 10],\n",
              " <a list of 11 Text major ticklabel objects>)"
            ]
          },
          "metadata": {},
          "execution_count": 25
        },
        {
          "output_type": "display_data",
          "data": {
            "image/png": "[encoded data removed]",
            "text/plain": [
              "<Figure size 432x288 with 1 Axes>"
            ]
          },
          "metadata": {
            "needs_background": "light"
          }
        }
      ],
      "source": [
        "sample_df.high_group.hist(bins=11)\n",
        "plt.xticks(rotation = 45)"
      ]
    },
    {
      "cell_type": "code",
      "execution_count": null,
      "metadata": {
        "colab": {
          "base_uri": "https://localhost:8080/"
        },
        "id": "LEnWo6EssvlG",
        "outputId": "38d536a9-accf-4f43-9461-005ee8c9ce62"
      },
      "outputs": [
        {
          "output_type": "execute_result",
          "data": {
            "text/plain": [
              "18625"
            ]
          },
          "metadata": {},
          "execution_count": 26
        }
      ],
      "source": [
        "sample_df.head()\n",
        "len(sample_df)"
      ]
    },
    {
      "cell_type": "markdown",
      "source": [
        "## Make the sample using the first rows of the file\n",
        "\n",
        "This sample was used to try to reduce the file size and match to the early dates of NAAMES IFCB data"
      ],
      "metadata": {
        "id": "_QPqlvEi70ZQ"
      }
    },
    {
      "cell_type": "code",
      "source": [
        "df_begining = df_11groups.iloc[:10000]"
      ],
      "metadata": {
        "id": "4AGt65wY9rDW"
      },
      "execution_count": null,
      "outputs": []
    },
    {
      "cell_type": "code",
      "source": [
        "df_begining.tail()"
      ],
      "metadata": {
        "colab": {
          "base_uri": "https://localhost:8080/",
          "height": 270
        },
        "id": "ettiMUSF-cHO",
        "outputId": "f1b41791-1ad1-4ddd-ce36-9855ba79a2c4"
      },
      "execution_count": null,
      "outputs": [
        {
          "output_type": "execute_result",
          "data": {
            "text/html": [
              "\n",
              "  <div id=\"df-b9cffcc3-880a-45ac-9067-d0ca96a72462\">\n",
              "    <div class=\"colab-df-container\">\n",
              "      <div>\n",
              "<style scoped>\n",
              "    .dataframe tbody tr th:only-of-type {\n",
              "        vertical-align: middle;\n",
              "    }\n",
              "\n",
              "    .dataframe tbody tr th {\n",
              "        vertical-align: top;\n",
              "    }\n",
              "\n",
              "    .dataframe thead th {\n",
              "        text-align: right;\n",
              "    }\n",
              "</style>\n",
              "<table border=\"1\" class=\"dataframe\">\n",
              "  <thead>\n",
              "    <tr style=\"text-align: right;\">\n",
              "      <th></th>\n",
              "      <th>file_name</th>\n",
              "      <th>class_raw</th>\n",
              "      <th>high_group</th>\n",
              "      <th>missing_high_group</th>\n",
              "      <th>id</th>\n",
              "      <th>lat</th>\n",
              "      <th>long</th>\n",
              "      <th>Area</th>\n",
              "      <th>Biovolume</th>\n",
              "      <th>ConvexArea</th>\n",
              "      <th>ConvexPerimeter</th>\n",
              "      <th>FeretDiameter</th>\n",
              "      <th>MajorAxisLength</th>\n",
              "      <th>MinorAxisLength</th>\n",
              "      <th>Perimeter</th>\n",
              "      <th>ESDA</th>\n",
              "      <th>ESDV</th>\n",
              "      <th>PA</th>\n",
              "      <th>ScatInt</th>\n",
              "      <th>FluoInt</th>\n",
              "      <th>ScatPeak</th>\n",
              "      <th>FluoPeak</th>\n",
              "      <th>NumberOfROIinTrigger</th>\n",
              "      <th>missing_meta_data</th>\n",
              "      <th>ESDA_exclude</th>\n",
              "      <th>excluded_1</th>\n",
              "      <th>set</th>\n",
              "      <th>binary_label</th>\n",
              "    </tr>\n",
              "  </thead>\n",
              "  <tbody>\n",
              "    <tr>\n",
              "      <th>14399</th>\n",
              "      <td>IFCB107D20151109T045036P00118_Unicellular.png</td>\n",
              "      <td>Unicellular</td>\n",
              "      <td>Other</td>\n",
              "      <td>False</td>\n",
              "      <td>IFCB107D20151109T045036P00118</td>\n",
              "      <td>43.999</td>\n",
              "      <td>-57.2347</td>\n",
              "      <td>32.525952</td>\n",
              "      <td>110.024483</td>\n",
              "      <td>41.522491</td>\n",
              "      <td>25.560196</td>\n",
              "      <td>16.029412</td>\n",
              "      <td>7.594388</td>\n",
              "      <td>5.832517</td>\n",
              "      <td>26.742059</td>\n",
              "      <td>6.435319</td>\n",
              "      <td>5.945160</td>\n",
              "      <td>0.822176</td>\n",
              "      <td>0.00241</td>\n",
              "      <td>0.00304</td>\n",
              "      <td>0.01103</td>\n",
              "      <td>0.13353</td>\n",
              "      <td>1.0</td>\n",
              "      <td>False</td>\n",
              "      <td>True</td>\n",
              "      <td>1</td>\n",
              "      <td>train</td>\n",
              "      <td>plankton</td>\n",
              "    </tr>\n",
              "    <tr>\n",
              "      <th>14400</th>\n",
              "      <td>IFCB107D20151109T045036P00122_Unicellular.png</td>\n",
              "      <td>Unicellular</td>\n",
              "      <td>Other</td>\n",
              "      <td>False</td>\n",
              "      <td>IFCB107D20151109T045036P00122</td>\n",
              "      <td>43.999</td>\n",
              "      <td>-57.2347</td>\n",
              "      <td>33.996540</td>\n",
              "      <td>124.911559</td>\n",
              "      <td>36.159170</td>\n",
              "      <td>22.385151</td>\n",
              "      <td>14.852941</td>\n",
              "      <td>7.026635</td>\n",
              "      <td>6.258711</td>\n",
              "      <td>21.714118</td>\n",
              "      <td>6.579190</td>\n",
              "      <td>6.202042</td>\n",
              "      <td>0.638716</td>\n",
              "      <td>0.00212</td>\n",
              "      <td>0.00310</td>\n",
              "      <td>0.01106</td>\n",
              "      <td>0.13786</td>\n",
              "      <td>1.0</td>\n",
              "      <td>False</td>\n",
              "      <td>True</td>\n",
              "      <td>1</td>\n",
              "      <td>train</td>\n",
              "      <td>plankton</td>\n",
              "    </tr>\n",
              "    <tr>\n",
              "      <th>14401</th>\n",
              "      <td>IFCB107D20151109T045036P00124_Unicellular.png</td>\n",
              "      <td>Unicellular</td>\n",
              "      <td>Other</td>\n",
              "      <td>False</td>\n",
              "      <td>IFCB107D20151109T045036P00124</td>\n",
              "      <td>43.999</td>\n",
              "      <td>-57.2347</td>\n",
              "      <td>32.439446</td>\n",
              "      <td>76.813315</td>\n",
              "      <td>37.110727</td>\n",
              "      <td>26.574625</td>\n",
              "      <td>17.205882</td>\n",
              "      <td>9.934640</td>\n",
              "      <td>4.525813</td>\n",
              "      <td>26.012059</td>\n",
              "      <td>6.426755</td>\n",
              "      <td>5.274071</td>\n",
              "      <td>0.801865</td>\n",
              "      <td>0.00182</td>\n",
              "      <td>-0.00097</td>\n",
              "      <td>0.01089</td>\n",
              "      <td>0.01173</td>\n",
              "      <td>1.0</td>\n",
              "      <td>False</td>\n",
              "      <td>True</td>\n",
              "      <td>1</td>\n",
              "      <td>train</td>\n",
              "      <td>plankton</td>\n",
              "    </tr>\n",
              "    <tr>\n",
              "      <th>14402</th>\n",
              "      <td>IFCB107D20151109T045036P00126_Unicellular.png</td>\n",
              "      <td>Unicellular</td>\n",
              "      <td>Other</td>\n",
              "      <td>False</td>\n",
              "      <td>IFCB107D20151109T045036P00126</td>\n",
              "      <td>43.999</td>\n",
              "      <td>-57.2347</td>\n",
              "      <td>31.487889</td>\n",
              "      <td>81.654821</td>\n",
              "      <td>39.446367</td>\n",
              "      <td>23.309459</td>\n",
              "      <td>13.382353</td>\n",
              "      <td>8.303241</td>\n",
              "      <td>5.295213</td>\n",
              "      <td>24.407059</td>\n",
              "      <td>6.331795</td>\n",
              "      <td>5.382628</td>\n",
              "      <td>0.775125</td>\n",
              "      <td>0.00234</td>\n",
              "      <td>0.00344</td>\n",
              "      <td>0.01103</td>\n",
              "      <td>0.12197</td>\n",
              "      <td>1.0</td>\n",
              "      <td>False</td>\n",
              "      <td>True</td>\n",
              "      <td>1</td>\n",
              "      <td>test</td>\n",
              "      <td>plankton</td>\n",
              "    </tr>\n",
              "    <tr>\n",
              "      <th>14403</th>\n",
              "      <td>IFCB107D20151109T045036P00127_Unicellular.png</td>\n",
              "      <td>Unicellular</td>\n",
              "      <td>Other</td>\n",
              "      <td>False</td>\n",
              "      <td>IFCB107D20151109T045036P00127</td>\n",
              "      <td>43.999</td>\n",
              "      <td>-57.2347</td>\n",
              "      <td>36.505190</td>\n",
              "      <td>141.517143</td>\n",
              "      <td>41.349481</td>\n",
              "      <td>23.958579</td>\n",
              "      <td>15.735294</td>\n",
              "      <td>7.568675</td>\n",
              "      <td>6.323076</td>\n",
              "      <td>24.287647</td>\n",
              "      <td>6.817613</td>\n",
              "      <td>6.465520</td>\n",
              "      <td>0.665320</td>\n",
              "      <td>0.00315</td>\n",
              "      <td>0.00866</td>\n",
              "      <td>0.06247</td>\n",
              "      <td>0.31384</td>\n",
              "      <td>1.0</td>\n",
              "      <td>False</td>\n",
              "      <td>True</td>\n",
              "      <td>1</td>\n",
              "      <td>train</td>\n",
              "      <td>plankton</td>\n",
              "    </tr>\n",
              "  </tbody>\n",
              "</table>\n",
              "</div>\n",
              "      <button class=\"colab-df-convert\" onclick=\"convertToInteractive('df-b9cffcc3-880a-45ac-9067-d0ca96a72462')\"\n",
              "              title=\"Convert this dataframe to an interactive table.\"\n",
              "              style=\"display:none;\">\n",
              "        \n",
              "  <svg xmlns=\"http://www.w3.org/2000/svg\" height=\"24px\"viewBox=\"0 0 24 24\"\n",
              "       width=\"24px\">\n",
              "    <path d=\"M0 0h24v24H0V0z\" fill=\"none\"/>\n",
              "    <path d=\"M18.56 5.44l.94 2.06.94-2.06 2.06-.94-2.06-.94-.94-2.06-.94 2.06-2.06.94zm-11 1L8.5 8.5l.94-2.06 2.06-.94-2.06-.94L8.5 2.5l-.94 2.06-2.06.94zm10 10l.94 2.06.94-2.06 2.06-.94-2.06-.94-.94-2.06-.94 2.06-2.06.94z\"/><path d=\"M17.41 7.96l-1.37-1.37c-.4-.4-.92-.59-1.43-.59-.52 0-1.04.2-1.43.59L10.3 9.45l-7.72 7.72c-.78.78-.78 2.05 0 2.83L4 21.41c.39.39.9.59 1.41.59.51 0 1.02-.2 1.41-.59l7.78-7.78 2.81-2.81c.8-.78.8-2.07 0-2.86zM5.41 20L4 18.59l7.72-7.72 1.47 1.35L5.41 20z\"/>\n",
              "  </svg>\n",
              "      </button>\n",
              "      \n",
              "  <style>\n",
              "    .colab-df-container {\n",
              "      display:flex;\n",
              "      flex-wrap:wrap;\n",
              "      gap: 12px;\n",
              "    }\n",
              "\n",
              "    .colab-df-convert {\n",
              "      background-color: #E8F0FE;\n",
              "      border: none;\n",
              "      border-radius: 50%;\n",
              "      cursor: pointer;\n",
              "      display: none;\n",
              "      fill: #1967D2;\n",
              "      height: 32px;\n",
              "      padding: 0 0 0 0;\n",
              "      width: 32px;\n",
              "    }\n",
              "\n",
              "    .colab-df-convert:hover {\n",
              "      background-color: #E2EBFA;\n",
              "      box-shadow: 0px 1px 2px rgba(60, 64, 67, 0.3), 0px 1px 3px 1px rgba(60, 64, 67, 0.15);\n",
              "      fill: #174EA6;\n",
              "    }\n",
              "\n",
              "    [theme=dark] .colab-df-convert {\n",
              "      background-color: #3B4455;\n",
              "      fill: #D2E3FC;\n",
              "    }\n",
              "\n",
              "    [theme=dark] .colab-df-convert:hover {\n",
              "      background-color: #434B5C;\n",
              "      box-shadow: 0px 1px 3px 1px rgba(0, 0, 0, 0.15);\n",
              "      filter: drop-shadow(0px 1px 2px rgba(0, 0, 0, 0.3));\n",
              "      fill: #FFFFFF;\n",
              "    }\n",
              "  </style>\n",
              "\n",
              "      <script>\n",
              "        const buttonEl =\n",
              "          document.querySelector('#df-b9cffcc3-880a-45ac-9067-d0ca96a72462 button.colab-df-convert');\n",
              "        buttonEl.style.display =\n",
              "          google.colab.kernel.accessAllowed ? 'block' : 'none';\n",
              "\n",
              "        async function convertToInteractive(key) {\n",
              "          const element = document.querySelector('#df-b9cffcc3-880a-45ac-9067-d0ca96a72462');\n",
              "          const dataTable =\n",
              "            await google.colab.kernel.invokeFunction('convertToInteractive',\n",
              "                                                     [key], {});\n",
              "          if (!dataTable) return;\n",
              "\n",
              "          const docLinkHtml = 'Like what you see? Visit the ' +\n",
              "            '<a target=\"_blank\" href=https://colab.research.google.com/notebooks/data_table.ipynb>data table notebook</a>'\n",
              "            + ' to learn more about interactive tables.';\n",
              "          element.innerHTML = '';\n",
              "          dataTable['output_type'] = 'display_data';\n",
              "          await google.colab.output.renderOutput(dataTable, element);\n",
              "          const docLink = document.createElement('div');\n",
              "          docLink.innerHTML = docLinkHtml;\n",
              "          element.appendChild(docLink);\n",
              "        }\n",
              "      </script>\n",
              "    </div>\n",
              "  </div>\n",
              "  "
            ],
            "text/plain": [
              "                                           file_name  ... binary_label\n",
              "14399  IFCB107D20151109T045036P00118_Unicellular.png  ...     plankton\n",
              "14400  IFCB107D20151109T045036P00122_Unicellular.png  ...     plankton\n",
              "14401  IFCB107D20151109T045036P00124_Unicellular.png  ...     plankton\n",
              "14402  IFCB107D20151109T045036P00126_Unicellular.png  ...     plankton\n",
              "14403  IFCB107D20151109T045036P00127_Unicellular.png  ...     plankton\n",
              "\n",
              "[5 rows x 28 columns]"
            ]
          },
          "metadata": {},
          "execution_count": 40
        }
      ]
    },
    {
      "cell_type": "code",
      "source": [
        "df_begining['png_path'] = df_begining['id'].apply(lambda row : buildPNGsName(row))"
      ],
      "metadata": {
        "colab": {
          "base_uri": "https://localhost:8080/"
        },
        "id": "OBkCk8zq9tAq",
        "outputId": "25da1705-5bf3-4f72-cda6-8352b0d54101"
      },
      "execution_count": null,
      "outputs": [
        {
          "output_type": "stream",
          "name": "stderr",
          "text": [
            "/usr/local/lib/python3.7/dist-packages/ipykernel_launcher.py:1: SettingWithCopyWarning: \n",
            "A value is trying to be set on a copy of a slice from a DataFrame.\n",
            "Try using .loc[row_indexer,col_indexer] = value instead\n",
            "\n",
            "See the caveats in the documentation: https://pandas.pydata.org/pandas-docs/stable/user_guide/indexing.html#returning-a-view-versus-a-copy\n",
            "  \"\"\"Entry point for launching an IPython kernel.\n"
          ]
        }
      ]
    },
    {
      "cell_type": "code",
      "source": [
        "df_begining.high_group.hist(bins=11)"
      ],
      "metadata": {
        "colab": {
          "base_uri": "https://localhost:8080/",
          "height": 282
        },
        "id": "JjaNzM_Z-XCV",
        "outputId": "3d5eb3c9-38dd-441f-e128-b564e1511666"
      },
      "execution_count": null,
      "outputs": [
        {
          "output_type": "execute_result",
          "data": {
            "text/plain": [
              "<matplotlib.axes._subplots.AxesSubplot at 0x7f6c939ffd10>"
            ]
          },
          "metadata": {},
          "execution_count": 43
        },
        {
          "output_type": "display_data",
          "data": {
            "image/png": "[encoded data removed]",
            "text/plain": [
              "<Figure size 432x288 with 1 Axes>"
            ]
          },
          "metadata": {
            "needs_background": "light"
          }
        }
      ]
    },
    {
      "cell_type": "code",
      "source": [
        "df_begining.high_group.value_counts()"
      ],
      "metadata": {
        "colab": {
          "base_uri": "https://localhost:8080/"
        },
        "id": "BHq1W3iTUkmD",
        "outputId": "f3e03599-43aa-4799-d995-0e53abd27d25"
      },
      "execution_count": null,
      "outputs": [
        {
          "output_type": "execute_result",
          "data": {
            "text/plain": [
              "Other             9871\n",
              "Corrupt             74\n",
              "Diatom              18\n",
              "Chloro              17\n",
              "Dinoflagellate      10\n",
              "Not living           5\n",
              "Prymnesio            3\n",
              "Crypto               2\n",
              "Name: high_group, dtype: int64"
            ]
          },
          "metadata": {},
          "execution_count": 44
        }
      ]
    },
    {
      "cell_type": "markdown",
      "source": [
        "## Read PNG images from 20151107 from drive Data folder"
      ],
      "metadata": {
        "id": "XIiY8y7N_xFM"
      }
    },
    {
      "cell_type": "markdown",
      "source": [
        "Extracting PNG file names from the folders of PNGs (one folder per IFCB sample)\n",
        "\n",
        "This test case uses just the PNGs from one day of samples: 20151107"
      ],
      "metadata": {
        "id": "yq2RNH-LXRUX"
      }
    },
    {
      "cell_type": "code",
      "source": [
        "png_files_gdrive = glob('gdrive/MyDrive/UTOPIA/Data/D20151107/*/*.png')"
      ],
      "metadata": {
        "id": "c5NKZrj1-wSm"
      },
      "execution_count": null,
      "outputs": []
    },
    {
      "cell_type": "code",
      "source": [
        "# all files from 20151107 should be 66,440\n",
        "len(png_files_gdrive)"
      ],
      "metadata": {
        "colab": {
          "base_uri": "https://localhost:8080/"
        },
        "id": "1tXYrjShBHJM",
        "outputId": "0e1b6288-1895-4491-f5c4-d462b587dc74"
      },
      "execution_count": null,
      "outputs": [
        {
          "output_type": "execute_result",
          "data": {
            "text/plain": [
              "66440"
            ]
          },
          "metadata": {},
          "execution_count": 11
        }
      ]
    },
    {
      "cell_type": "markdown",
      "source": [
        "Extracting PNG file names from the dataframe of metadata (one image per row)"
      ],
      "metadata": {
        "id": "6DyNIJcsXczv"
      }
    },
    {
      "cell_type": "code",
      "source": [
        "#df_begining_files = df_begining['png_path']"
      ],
      "metadata": {
        "id": "bofgk1VMBH6Z"
      },
      "execution_count": null,
      "outputs": []
    },
    {
      "cell_type": "code",
      "source": [
        "# this test case uses the entire original dataframe, without any rows with missing data, etc, removed\n",
        "#df_files = df['png_path']"
      ],
      "metadata": {
        "id": "EkFh1eaqaKNW"
      },
      "execution_count": null,
      "outputs": []
    },
    {
      "cell_type": "code",
      "source": [
        "# create a dataframe with just the columns of png_path and high_group\n",
        "df_files_labels = df[['png_path', 'high_group']]"
      ],
      "metadata": {
        "id": "JX04Izwrdicd"
      },
      "execution_count": null,
      "outputs": []
    },
    {
      "cell_type": "code",
      "source": [
        "# add a column called full_path \n",
        "df_files_labels['full_path'] = df_files_labels['png_path'].apply(lambda row : os.path.join(SAMPLE_DATA_PATH, row))"
      ],
      "metadata": {
        "colab": {
          "base_uri": "https://localhost:8080/"
        },
        "id": "v8dRD_-4f1w4",
        "outputId": "14e2f440-c1d6-4b4a-ab2f-ef2d76e9f6a6"
      },
      "execution_count": null,
      "outputs": [
        {
          "output_type": "stream",
          "name": "stderr",
          "text": [
            "/usr/local/lib/python3.7/dist-packages/ipykernel_launcher.py:2: SettingWithCopyWarning: \n",
            "A value is trying to be set on a copy of a slice from a DataFrame.\n",
            "Try using .loc[row_indexer,col_indexer] = value instead\n",
            "\n",
            "See the caveats in the documentation: https://pandas.pydata.org/pandas-docs/stable/user_guide/indexing.html#returning-a-view-versus-a-copy\n",
            "  \n"
          ]
        }
      ]
    },
    {
      "cell_type": "code",
      "source": [
        "df_files_labels"
      ],
      "metadata": {
        "colab": {
          "base_uri": "https://localhost:8080/",
          "height": 424
        },
        "id": "F-jIzI6ZBjGF",
        "outputId": "fdb72ae5-4739-48fd-e799-6289df4a19dd"
      },
      "execution_count": null,
      "outputs": [
        {
          "output_type": "execute_result",
          "data": {
            "text/html": [
              "\n",
              "  <div id=\"df-1c7e5e6a-d739-4ed1-a2fa-f68514cd5660\">\n",
              "    <div class=\"colab-df-container\">\n",
              "      <div>\n",
              "<style scoped>\n",
              "    .dataframe tbody tr th:only-of-type {\n",
              "        vertical-align: middle;\n",
              "    }\n",
              "\n",
              "    .dataframe tbody tr th {\n",
              "        vertical-align: top;\n",
              "    }\n",
              "\n",
              "    .dataframe thead th {\n",
              "        text-align: right;\n",
              "    }\n",
              "</style>\n",
              "<table border=\"1\" class=\"dataframe\">\n",
              "  <thead>\n",
              "    <tr style=\"text-align: right;\">\n",
              "      <th></th>\n",
              "      <th>png_path</th>\n",
              "      <th>high_group</th>\n",
              "      <th>full_path</th>\n",
              "    </tr>\n",
              "  </thead>\n",
              "  <tbody>\n",
              "    <tr>\n",
              "      <th>0</th>\n",
              "      <td>D20151104T112022_IFCB107/IFCB107D20151104T1120...</td>\n",
              "      <td>Other</td>\n",
              "      <td>gdrive/MyDrive/UTOPIA/Data/D20151107/D20151104...</td>\n",
              "    </tr>\n",
              "    <tr>\n",
              "      <th>1</th>\n",
              "      <td>D20151104T114135_IFCB107/IFCB107D20151104T1141...</td>\n",
              "      <td>Other</td>\n",
              "      <td>gdrive/MyDrive/UTOPIA/Data/D20151107/D20151104...</td>\n",
              "    </tr>\n",
              "    <tr>\n",
              "      <th>2</th>\n",
              "      <td>D20151104T114135_IFCB107/IFCB107D20151104T1141...</td>\n",
              "      <td>Other</td>\n",
              "      <td>gdrive/MyDrive/UTOPIA/Data/D20151107/D20151104...</td>\n",
              "    </tr>\n",
              "    <tr>\n",
              "      <th>3</th>\n",
              "      <td>D20151104T124515_IFCB107/IFCB107D20151104T1245...</td>\n",
              "      <td>Other</td>\n",
              "      <td>gdrive/MyDrive/UTOPIA/Data/D20151107/D20151104...</td>\n",
              "    </tr>\n",
              "    <tr>\n",
              "      <th>4</th>\n",
              "      <td>D20151105T174918_IFCB107/IFCB107D20151105T1749...</td>\n",
              "      <td>Dinoflagellate</td>\n",
              "      <td>gdrive/MyDrive/UTOPIA/Data/D20151107/D20151105...</td>\n",
              "    </tr>\n",
              "    <tr>\n",
              "      <th>...</th>\n",
              "      <td>...</td>\n",
              "      <td>...</td>\n",
              "      <td>...</td>\n",
              "    </tr>\n",
              "    <tr>\n",
              "      <th>1998895</th>\n",
              "      <td>D20180412T010113_IFCB107/IFCB107D20180412T0101...</td>\n",
              "      <td>Dinoflagellate</td>\n",
              "      <td>gdrive/MyDrive/UTOPIA/Data/D20151107/D20180412...</td>\n",
              "    </tr>\n",
              "    <tr>\n",
              "      <th>1998896</th>\n",
              "      <td>D20180412T012434_IFCB107/IFCB107D20180412T0124...</td>\n",
              "      <td>Diatom</td>\n",
              "      <td>gdrive/MyDrive/UTOPIA/Data/D20151107/D20180412...</td>\n",
              "    </tr>\n",
              "    <tr>\n",
              "      <th>1998897</th>\n",
              "      <td>D20180412T012434_IFCB107/IFCB107D20180412T0124...</td>\n",
              "      <td>Diatom</td>\n",
              "      <td>gdrive/MyDrive/UTOPIA/Data/D20151107/D20180412...</td>\n",
              "    </tr>\n",
              "    <tr>\n",
              "      <th>1998898</th>\n",
              "      <td>D20180412T021117_IFCB107/IFCB107D20180412T0211...</td>\n",
              "      <td>Dinoflagellate</td>\n",
              "      <td>gdrive/MyDrive/UTOPIA/Data/D20151107/D20180412...</td>\n",
              "    </tr>\n",
              "    <tr>\n",
              "      <th>1998899</th>\n",
              "      <td>D20180412T021117_IFCB107/IFCB107D20180412T0211...</td>\n",
              "      <td>Diatom</td>\n",
              "      <td>gdrive/MyDrive/UTOPIA/Data/D20151107/D20180412...</td>\n",
              "    </tr>\n",
              "  </tbody>\n",
              "</table>\n",
              "<p>1998900 rows × 3 columns</p>\n",
              "</div>\n",
              "      <button class=\"colab-df-convert\" onclick=\"convertToInteractive('df-1c7e5e6a-d739-4ed1-a2fa-f68514cd5660')\"\n",
              "              title=\"Convert this dataframe to an interactive table.\"\n",
              "              style=\"display:none;\">\n",
              "        \n",
              "  <svg xmlns=\"http://www.w3.org/2000/svg\" height=\"24px\"viewBox=\"0 0 24 24\"\n",
              "       width=\"24px\">\n",
              "    <path d=\"M0 0h24v24H0V0z\" fill=\"none\"/>\n",
              "    <path d=\"M18.56 5.44l.94 2.06.94-2.06 2.06-.94-2.06-.94-.94-2.06-.94 2.06-2.06.94zm-11 1L8.5 8.5l.94-2.06 2.06-.94-2.06-.94L8.5 2.5l-.94 2.06-2.06.94zm10 10l.94 2.06.94-2.06 2.06-.94-2.06-.94-.94-2.06-.94 2.06-2.06.94z\"/><path d=\"M17.41 7.96l-1.37-1.37c-.4-.4-.92-.59-1.43-.59-.52 0-1.04.2-1.43.59L10.3 9.45l-7.72 7.72c-.78.78-.78 2.05 0 2.83L4 21.41c.39.39.9.59 1.41.59.51 0 1.02-.2 1.41-.59l7.78-7.78 2.81-2.81c.8-.78.8-2.07 0-2.86zM5.41 20L4 18.59l7.72-7.72 1.47 1.35L5.41 20z\"/>\n",
              "  </svg>\n",
              "      </button>\n",
              "      \n",
              "  <style>\n",
              "    .colab-df-container {\n",
              "      display:flex;\n",
              "      flex-wrap:wrap;\n",
              "      gap: 12px;\n",
              "    }\n",
              "\n",
              "    .colab-df-convert {\n",
              "      background-color: #E8F0FE;\n",
              "      border: none;\n",
              "      border-radius: 50%;\n",
              "      cursor: pointer;\n",
              "      display: none;\n",
              "      fill: #1967D2;\n",
              "      height: 32px;\n",
              "      padding: 0 0 0 0;\n",
              "      width: 32px;\n",
              "    }\n",
              "\n",
              "    .colab-df-convert:hover {\n",
              "      background-color: #E2EBFA;\n",
              "      box-shadow: 0px 1px 2px rgba(60, 64, 67, 0.3), 0px 1px 3px 1px rgba(60, 64, 67, 0.15);\n",
              "      fill: #174EA6;\n",
              "    }\n",
              "\n",
              "    [theme=dark] .colab-df-convert {\n",
              "      background-color: #3B4455;\n",
              "      fill: #D2E3FC;\n",
              "    }\n",
              "\n",
              "    [theme=dark] .colab-df-convert:hover {\n",
              "      background-color: #434B5C;\n",
              "      box-shadow: 0px 1px 3px 1px rgba(0, 0, 0, 0.15);\n",
              "      filter: drop-shadow(0px 1px 2px rgba(0, 0, 0, 0.3));\n",
              "      fill: #FFFFFF;\n",
              "    }\n",
              "  </style>\n",
              "\n",
              "      <script>\n",
              "        const buttonEl =\n",
              "          document.querySelector('#df-1c7e5e6a-d739-4ed1-a2fa-f68514cd5660 button.colab-df-convert');\n",
              "        buttonEl.style.display =\n",
              "          google.colab.kernel.accessAllowed ? 'block' : 'none';\n",
              "\n",
              "        async function convertToInteractive(key) {\n",
              "          const element = document.querySelector('#df-1c7e5e6a-d739-4ed1-a2fa-f68514cd5660');\n",
              "          const dataTable =\n",
              "            await google.colab.kernel.invokeFunction('convertToInteractive',\n",
              "                                                     [key], {});\n",
              "          if (!dataTable) return;\n",
              "\n",
              "          const docLinkHtml = 'Like what you see? Visit the ' +\n",
              "            '<a target=\"_blank\" href=https://colab.research.google.com/notebooks/data_table.ipynb>data table notebook</a>'\n",
              "            + ' to learn more about interactive tables.';\n",
              "          element.innerHTML = '';\n",
              "          dataTable['output_type'] = 'display_data';\n",
              "          await google.colab.output.renderOutput(dataTable, element);\n",
              "          const docLink = document.createElement('div');\n",
              "          docLink.innerHTML = docLinkHtml;\n",
              "          element.appendChild(docLink);\n",
              "        }\n",
              "      </script>\n",
              "    </div>\n",
              "  </div>\n",
              "  "
            ],
            "text/plain": [
              "                                                  png_path  ...                                          full_path\n",
              "0        D20151104T112022_IFCB107/IFCB107D20151104T1120...  ...  gdrive/MyDrive/UTOPIA/Data/D20151107/D20151104...\n",
              "1        D20151104T114135_IFCB107/IFCB107D20151104T1141...  ...  gdrive/MyDrive/UTOPIA/Data/D20151107/D20151104...\n",
              "2        D20151104T114135_IFCB107/IFCB107D20151104T1141...  ...  gdrive/MyDrive/UTOPIA/Data/D20151107/D20151104...\n",
              "3        D20151104T124515_IFCB107/IFCB107D20151104T1245...  ...  gdrive/MyDrive/UTOPIA/Data/D20151107/D20151104...\n",
              "4        D20151105T174918_IFCB107/IFCB107D20151105T1749...  ...  gdrive/MyDrive/UTOPIA/Data/D20151107/D20151105...\n",
              "...                                                    ...  ...                                                ...\n",
              "1998895  D20180412T010113_IFCB107/IFCB107D20180412T0101...  ...  gdrive/MyDrive/UTOPIA/Data/D20151107/D20180412...\n",
              "1998896  D20180412T012434_IFCB107/IFCB107D20180412T0124...  ...  gdrive/MyDrive/UTOPIA/Data/D20151107/D20180412...\n",
              "1998897  D20180412T012434_IFCB107/IFCB107D20180412T0124...  ...  gdrive/MyDrive/UTOPIA/Data/D20151107/D20180412...\n",
              "1998898  D20180412T021117_IFCB107/IFCB107D20180412T0211...  ...  gdrive/MyDrive/UTOPIA/Data/D20151107/D20180412...\n",
              "1998899  D20180412T021117_IFCB107/IFCB107D20180412T0211...  ...  gdrive/MyDrive/UTOPIA/Data/D20151107/D20180412...\n",
              "\n",
              "[1998900 rows x 3 columns]"
            ]
          },
          "metadata": {},
          "execution_count": 14
        }
      ]
    },
    {
      "cell_type": "code",
      "source": [
        "# identify and define a dataframe based on the PNGs that are both in the list of files from 20151107, and that are in the dataframe made from the image-by-row csv file\n",
        "df_sample_labels = df_files_labels[df_files_labels['full_path'].isin(png_files_gdrive)]"
      ],
      "metadata": {
        "id": "xFm2wULMhb2F"
      },
      "execution_count": null,
      "outputs": []
    },
    {
      "cell_type": "code",
      "source": [
        "df_sample_labels.shape"
      ],
      "metadata": {
        "id": "Cr5vf3PbCDLO",
        "colab": {
          "base_uri": "https://localhost:8080/"
        },
        "outputId": "735130ab-a042-4ac6-f241-9820b149dc6b"
      },
      "execution_count": null,
      "outputs": [
        {
          "output_type": "execute_result",
          "data": {
            "text/plain": [
              "(34990, 3)"
            ]
          },
          "metadata": {},
          "execution_count": 16
        }
      ]
    },
    {
      "cell_type": "code",
      "source": [
        "# this is adding the full path to each .png name so now we have a list of all the .pngs we want to find in the NAAMES_ml folder\n",
        "#df_begining_files_fullpath=[]\n",
        "#for file_name in df_begining_files:\n",
        "#   df_begining_files_fullpath.append(os.path.join(SAMPLE_DATA_PATH, file_name))"
      ],
      "metadata": {
        "id": "uTiAsbIyCoOb"
      },
      "execution_count": null,
      "outputs": []
    },
    {
      "cell_type": "code",
      "source": [
        "# this is adding the full path to each .png name so now we have a list of all the .pngs\n",
        "# this version is for the entire, original dataframe\n",
        "#df_files_fullpath=[]\n",
        "#for file_name in df_files:\n",
        "#   df_files_fullpath.append(os.path.join(SAMPLE_DATA_PATH, file_name))"
      ],
      "metadata": {
        "id": "A0Ofd0G9aVNW"
      },
      "execution_count": null,
      "outputs": []
    },
    {
      "cell_type": "code",
      "source": [
        "# find matches between the list of names and .pngs in the D20151107 folder\n",
        "#len(set(df_files_fullpath).intersection(png_files_gdrive))"
      ],
      "metadata": {
        "id": "_InSXMVmamG_"
      },
      "execution_count": null,
      "outputs": []
    },
    {
      "cell_type": "code",
      "source": [
        "# create a dictionary to hold the original indices\n",
        "#ind_dict = dict((k,i) for i,k in enumerate(df_files_fullpath))"
      ],
      "metadata": {
        "id": "UOh64_stBt3P"
      },
      "execution_count": null,
      "outputs": []
    },
    {
      "cell_type": "code",
      "source": [
        "# build sets\n",
        "#inter = set(df_files_fullpath).intersection(png_files_gdrive)"
      ],
      "metadata": {
        "id": "Fa1SeU4MB2st"
      },
      "execution_count": null,
      "outputs": []
    },
    {
      "cell_type": "code",
      "source": [
        "# get a list of indices\n",
        "#indices = [ ind_dict[x] for x in inter ]"
      ],
      "metadata": {
        "id": "iorbJkn1CKBJ"
      },
      "execution_count": null,
      "outputs": []
    },
    {
      "cell_type": "code",
      "source": [
        "#png_list = set(df_files_fullpath).intersection(png_files_gdrive)"
      ],
      "metadata": {
        "id": "uy4M8S2JG5Fq"
      },
      "execution_count": null,
      "outputs": []
    },
    {
      "cell_type": "code",
      "source": [
        "#test_png = list(png_list)[0]\n",
        "#test_png"
      ],
      "metadata": {
        "id": "cCWSOs-cvv5T"
      },
      "execution_count": null,
      "outputs": []
    },
    {
      "cell_type": "code",
      "source": [
        "#df_files_fullpath[0]"
      ],
      "metadata": {
        "id": "0GGZapft7NEd"
      },
      "execution_count": null,
      "outputs": []
    },
    {
      "cell_type": "code",
      "source": [
        "#plt.imshow(mpimg.imread(test_png))\n",
        "#df.high_group[indices[0]]"
      ],
      "metadata": {
        "id": "OhEC6beQyxdK"
      },
      "execution_count": null,
      "outputs": []
    },
    {
      "cell_type": "markdown",
      "source": [
        "## preprocess_input\n",
        "\n",
        "This function prepares images for machine learning by square and padding them"
      ],
      "metadata": {
        "id": "DtvrVNIH_J5m"
      }
    },
    {
      "cell_type": "code",
      "source": [
        "# COPIED from Emmett data_io_function_library:\n",
        "def preprocess_input(image):\n",
        "    fixed_size = 128\n",
        "    image_size = image.shape[:2] \n",
        "    ratio = float(fixed_size)/max(image_size)\n",
        "    new_size = tuple([int(x*ratio) for x in image_size])\n",
        "    img = cv2.resize(image, (new_size[1], new_size[0]))\n",
        "    delta_w = fixed_size - new_size[1]\n",
        "    delta_h = fixed_size - new_size[0]\n",
        "    top, bottom = delta_h//2, delta_h-(delta_h//2)\n",
        "    left, right = delta_w//2, delta_w-(delta_w//2)\n",
        "    color = [0, 0, 0]\n",
        "    rescaled_image = cv2.copyMakeBorder(img, top, bottom, left, right, cv2.BORDER_CONSTANT, value=color)\n",
        "    return(rescaled_image)"
      ],
      "metadata": {
        "id": "LsVYXu6htfKC"
      },
      "execution_count": null,
      "outputs": []
    },
    {
      "cell_type": "markdown",
      "source": [
        "## Rescale/square images, and save as an array of arrays, for use in machine learning model"
      ],
      "metadata": {
        "id": "4x5cyA5Q_XKY"
      }
    },
    {
      "cell_type": "code",
      "source": [
        "df_sample_labels.shape"
      ],
      "metadata": {
        "colab": {
          "base_uri": "https://localhost:8080/"
        },
        "id": "nXpNv95YRfuZ",
        "outputId": "6e0b0ce4-a8c9-4815-8548-d8246d6cf462"
      },
      "execution_count": null,
      "outputs": [
        {
          "output_type": "execute_result",
          "data": {
            "text/plain": [
              "(10000, 3)"
            ]
          },
          "metadata": {},
          "execution_count": 20
        }
      ]
    },
    {
      "cell_type": "code",
      "source": [
        "# use only a subset of all PNGs to save computing time for now\n",
        "df_sample_labels = df_sample_labels.iloc[:10000,]"
      ],
      "metadata": {
        "id": "aP6HEnTzRRqE"
      },
      "execution_count": null,
      "outputs": []
    },
    {
      "cell_type": "code",
      "source": [
        "dataset = []\n",
        "for filename, label in zip(df_sample_labels['full_path'],df_sample_labels['high_group']):\n",
        "  #print(filename)\n",
        "  image = cv2.imread(filename)\n",
        "  rescaled_image = preprocess_input(image)\n",
        "  dataset.append(rescaled_image)\n",
        "  \n",
        "  # plotting here is commented out otherwise too many figures are created\n",
        "  #plt.figure()\n",
        "  #plt.imshow(image)\n",
        "  #plt.title(label)"
      ],
      "metadata": {
        "id": "bd55cKId5AM_"
      },
      "execution_count": null,
      "outputs": []
    },
    {
      "cell_type": "code",
      "source": [
        "len(dataset)"
      ],
      "metadata": {
        "id": "DU35FyA8IsEY",
        "colab": {
          "base_uri": "https://localhost:8080/",
          "height": 166
        },
        "outputId": "10bbe51f-2efb-472a-9fa8-07956c082638"
      },
      "execution_count": null,
      "outputs": [
        {
          "output_type": "error",
          "ename": "NameError",
          "evalue": "ignored",
          "traceback": [
            "\u001b[0;31m---------------------------------------------------------------------------\u001b[0m",
            "\u001b[0;31mNameError\u001b[0m                                 Traceback (most recent call last)",
            "\u001b[0;32m<ipython-input-1-8f70883cce9f>\u001b[0m in \u001b[0;36m<module>\u001b[0;34m()\u001b[0m\n\u001b[0;32m----> 1\u001b[0;31m \u001b[0mlen\u001b[0m\u001b[0;34m(\u001b[0m\u001b[0mdataset\u001b[0m\u001b[0;34m)\u001b[0m\u001b[0;34m\u001b[0m\u001b[0;34m\u001b[0m\u001b[0m\n\u001b[0m",
            "\u001b[0;31mNameError\u001b[0m: name 'dataset' is not defined"
          ]
        }
      ]
    },
    {
      "cell_type": "code",
      "source": [
        "Image.fromarray(dataset[10])"
      ],
      "metadata": {
        "colab": {
          "base_uri": "https://localhost:8080/",
          "height": 145
        },
        "id": "NEFXkKTvLGCL",
        "outputId": "67ca1fea-82e3-4dac-ad17-9258e84d6daf"
      },
      "execution_count": null,
      "outputs": [
        {
          "output_type": "execute_result",
          "data": {
            "image/png": "[encoded data removed]",
            "text/plain": [
              "<PIL.Image.Image image mode=RGB size=128x128 at 0x7F6B9A08F690>"
            ]
          },
          "metadata": {},
          "execution_count": 228
        }
      ]
    },
    {
      "cell_type": "code",
      "source": [
        "# create a stacked set of arrays from the dataset\n",
        "dataset_4d = np.array(dataset)"
      ],
      "metadata": {
        "id": "z45c3VX9Kug3"
      },
      "execution_count": null,
      "outputs": []
    },
    {
      "cell_type": "code",
      "source": [
        "type(dataset_4d)"
      ],
      "metadata": {
        "colab": {
          "base_uri": "https://localhost:8080/"
        },
        "id": "t93dNkpWL6OD",
        "outputId": "d4cb9e74-87ec-458e-d873-95226c0e4366"
      },
      "execution_count": null,
      "outputs": [
        {
          "output_type": "execute_result",
          "data": {
            "text/plain": [
              "numpy.ndarray"
            ]
          },
          "metadata": {},
          "execution_count": 230
        }
      ]
    },
    {
      "cell_type": "code",
      "source": [
        "dataset_4d.shape"
      ],
      "metadata": {
        "colab": {
          "base_uri": "https://localhost:8080/"
        },
        "id": "LuSRTNSpL75i",
        "outputId": "903f37b4-3963-40b3-b510-8c065ec37fb8"
      },
      "execution_count": null,
      "outputs": [
        {
          "output_type": "execute_result",
          "data": {
            "text/plain": [
              "(22182, 128, 128, 3)"
            ]
          },
          "metadata": {},
          "execution_count": 231
        }
      ]
    },
    {
      "cell_type": "code",
      "source": [
        ""
      ],
      "metadata": {
        "id": "Xj12U_T2bIs-"
      },
      "execution_count": null,
      "outputs": []
    },
    {
      "cell_type": "markdown",
      "source": [
        "## Use digit example ML model with dataset array containing RBG images"
      ],
      "metadata": {
        "id": "ctGtKQ6-Pjt0"
      }
    },
    {
      "cell_type": "markdown",
      "source": [
        "Define the x and y training and test sets"
      ],
      "metadata": {
        "id": "QbZ5lschDA7J"
      }
    },
    {
      "cell_type": "code",
      "source": [
        "# Model / data parameters\n",
        "num_classes = 15\n",
        "input_shape = (128, 128, 1)"
      ],
      "metadata": {
        "id": "ebjOcvYzVknN"
      },
      "execution_count": null,
      "outputs": []
    },
    {
      "cell_type": "code",
      "source": [
        "# this datafram has 3 columns: the name of the png path, the category label (high_group), and the full path of the png\n",
        "# it is subset to only have rows that have png files matching the pngs that are found in the folder for 11/07\n",
        "df_sample_labels.shape"
      ],
      "metadata": {
        "colab": {
          "base_uri": "https://localhost:8080/"
        },
        "id": "niKP3GDoKvCz",
        "outputId": "d782928c-c78d-4819-87dc-becfee9c0167"
      },
      "execution_count": null,
      "outputs": [
        {
          "output_type": "execute_result",
          "data": {
            "text/plain": [
              "(22182, 3)"
            ]
          },
          "metadata": {},
          "execution_count": 240
        }
      ]
    },
    {
      "cell_type": "code",
      "source": [
        "# need to get the list of image labels to accompany PNGs\n",
        "image_labels = df_sample_labels.high_group"
      ],
      "metadata": {
        "id": "GKxAHnuMQu77"
      },
      "execution_count": null,
      "outputs": []
    },
    {
      "cell_type": "code",
      "source": [
        "image_labels"
      ],
      "metadata": {
        "colab": {
          "base_uri": "https://localhost:8080/"
        },
        "id": "8Qu5QyVQLcpF",
        "outputId": "fed78345-2dd8-4f57-99cb-d2e2fa516add"
      },
      "execution_count": null,
      "outputs": [
        {
          "output_type": "execute_result",
          "data": {
            "text/plain": [
              "4359             Corrupt\n",
              "4360               Other\n",
              "4361               Other\n",
              "4362             Corrupt\n",
              "4363               Other\n",
              "               ...      \n",
              "795934    Dinoflagellate\n",
              "795935             Other\n",
              "795936             Other\n",
              "795937             Other\n",
              "795938             Other\n",
              "Name: high_group, Length: 22182, dtype: object"
            ]
          },
          "metadata": {},
          "execution_count": 242
        }
      ]
    },
    {
      "cell_type": "code",
      "source": [
        "image_label_dummys = pd.get_dummies(image_labels)"
      ],
      "metadata": {
        "id": "JVyp18T-YyZP"
      },
      "execution_count": null,
      "outputs": []
    },
    {
      "cell_type": "code",
      "source": [
        "image_label_dummys"
      ],
      "metadata": {
        "colab": {
          "base_uri": "https://localhost:8080/",
          "height": 424
        },
        "id": "jKIJdn4_Y-RT",
        "outputId": "0ee81758-9bb0-442d-a229-17a5c01ae949"
      },
      "execution_count": null,
      "outputs": [
        {
          "output_type": "execute_result",
          "data": {
            "text/html": [
              "\n",
              "  <div id=\"df-581163c4-b309-4e0f-884e-12bf2ed86f93\">\n",
              "    <div class=\"colab-df-container\">\n",
              "      <div>\n",
              "<style scoped>\n",
              "    .dataframe tbody tr th:only-of-type {\n",
              "        vertical-align: middle;\n",
              "    }\n",
              "\n",
              "    .dataframe tbody tr th {\n",
              "        vertical-align: top;\n",
              "    }\n",
              "\n",
              "    .dataframe thead th {\n",
              "        text-align: right;\n",
              "    }\n",
              "</style>\n",
              "<table border=\"1\" class=\"dataframe\">\n",
              "  <thead>\n",
              "    <tr style=\"text-align: right;\">\n",
              "      <th></th>\n",
              "      <th>Artefact</th>\n",
              "      <th>Chloro</th>\n",
              "      <th>Cilliate</th>\n",
              "      <th>Corrupt</th>\n",
              "      <th>Crypto</th>\n",
              "      <th>Diatom</th>\n",
              "      <th>Dictyo</th>\n",
              "      <th>Dinoflagellate</th>\n",
              "      <th>Eugleno</th>\n",
              "      <th>Multiple</th>\n",
              "      <th>Not living</th>\n",
              "      <th>Other</th>\n",
              "      <th>Prymnesio</th>\n",
              "      <th>Rhizaria</th>\n",
              "      <th>Zoo</th>\n",
              "    </tr>\n",
              "  </thead>\n",
              "  <tbody>\n",
              "    <tr>\n",
              "      <th>4359</th>\n",
              "      <td>0</td>\n",
              "      <td>0</td>\n",
              "      <td>0</td>\n",
              "      <td>1</td>\n",
              "      <td>0</td>\n",
              "      <td>0</td>\n",
              "      <td>0</td>\n",
              "      <td>0</td>\n",
              "      <td>0</td>\n",
              "      <td>0</td>\n",
              "      <td>0</td>\n",
              "      <td>0</td>\n",
              "      <td>0</td>\n",
              "      <td>0</td>\n",
              "      <td>0</td>\n",
              "    </tr>\n",
              "    <tr>\n",
              "      <th>4360</th>\n",
              "      <td>0</td>\n",
              "      <td>0</td>\n",
              "      <td>0</td>\n",
              "      <td>0</td>\n",
              "      <td>0</td>\n",
              "      <td>0</td>\n",
              "      <td>0</td>\n",
              "      <td>0</td>\n",
              "      <td>0</td>\n",
              "      <td>0</td>\n",
              "      <td>0</td>\n",
              "      <td>1</td>\n",
              "      <td>0</td>\n",
              "      <td>0</td>\n",
              "      <td>0</td>\n",
              "    </tr>\n",
              "    <tr>\n",
              "      <th>4361</th>\n",
              "      <td>0</td>\n",
              "      <td>0</td>\n",
              "      <td>0</td>\n",
              "      <td>0</td>\n",
              "      <td>0</td>\n",
              "      <td>0</td>\n",
              "      <td>0</td>\n",
              "      <td>0</td>\n",
              "      <td>0</td>\n",
              "      <td>0</td>\n",
              "      <td>0</td>\n",
              "      <td>1</td>\n",
              "      <td>0</td>\n",
              "      <td>0</td>\n",
              "      <td>0</td>\n",
              "    </tr>\n",
              "    <tr>\n",
              "      <th>4362</th>\n",
              "      <td>0</td>\n",
              "      <td>0</td>\n",
              "      <td>0</td>\n",
              "      <td>1</td>\n",
              "      <td>0</td>\n",
              "      <td>0</td>\n",
              "      <td>0</td>\n",
              "      <td>0</td>\n",
              "      <td>0</td>\n",
              "      <td>0</td>\n",
              "      <td>0</td>\n",
              "      <td>0</td>\n",
              "      <td>0</td>\n",
              "      <td>0</td>\n",
              "      <td>0</td>\n",
              "    </tr>\n",
              "    <tr>\n",
              "      <th>4363</th>\n",
              "      <td>0</td>\n",
              "      <td>0</td>\n",
              "      <td>0</td>\n",
              "      <td>0</td>\n",
              "      <td>0</td>\n",
              "      <td>0</td>\n",
              "      <td>0</td>\n",
              "      <td>0</td>\n",
              "      <td>0</td>\n",
              "      <td>0</td>\n",
              "      <td>0</td>\n",
              "      <td>1</td>\n",
              "      <td>0</td>\n",
              "      <td>0</td>\n",
              "      <td>0</td>\n",
              "    </tr>\n",
              "    <tr>\n",
              "      <th>...</th>\n",
              "      <td>...</td>\n",
              "      <td>...</td>\n",
              "      <td>...</td>\n",
              "      <td>...</td>\n",
              "      <td>...</td>\n",
              "      <td>...</td>\n",
              "      <td>...</td>\n",
              "      <td>...</td>\n",
              "      <td>...</td>\n",
              "      <td>...</td>\n",
              "      <td>...</td>\n",
              "      <td>...</td>\n",
              "      <td>...</td>\n",
              "      <td>...</td>\n",
              "      <td>...</td>\n",
              "    </tr>\n",
              "    <tr>\n",
              "      <th>795934</th>\n",
              "      <td>0</td>\n",
              "      <td>0</td>\n",
              "      <td>0</td>\n",
              "      <td>0</td>\n",
              "      <td>0</td>\n",
              "      <td>0</td>\n",
              "      <td>0</td>\n",
              "      <td>1</td>\n",
              "      <td>0</td>\n",
              "      <td>0</td>\n",
              "      <td>0</td>\n",
              "      <td>0</td>\n",
              "      <td>0</td>\n",
              "      <td>0</td>\n",
              "      <td>0</td>\n",
              "    </tr>\n",
              "    <tr>\n",
              "      <th>795935</th>\n",
              "      <td>0</td>\n",
              "      <td>0</td>\n",
              "      <td>0</td>\n",
              "      <td>0</td>\n",
              "      <td>0</td>\n",
              "      <td>0</td>\n",
              "      <td>0</td>\n",
              "      <td>0</td>\n",
              "      <td>0</td>\n",
              "      <td>0</td>\n",
              "      <td>0</td>\n",
              "      <td>1</td>\n",
              "      <td>0</td>\n",
              "      <td>0</td>\n",
              "      <td>0</td>\n",
              "    </tr>\n",
              "    <tr>\n",
              "      <th>795936</th>\n",
              "      <td>0</td>\n",
              "      <td>0</td>\n",
              "      <td>0</td>\n",
              "      <td>0</td>\n",
              "      <td>0</td>\n",
              "      <td>0</td>\n",
              "      <td>0</td>\n",
              "      <td>0</td>\n",
              "      <td>0</td>\n",
              "      <td>0</td>\n",
              "      <td>0</td>\n",
              "      <td>1</td>\n",
              "      <td>0</td>\n",
              "      <td>0</td>\n",
              "      <td>0</td>\n",
              "    </tr>\n",
              "    <tr>\n",
              "      <th>795937</th>\n",
              "      <td>0</td>\n",
              "      <td>0</td>\n",
              "      <td>0</td>\n",
              "      <td>0</td>\n",
              "      <td>0</td>\n",
              "      <td>0</td>\n",
              "      <td>0</td>\n",
              "      <td>0</td>\n",
              "      <td>0</td>\n",
              "      <td>0</td>\n",
              "      <td>0</td>\n",
              "      <td>1</td>\n",
              "      <td>0</td>\n",
              "      <td>0</td>\n",
              "      <td>0</td>\n",
              "    </tr>\n",
              "    <tr>\n",
              "      <th>795938</th>\n",
              "      <td>0</td>\n",
              "      <td>0</td>\n",
              "      <td>0</td>\n",
              "      <td>0</td>\n",
              "      <td>0</td>\n",
              "      <td>0</td>\n",
              "      <td>0</td>\n",
              "      <td>0</td>\n",
              "      <td>0</td>\n",
              "      <td>0</td>\n",
              "      <td>0</td>\n",
              "      <td>1</td>\n",
              "      <td>0</td>\n",
              "      <td>0</td>\n",
              "      <td>0</td>\n",
              "    </tr>\n",
              "  </tbody>\n",
              "</table>\n",
              "<p>22182 rows × 15 columns</p>\n",
              "</div>\n",
              "      <button class=\"colab-df-convert\" onclick=\"convertToInteractive('df-581163c4-b309-4e0f-884e-12bf2ed86f93')\"\n",
              "              title=\"Convert this dataframe to an interactive table.\"\n",
              "              style=\"display:none;\">\n",
              "        \n",
              "  <svg xmlns=\"http://www.w3.org/2000/svg\" height=\"24px\"viewBox=\"0 0 24 24\"\n",
              "       width=\"24px\">\n",
              "    <path d=\"M0 0h24v24H0V0z\" fill=\"none\"/>\n",
              "    <path d=\"M18.56 5.44l.94 2.06.94-2.06 2.06-.94-2.06-.94-.94-2.06-.94 2.06-2.06.94zm-11 1L8.5 8.5l.94-2.06 2.06-.94-2.06-.94L8.5 2.5l-.94 2.06-2.06.94zm10 10l.94 2.06.94-2.06 2.06-.94-2.06-.94-.94-2.06-.94 2.06-2.06.94z\"/><path d=\"M17.41 7.96l-1.37-1.37c-.4-.4-.92-.59-1.43-.59-.52 0-1.04.2-1.43.59L10.3 9.45l-7.72 7.72c-.78.78-.78 2.05 0 2.83L4 21.41c.39.39.9.59 1.41.59.51 0 1.02-.2 1.41-.59l7.78-7.78 2.81-2.81c.8-.78.8-2.07 0-2.86zM5.41 20L4 18.59l7.72-7.72 1.47 1.35L5.41 20z\"/>\n",
              "  </svg>\n",
              "      </button>\n",
              "      \n",
              "  <style>\n",
              "    .colab-df-container {\n",
              "      display:flex;\n",
              "      flex-wrap:wrap;\n",
              "      gap: 12px;\n",
              "    }\n",
              "\n",
              "    .colab-df-convert {\n",
              "      background-color: #E8F0FE;\n",
              "      border: none;\n",
              "      border-radius: 50%;\n",
              "      cursor: pointer;\n",
              "      display: none;\n",
              "      fill: #1967D2;\n",
              "      height: 32px;\n",
              "      padding: 0 0 0 0;\n",
              "      width: 32px;\n",
              "    }\n",
              "\n",
              "    .colab-df-convert:hover {\n",
              "      background-color: #E2EBFA;\n",
              "      box-shadow: 0px 1px 2px rgba(60, 64, 67, 0.3), 0px 1px 3px 1px rgba(60, 64, 67, 0.15);\n",
              "      fill: #174EA6;\n",
              "    }\n",
              "\n",
              "    [theme=dark] .colab-df-convert {\n",
              "      background-color: #3B4455;\n",
              "      fill: #D2E3FC;\n",
              "    }\n",
              "\n",
              "    [theme=dark] .colab-df-convert:hover {\n",
              "      background-color: #434B5C;\n",
              "      box-shadow: 0px 1px 3px 1px rgba(0, 0, 0, 0.15);\n",
              "      filter: drop-shadow(0px 1px 2px rgba(0, 0, 0, 0.3));\n",
              "      fill: #FFFFFF;\n",
              "    }\n",
              "  </style>\n",
              "\n",
              "      <script>\n",
              "        const buttonEl =\n",
              "          document.querySelector('#df-581163c4-b309-4e0f-884e-12bf2ed86f93 button.colab-df-convert');\n",
              "        buttonEl.style.display =\n",
              "          google.colab.kernel.accessAllowed ? 'block' : 'none';\n",
              "\n",
              "        async function convertToInteractive(key) {\n",
              "          const element = document.querySelector('#df-581163c4-b309-4e0f-884e-12bf2ed86f93');\n",
              "          const dataTable =\n",
              "            await google.colab.kernel.invokeFunction('convertToInteractive',\n",
              "                                                     [key], {});\n",
              "          if (!dataTable) return;\n",
              "\n",
              "          const docLinkHtml = 'Like what you see? Visit the ' +\n",
              "            '<a target=\"_blank\" href=https://colab.research.google.com/notebooks/data_table.ipynb>data table notebook</a>'\n",
              "            + ' to learn more about interactive tables.';\n",
              "          element.innerHTML = '';\n",
              "          dataTable['output_type'] = 'display_data';\n",
              "          await google.colab.output.renderOutput(dataTable, element);\n",
              "          const docLink = document.createElement('div');\n",
              "          docLink.innerHTML = docLinkHtml;\n",
              "          element.appendChild(docLink);\n",
              "        }\n",
              "      </script>\n",
              "    </div>\n",
              "  </div>\n",
              "  "
            ],
            "text/plain": [
              "        Artefact  Chloro  Cilliate  Corrupt  ...  Other  Prymnesio  Rhizaria  Zoo\n",
              "4359           0       0         0        1  ...      0          0         0    0\n",
              "4360           0       0         0        0  ...      1          0         0    0\n",
              "4361           0       0         0        0  ...      1          0         0    0\n",
              "4362           0       0         0        1  ...      0          0         0    0\n",
              "4363           0       0         0        0  ...      1          0         0    0\n",
              "...          ...     ...       ...      ...  ...    ...        ...       ...  ...\n",
              "795934         0       0         0        0  ...      0          0         0    0\n",
              "795935         0       0         0        0  ...      1          0         0    0\n",
              "795936         0       0         0        0  ...      1          0         0    0\n",
              "795937         0       0         0        0  ...      1          0         0    0\n",
              "795938         0       0         0        0  ...      1          0         0    0\n",
              "\n",
              "[22182 rows x 15 columns]"
            ]
          },
          "metadata": {},
          "execution_count": 244
        }
      ]
    },
    {
      "cell_type": "code",
      "source": [
        "image_labels.value_counts()"
      ],
      "metadata": {
        "colab": {
          "base_uri": "https://localhost:8080/"
        },
        "id": "7H3w6BCTaC0K",
        "outputId": "46677bfa-d59b-417b-dcd1-18ceb8b4801b"
      },
      "execution_count": null,
      "outputs": [
        {
          "output_type": "execute_result",
          "data": {
            "text/plain": [
              "Other             13762\n",
              "Diatom             3160\n",
              "Crypto             1684\n",
              "Dinoflagellate     1197\n",
              "Corrupt            1116\n",
              "Not living          475\n",
              "Dictyo              297\n",
              "Multiple            169\n",
              "Prymnesio           159\n",
              "Cilliate             93\n",
              "Chloro               55\n",
              "Eugleno               8\n",
              "Artefact              3\n",
              "Rhizaria              2\n",
              "Zoo                   2\n",
              "Name: high_group, dtype: int64"
            ]
          },
          "metadata": {},
          "execution_count": 245
        }
      ]
    },
    {
      "cell_type": "code",
      "source": [
        "image_labels.hist(bins=15)"
      ],
      "metadata": {
        "colab": {
          "base_uri": "https://localhost:8080/",
          "height": 282
        },
        "id": "vaWJjYcuaRl_",
        "outputId": "49e7a2eb-d057-4af2-ac8f-c2c5b68ff76c"
      },
      "execution_count": null,
      "outputs": [
        {
          "output_type": "execute_result",
          "data": {
            "text/plain": [
              "<matplotlib.axes._subplots.AxesSubplot at 0x7f6b99eaa390>"
            ]
          },
          "metadata": {},
          "execution_count": 246
        },
        {
          "output_type": "display_data",
          "data": {
            "image/png": "[encoded data removed]",
            "text/plain": [
              "<Figure size 432x288 with 1 Axes>"
            ]
          },
          "metadata": {
            "needs_background": "light"
          }
        }
      ]
    },
    {
      "cell_type": "code",
      "source": [
        "#train_test_cutoff = 200"
      ],
      "metadata": {
        "id": "fqSdasbcEKAy"
      },
      "execution_count": null,
      "outputs": []
    },
    {
      "cell_type": "code",
      "source": [
        "#x_train = dataset_3d[:train_test_cutoff,:,:]\n",
        "#x_test = dataset_3d[train_test_cutoff:,:,:]"
      ],
      "metadata": {
        "id": "sypCW7ofZf_a"
      },
      "execution_count": null,
      "outputs": []
    },
    {
      "cell_type": "code",
      "source": [
        "dataset_4d.shape"
      ],
      "metadata": {
        "colab": {
          "base_uri": "https://localhost:8080/"
        },
        "id": "fk_6nWhKShOV",
        "outputId": "c356929b-2441-4f4b-d843-5d41ee658dea"
      },
      "execution_count": null,
      "outputs": [
        {
          "output_type": "execute_result",
          "data": {
            "text/plain": [
              "(22182, 128, 128, 3)"
            ]
          },
          "metadata": {},
          "execution_count": 249
        }
      ]
    },
    {
      "cell_type": "code",
      "source": [
        "# convert to a grayscale and not rgb to test with digits example\n",
        "dataset_3d = dataset_4d[:,:,:,0]"
      ],
      "metadata": {
        "id": "mF5lZwX3WMcq"
      },
      "execution_count": null,
      "outputs": []
    },
    {
      "cell_type": "code",
      "source": [
        "dataset_3d.shape"
      ],
      "metadata": {
        "colab": {
          "base_uri": "https://localhost:8080/"
        },
        "id": "P9-xnlFIXHZx",
        "outputId": "9dfef88c-094e-4b09-a0a0-71e2fac88acc"
      },
      "execution_count": null,
      "outputs": [
        {
          "output_type": "execute_result",
          "data": {
            "text/plain": [
              "(22182, 128, 128)"
            ]
          },
          "metadata": {},
          "execution_count": 248
        }
      ]
    },
    {
      "cell_type": "code",
      "source": [
        "plt.imshow(dataset_3d[0,])"
      ],
      "metadata": {
        "colab": {
          "base_uri": "https://localhost:8080/",
          "height": 285
        },
        "id": "eeS1OybPW0kr",
        "outputId": "abaca400-875e-499e-839f-746f58469789"
      },
      "execution_count": null,
      "outputs": [
        {
          "output_type": "execute_result",
          "data": {
            "text/plain": [
              "<matplotlib.image.AxesImage at 0x7f6ba06e76d0>"
            ]
          },
          "metadata": {},
          "execution_count": 182
        },
        {
          "output_type": "display_data",
          "data": {
            "image/png": "[encoded data removed]",
            "text/plain": [
              "<Figure size 432x288 with 1 Axes>"
            ]
          },
          "metadata": {
            "needs_background": "light"
          }
        }
      ]
    },
    {
      "cell_type": "code",
      "source": [
        "x_train, x_test, y_train, y_test = train_test_split(dataset_3d, image_label_dummys, test_size=0.33, random_state=42)"
      ],
      "metadata": {
        "id": "-ybEIS5gqpZ-"
      },
      "execution_count": null,
      "outputs": []
    },
    {
      "cell_type": "code",
      "source": [
        "print(x_train.shape)\n",
        "print(x_test.shape)\n",
        "print(y_train.shape)\n",
        "print(y_test.shape)"
      ],
      "metadata": {
        "colab": {
          "base_uri": "https://localhost:8080/"
        },
        "id": "nz1IEuK4QO5a",
        "outputId": "9d6d302c-9834-4043-848f-b7240dc0c631"
      },
      "execution_count": null,
      "outputs": [
        {
          "output_type": "stream",
          "name": "stdout",
          "text": [
            "(14861, 128, 128)\n",
            "(7321, 128, 128)\n",
            "(14861, 15)\n",
            "(7321, 15)\n"
          ]
        }
      ]
    },
    {
      "cell_type": "code",
      "source": [
        "#y_train = image_label_dummys[:train_test_cutoff]\n",
        "#y_test = image_label_dummys[train_test_cutoff:]"
      ],
      "metadata": {
        "id": "ThzX9EP5Z1RK"
      },
      "execution_count": null,
      "outputs": []
    },
    {
      "cell_type": "code",
      "source": [
        "print(y_train)"
      ],
      "metadata": {
        "colab": {
          "base_uri": "https://localhost:8080/"
        },
        "id": "snjQtPzhQb7m",
        "outputId": "ad5222f0-536b-4c76-8391-b9800dcbd1e6"
      },
      "execution_count": null,
      "outputs": [
        {
          "output_type": "stream",
          "name": "stdout",
          "text": [
            "        Artefact  Chloro  Cilliate  Corrupt  ...  Other  Prymnesio  Rhizaria  Zoo\n",
            "785455         0       0         0        0  ...      0          0         0    0\n",
            "786248         0       0         0        0  ...      0          0         0    0\n",
            "4411           0       0         0        0  ...      1          0         0    0\n",
            "565495         0       0         0        0  ...      0          0         0    0\n",
            "788166         0       0         0        0  ...      1          0         0    0\n",
            "...          ...     ...       ...      ...  ...    ...        ...       ...  ...\n",
            "785721         0       0         0        0  ...      0          0         0    0\n",
            "795332         0       0         0        0  ...      1          0         0    0\n",
            "565613         0       0         0        0  ...      1          0         0    0\n",
            "5219           0       0         0        0  ...      1          0         0    0\n",
            "789552         0       0         0        0  ...      0          0         0    0\n",
            "\n",
            "[14861 rows x 15 columns]\n"
          ]
        }
      ]
    },
    {
      "cell_type": "code",
      "source": [
        "plt.imshow(x_train[100,:,:])"
      ],
      "metadata": {
        "colab": {
          "base_uri": "https://localhost:8080/",
          "height": 285
        },
        "id": "NqNF3KjHQhuX",
        "outputId": "82f5f463-dc55-4d7c-f6c5-c552756ff019"
      },
      "execution_count": null,
      "outputs": [
        {
          "output_type": "execute_result",
          "data": {
            "text/plain": [
              "<matplotlib.image.AxesImage at 0x7f6b972fbc90>"
            ]
          },
          "metadata": {},
          "execution_count": 262
        },
        {
          "output_type": "display_data",
          "data": {
            "image/png": "[encoded data removed]",
            "text/plain": [
              "<Figure size 432x288 with 1 Axes>"
            ]
          },
          "metadata": {
            "needs_background": "light"
          }
        }
      ]
    },
    {
      "cell_type": "code",
      "source": [
        "# Scale images to the [0, 1] range\n",
        "x_train = x_train.astype(\"float32\") / 255\n",
        "x_test = x_test.astype(\"float32\") / 255\n",
        "# Make sure images have shape (28, 28, 1)\n",
        "x_train = np.expand_dims(x_train, -1)\n",
        "x_test = np.expand_dims(x_test, -1)\n",
        "print(\"x_train shape:\", x_train.shape)\n",
        "print(x_train.shape[0], \"train samples\")\n",
        "print(x_test.shape[0], \"test samples\")"
      ],
      "metadata": {
        "colab": {
          "base_uri": "https://localhost:8080/"
        },
        "id": "rJLONT3CQixC",
        "outputId": "586251b5-ba9e-4304-ed9a-efd5f086d3a7"
      },
      "execution_count": null,
      "outputs": [
        {
          "output_type": "stream",
          "name": "stdout",
          "text": [
            "x_train shape: (14861, 128, 128, 1)\n",
            "14861 train samples\n",
            "7321 test samples\n"
          ]
        }
      ]
    },
    {
      "cell_type": "code",
      "source": [
        "# convert class vectors to binary class matrices\n",
        "#y_train = keras.utils.to_categorical(y_train, num_classes)\n",
        "#y_test = keras.utils.to_categorical(y_test, num_classes)"
      ],
      "metadata": {
        "id": "77j-Vl1RV2hf"
      },
      "execution_count": null,
      "outputs": []
    },
    {
      "cell_type": "code",
      "source": [
        "x_train.shape"
      ],
      "metadata": {
        "colab": {
          "base_uri": "https://localhost:8080/"
        },
        "id": "k5EEP09RVZM-",
        "outputId": "5ff6e7d4-58dc-448e-88d3-9d5e072e96c2"
      },
      "execution_count": null,
      "outputs": [
        {
          "output_type": "execute_result",
          "data": {
            "text/plain": [
              "(14861, 128, 128, 1)"
            ]
          },
          "metadata": {},
          "execution_count": 264
        }
      ]
    },
    {
      "cell_type": "code",
      "source": [
        "y_train.shape"
      ],
      "metadata": {
        "colab": {
          "base_uri": "https://localhost:8080/"
        },
        "id": "v7BcuS5zVvjI",
        "outputId": "2ac5f439-9b57-40cd-edf3-6104a4f5d62a"
      },
      "execution_count": null,
      "outputs": [
        {
          "output_type": "execute_result",
          "data": {
            "text/plain": [
              "(14861, 15)"
            ]
          },
          "metadata": {},
          "execution_count": 265
        }
      ]
    },
    {
      "cell_type": "code",
      "source": [
        "type(y_train)"
      ],
      "metadata": {
        "colab": {
          "base_uri": "https://localhost:8080/"
        },
        "id": "h8Ya3LI9V2vJ",
        "outputId": "93aa8d74-6a5a-42a6-85bc-ff7c88c93e5f"
      },
      "execution_count": null,
      "outputs": [
        {
          "output_type": "execute_result",
          "data": {
            "text/plain": [
              "pandas.core.frame.DataFrame"
            ]
          },
          "metadata": {},
          "execution_count": 266
        }
      ]
    },
    {
      "cell_type": "code",
      "source": [
        "np.array(y_train)\n",
        "y_train.shape"
      ],
      "metadata": {
        "colab": {
          "base_uri": "https://localhost:8080/"
        },
        "id": "CyBDIfkuV8i5",
        "outputId": "88f962e2-571d-40da-bc6b-b1ff6278e090"
      },
      "execution_count": null,
      "outputs": [
        {
          "output_type": "execute_result",
          "data": {
            "text/plain": [
              "(14861, 15)"
            ]
          },
          "metadata": {},
          "execution_count": 267
        }
      ]
    },
    {
      "cell_type": "markdown",
      "source": [
        "### Build the model"
      ],
      "metadata": {
        "id": "SaTuMnF1aPD9"
      }
    },
    {
      "cell_type": "code",
      "source": [
        "model = keras.Sequential(\n",
        "    [\n",
        "        keras.Input(shape=input_shape),\n",
        "        layers.Conv2D(32, kernel_size=(3, 3), activation=\"relu\"),\n",
        "        layers.MaxPooling2D(pool_size=(2, 2)),\n",
        "        layers.Conv2D(64, kernel_size=(3, 3), activation=\"relu\"),\n",
        "        layers.MaxPooling2D(pool_size=(2, 2)),\n",
        "        layers.Flatten(),\n",
        "        layers.Dropout(0.5),\n",
        "        layers.Dense(num_classes, activation=\"softmax\"),\n",
        "    ]\n",
        ")\n",
        "\n",
        "model.summary()"
      ],
      "metadata": {
        "colab": {
          "base_uri": "https://localhost:8080/"
        },
        "id": "2lROJTwhZ14S",
        "outputId": "d3290c45-73ef-491b-b01e-f05050dda389"
      },
      "execution_count": null,
      "outputs": [
        {
          "output_type": "stream",
          "name": "stdout",
          "text": [
            "Model: \"sequential_2\"\n",
            "_________________________________________________________________\n",
            " Layer (type)                Output Shape              Param #   \n",
            "=================================================================\n",
            " conv2d_4 (Conv2D)           (None, 126, 126, 32)      320       \n",
            "                                                                 \n",
            " max_pooling2d_4 (MaxPooling  (None, 63, 63, 32)       0         \n",
            " 2D)                                                             \n",
            "                                                                 \n",
            " conv2d_5 (Conv2D)           (None, 61, 61, 64)        18496     \n",
            "                                                                 \n",
            " max_pooling2d_5 (MaxPooling  (None, 30, 30, 64)       0         \n",
            " 2D)                                                             \n",
            "                                                                 \n",
            " flatten_2 (Flatten)         (None, 57600)             0         \n",
            "                                                                 \n",
            " dropout_2 (Dropout)         (None, 57600)             0         \n",
            "                                                                 \n",
            " dense_2 (Dense)             (None, 15)                864015    \n",
            "                                                                 \n",
            "=================================================================\n",
            "Total params: 882,831\n",
            "Trainable params: 882,831\n",
            "Non-trainable params: 0\n",
            "_________________________________________________________________\n"
          ]
        }
      ]
    },
    {
      "cell_type": "markdown",
      "source": [
        "### Train the model"
      ],
      "metadata": {
        "id": "nF-PaZHjaXIB"
      }
    },
    {
      "cell_type": "code",
      "source": [
        "x_train.shape"
      ],
      "metadata": {
        "colab": {
          "base_uri": "https://localhost:8080/"
        },
        "id": "MZJ2wWBOah1i",
        "outputId": "d0a3c31e-842a-4063-c210-269df50c8c1d"
      },
      "execution_count": null,
      "outputs": [
        {
          "output_type": "execute_result",
          "data": {
            "text/plain": [
              "(14861, 128, 128, 1)"
            ]
          },
          "metadata": {},
          "execution_count": 269
        }
      ]
    },
    {
      "cell_type": "code",
      "source": [
        "y_train.shape"
      ],
      "metadata": {
        "colab": {
          "base_uri": "https://localhost:8080/"
        },
        "id": "F_1qzz63akp7",
        "outputId": "39907fc1-a8d2-4086-99a7-16e10b651762"
      },
      "execution_count": null,
      "outputs": [
        {
          "output_type": "execute_result",
          "data": {
            "text/plain": [
              "(14861, 15)"
            ]
          },
          "metadata": {},
          "execution_count": 270
        }
      ]
    },
    {
      "cell_type": "code",
      "source": [
        "batch_size = 128\n",
        "epochs = 15\n",
        "\n",
        "model.compile(loss=\"categorical_crossentropy\", optimizer=\"adam\", metrics=[\"accuracy\"])\n",
        "\n",
        "model.fit(x_train, y_train, batch_size=batch_size, epochs=epochs, validation_split=0.1)"
      ],
      "metadata": {
        "colab": {
          "base_uri": "https://localhost:8080/",
          "height": 589
        },
        "id": "Rjoo3fZYaTUK",
        "outputId": "c18dd51c-8b38-40f0-baa5-43ed41b9d706"
      },
      "execution_count": null,
      "outputs": [
        {
          "output_type": "stream",
          "name": "stdout",
          "text": [
            "Epoch 1/15\n",
            "105/105 [==============================] - 256s 2s/step - loss: 1.0973 - accuracy: 0.6638 - val_loss: 0.8908 - val_accuracy: 0.7169\n",
            "Epoch 2/15\n",
            "105/105 [==============================] - 251s 2s/step - loss: 0.8455 - accuracy: 0.7334 - val_loss: 0.7856 - val_accuracy: 0.7471\n",
            "Epoch 3/15\n",
            "105/105 [==============================] - 251s 2s/step - loss: 0.7541 - accuracy: 0.7582 - val_loss: 0.7100 - val_accuracy: 0.7754\n",
            "Epoch 4/15\n",
            "105/105 [==============================] - 251s 2s/step - loss: 0.7094 - accuracy: 0.7706 - val_loss: 0.6938 - val_accuracy: 0.7734\n",
            "Epoch 5/15\n",
            "105/105 [==============================] - 249s 2s/step - loss: 0.6760 - accuracy: 0.7798 - val_loss: 0.6646 - val_accuracy: 0.7841\n",
            "Epoch 6/15\n",
            "105/105 [==============================] - 253s 2s/step - loss: 0.6464 - accuracy: 0.7918 - val_loss: 0.6520 - val_accuracy: 0.7956\n",
            "Epoch 7/15\n",
            " 42/105 [===========>..................] - ETA: 2:28 - loss: 0.6212 - accuracy: 0.7967"
          ]
        },
        {
          "output_type": "error",
          "ename": "KeyboardInterrupt",
          "evalue": "ignored",
          "traceback": [
            "\u001b[0;31m---------------------------------------------------------------------------\u001b[0m",
            "\u001b[0;31mKeyboardInterrupt\u001b[0m                         Traceback (most recent call last)",
            "\u001b[0;32m<ipython-input-271-e30d719c0a87>\u001b[0m in \u001b[0;36m<module>\u001b[0;34m()\u001b[0m\n\u001b[1;32m      4\u001b[0m \u001b[0mmodel\u001b[0m\u001b[0;34m.\u001b[0m\u001b[0mcompile\u001b[0m\u001b[0;34m(\u001b[0m\u001b[0mloss\u001b[0m\u001b[0;34m=\u001b[0m\u001b[0;34m\"categorical_crossentropy\"\u001b[0m\u001b[0;34m,\u001b[0m \u001b[0moptimizer\u001b[0m\u001b[0;34m=\u001b[0m\u001b[0;34m\"adam\"\u001b[0m\u001b[0;34m,\u001b[0m \u001b[0mmetrics\u001b[0m\u001b[0;34m=\u001b[0m\u001b[0;34m[\u001b[0m\u001b[0;34m\"accuracy\"\u001b[0m\u001b[0;34m]\u001b[0m\u001b[0;34m)\u001b[0m\u001b[0;34m\u001b[0m\u001b[0;34m\u001b[0m\u001b[0m\n\u001b[1;32m      5\u001b[0m \u001b[0;34m\u001b[0m\u001b[0m\n\u001b[0;32m----> 6\u001b[0;31m \u001b[0mmodel\u001b[0m\u001b[0;34m.\u001b[0m\u001b[0mfit\u001b[0m\u001b[0;34m(\u001b[0m\u001b[0mx_train\u001b[0m\u001b[0;34m,\u001b[0m \u001b[0my_train\u001b[0m\u001b[0;34m,\u001b[0m \u001b[0mbatch_size\u001b[0m\u001b[0;34m=\u001b[0m\u001b[0mbatch_size\u001b[0m\u001b[0;34m,\u001b[0m \u001b[0mepochs\u001b[0m\u001b[0;34m=\u001b[0m\u001b[0mepochs\u001b[0m\u001b[0;34m,\u001b[0m \u001b[0mvalidation_split\u001b[0m\u001b[0;34m=\u001b[0m\u001b[0;36m0.1\u001b[0m\u001b[0;34m)\u001b[0m\u001b[0;34m\u001b[0m\u001b[0;34m\u001b[0m\u001b[0m\n\u001b[0m",
            "\u001b[0;32m/usr/local/lib/python3.7/dist-packages/keras/utils/traceback_utils.py\u001b[0m in \u001b[0;36merror_handler\u001b[0;34m(*args, **kwargs)\u001b[0m\n\u001b[1;32m     62\u001b[0m     \u001b[0mfiltered_tb\u001b[0m \u001b[0;34m=\u001b[0m \u001b[0;32mNone\u001b[0m\u001b[0;34m\u001b[0m\u001b[0;34m\u001b[0m\u001b[0m\n\u001b[1;32m     63\u001b[0m     \u001b[0;32mtry\u001b[0m\u001b[0;34m:\u001b[0m\u001b[0;34m\u001b[0m\u001b[0;34m\u001b[0m\u001b[0m\n\u001b[0;32m---> 64\u001b[0;31m       \u001b[0;32mreturn\u001b[0m \u001b[0mfn\u001b[0m\u001b[0;34m(\u001b[0m\u001b[0;34m*\u001b[0m\u001b[0margs\u001b[0m\u001b[0;34m,\u001b[0m \u001b[0;34m**\u001b[0m\u001b[0mkwargs\u001b[0m\u001b[0;34m)\u001b[0m\u001b[0;34m\u001b[0m\u001b[0;34m\u001b[0m\u001b[0m\n\u001b[0m\u001b[1;32m     65\u001b[0m     \u001b[0;32mexcept\u001b[0m \u001b[0mException\u001b[0m \u001b[0;32mas\u001b[0m \u001b[0me\u001b[0m\u001b[0;34m:\u001b[0m  \u001b[0;31m# pylint: disable=broad-except\u001b[0m\u001b[0;34m\u001b[0m\u001b[0;34m\u001b[0m\u001b[0m\n\u001b[1;32m     66\u001b[0m       \u001b[0mfiltered_tb\u001b[0m \u001b[0;34m=\u001b[0m \u001b[0m_process_traceback_frames\u001b[0m\u001b[0;34m(\u001b[0m\u001b[0me\u001b[0m\u001b[0;34m.\u001b[0m\u001b[0m__traceback__\u001b[0m\u001b[0;34m)\u001b[0m\u001b[0;34m\u001b[0m\u001b[0;34m\u001b[0m\u001b[0m\n",
            "\u001b[0;32m/usr/local/lib/python3.7/dist-packages/keras/engine/training.py\u001b[0m in \u001b[0;36mfit\u001b[0;34m(self, x, y, batch_size, epochs, verbose, callbacks, validation_split, validation_data, shuffle, class_weight, sample_weight, initial_epoch, steps_per_epoch, validation_steps, validation_batch_size, validation_freq, max_queue_size, workers, use_multiprocessing)\u001b[0m\n\u001b[1;32m   1214\u001b[0m                 _r=1):\n\u001b[1;32m   1215\u001b[0m               \u001b[0mcallbacks\u001b[0m\u001b[0;34m.\u001b[0m\u001b[0mon_train_batch_begin\u001b[0m\u001b[0;34m(\u001b[0m\u001b[0mstep\u001b[0m\u001b[0;34m)\u001b[0m\u001b[0;34m\u001b[0m\u001b[0;34m\u001b[0m\u001b[0m\n\u001b[0;32m-> 1216\u001b[0;31m               \u001b[0mtmp_logs\u001b[0m \u001b[0;34m=\u001b[0m \u001b[0mself\u001b[0m\u001b[0;34m.\u001b[0m\u001b[0mtrain_function\u001b[0m\u001b[0;34m(\u001b[0m\u001b[0miterator\u001b[0m\u001b[0;34m)\u001b[0m\u001b[0;34m\u001b[0m\u001b[0;34m\u001b[0m\u001b[0m\n\u001b[0m\u001b[1;32m   1217\u001b[0m               \u001b[0;32mif\u001b[0m \u001b[0mdata_handler\u001b[0m\u001b[0;34m.\u001b[0m\u001b[0mshould_sync\u001b[0m\u001b[0;34m:\u001b[0m\u001b[0;34m\u001b[0m\u001b[0;34m\u001b[0m\u001b[0m\n\u001b[1;32m   1218\u001b[0m                 \u001b[0mcontext\u001b[0m\u001b[0;34m.\u001b[0m\u001b[0masync_wait\u001b[0m\u001b[0;34m(\u001b[0m\u001b[0;34m)\u001b[0m\u001b[0;34m\u001b[0m\u001b[0;34m\u001b[0m\u001b[0m\n",
            "\u001b[0;32m/usr/local/lib/python3.7/dist-packages/tensorflow/python/util/traceback_utils.py\u001b[0m in \u001b[0;36merror_handler\u001b[0;34m(*args, **kwargs)\u001b[0m\n\u001b[1;32m    148\u001b[0m     \u001b[0mfiltered_tb\u001b[0m \u001b[0;34m=\u001b[0m \u001b[0;32mNone\u001b[0m\u001b[0;34m\u001b[0m\u001b[0;34m\u001b[0m\u001b[0m\n\u001b[1;32m    149\u001b[0m     \u001b[0;32mtry\u001b[0m\u001b[0;34m:\u001b[0m\u001b[0;34m\u001b[0m\u001b[0;34m\u001b[0m\u001b[0m\n\u001b[0;32m--> 150\u001b[0;31m       \u001b[0;32mreturn\u001b[0m \u001b[0mfn\u001b[0m\u001b[0;34m(\u001b[0m\u001b[0;34m*\u001b[0m\u001b[0margs\u001b[0m\u001b[0;34m,\u001b[0m \u001b[0;34m**\u001b[0m\u001b[0mkwargs\u001b[0m\u001b[0;34m)\u001b[0m\u001b[0;34m\u001b[0m\u001b[0;34m\u001b[0m\u001b[0m\n\u001b[0m\u001b[1;32m    151\u001b[0m     \u001b[0;32mexcept\u001b[0m \u001b[0mException\u001b[0m \u001b[0;32mas\u001b[0m \u001b[0me\u001b[0m\u001b[0;34m:\u001b[0m\u001b[0;34m\u001b[0m\u001b[0;34m\u001b[0m\u001b[0m\n\u001b[1;32m    152\u001b[0m       \u001b[0mfiltered_tb\u001b[0m \u001b[0;34m=\u001b[0m \u001b[0m_process_traceback_frames\u001b[0m\u001b[0;34m(\u001b[0m\u001b[0me\u001b[0m\u001b[0;34m.\u001b[0m\u001b[0m__traceback__\u001b[0m\u001b[0;34m)\u001b[0m\u001b[0;34m\u001b[0m\u001b[0;34m\u001b[0m\u001b[0m\n",
            "\u001b[0;32m/usr/local/lib/python3.7/dist-packages/tensorflow/python/eager/def_function.py\u001b[0m in \u001b[0;36m__call__\u001b[0;34m(self, *args, **kwds)\u001b[0m\n\u001b[1;32m    908\u001b[0m \u001b[0;34m\u001b[0m\u001b[0m\n\u001b[1;32m    909\u001b[0m       \u001b[0;32mwith\u001b[0m \u001b[0mOptionalXlaContext\u001b[0m\u001b[0;34m(\u001b[0m\u001b[0mself\u001b[0m\u001b[0;34m.\u001b[0m\u001b[0m_jit_compile\u001b[0m\u001b[0;34m)\u001b[0m\u001b[0;34m:\u001b[0m\u001b[0;34m\u001b[0m\u001b[0;34m\u001b[0m\u001b[0m\n\u001b[0;32m--> 910\u001b[0;31m         \u001b[0mresult\u001b[0m \u001b[0;34m=\u001b[0m \u001b[0mself\u001b[0m\u001b[0;34m.\u001b[0m\u001b[0m_call\u001b[0m\u001b[0;34m(\u001b[0m\u001b[0;34m*\u001b[0m\u001b[0margs\u001b[0m\u001b[0;34m,\u001b[0m \u001b[0;34m**\u001b[0m\u001b[0mkwds\u001b[0m\u001b[0;34m)\u001b[0m\u001b[0;34m\u001b[0m\u001b[0;34m\u001b[0m\u001b[0m\n\u001b[0m\u001b[1;32m    911\u001b[0m \u001b[0;34m\u001b[0m\u001b[0m\n\u001b[1;32m    912\u001b[0m       \u001b[0mnew_tracing_count\u001b[0m \u001b[0;34m=\u001b[0m \u001b[0mself\u001b[0m\u001b[0;34m.\u001b[0m\u001b[0mexperimental_get_tracing_count\u001b[0m\u001b[0;34m(\u001b[0m\u001b[0;34m)\u001b[0m\u001b[0;34m\u001b[0m\u001b[0;34m\u001b[0m\u001b[0m\n",
            "\u001b[0;32m/usr/local/lib/python3.7/dist-packages/tensorflow/python/eager/def_function.py\u001b[0m in \u001b[0;36m_call\u001b[0;34m(self, *args, **kwds)\u001b[0m\n\u001b[1;32m    940\u001b[0m       \u001b[0;31m# In this case we have created variables on the first call, so we run the\u001b[0m\u001b[0;34m\u001b[0m\u001b[0;34m\u001b[0m\u001b[0;34m\u001b[0m\u001b[0m\n\u001b[1;32m    941\u001b[0m       \u001b[0;31m# defunned version which is guaranteed to never create variables.\u001b[0m\u001b[0;34m\u001b[0m\u001b[0;34m\u001b[0m\u001b[0;34m\u001b[0m\u001b[0m\n\u001b[0;32m--> 942\u001b[0;31m       \u001b[0;32mreturn\u001b[0m \u001b[0mself\u001b[0m\u001b[0;34m.\u001b[0m\u001b[0m_stateless_fn\u001b[0m\u001b[0;34m(\u001b[0m\u001b[0;34m*\u001b[0m\u001b[0margs\u001b[0m\u001b[0;34m,\u001b[0m \u001b[0;34m**\u001b[0m\u001b[0mkwds\u001b[0m\u001b[0;34m)\u001b[0m  \u001b[0;31m# pylint: disable=not-callable\u001b[0m\u001b[0;34m\u001b[0m\u001b[0;34m\u001b[0m\u001b[0m\n\u001b[0m\u001b[1;32m    943\u001b[0m     \u001b[0;32melif\u001b[0m \u001b[0mself\u001b[0m\u001b[0;34m.\u001b[0m\u001b[0m_stateful_fn\u001b[0m \u001b[0;32mis\u001b[0m \u001b[0;32mnot\u001b[0m \u001b[0;32mNone\u001b[0m\u001b[0;34m:\u001b[0m\u001b[0;34m\u001b[0m\u001b[0;34m\u001b[0m\u001b[0m\n\u001b[1;32m    944\u001b[0m       \u001b[0;31m# Release the lock early so that multiple threads can perform the call\u001b[0m\u001b[0;34m\u001b[0m\u001b[0;34m\u001b[0m\u001b[0;34m\u001b[0m\u001b[0m\n",
            "\u001b[0;32m/usr/local/lib/python3.7/dist-packages/tensorflow/python/eager/function.py\u001b[0m in \u001b[0;36m__call__\u001b[0;34m(self, *args, **kwargs)\u001b[0m\n\u001b[1;32m   3129\u001b[0m        filtered_flat_args) = self._maybe_define_function(args, kwargs)\n\u001b[1;32m   3130\u001b[0m     return graph_function._call_flat(\n\u001b[0;32m-> 3131\u001b[0;31m         filtered_flat_args, captured_inputs=graph_function.captured_inputs)  # pylint: disable=protected-access\n\u001b[0m\u001b[1;32m   3132\u001b[0m \u001b[0;34m\u001b[0m\u001b[0m\n\u001b[1;32m   3133\u001b[0m   \u001b[0;34m@\u001b[0m\u001b[0mproperty\u001b[0m\u001b[0;34m\u001b[0m\u001b[0;34m\u001b[0m\u001b[0m\n",
            "\u001b[0;32m/usr/local/lib/python3.7/dist-packages/tensorflow/python/eager/function.py\u001b[0m in \u001b[0;36m_call_flat\u001b[0;34m(self, args, captured_inputs, cancellation_manager)\u001b[0m\n\u001b[1;32m   1958\u001b[0m       \u001b[0;31m# No tape is watching; skip to running the function.\u001b[0m\u001b[0;34m\u001b[0m\u001b[0;34m\u001b[0m\u001b[0;34m\u001b[0m\u001b[0m\n\u001b[1;32m   1959\u001b[0m       return self._build_call_outputs(self._inference_function.call(\n\u001b[0;32m-> 1960\u001b[0;31m           ctx, args, cancellation_manager=cancellation_manager))\n\u001b[0m\u001b[1;32m   1961\u001b[0m     forward_backward = self._select_forward_and_backward_functions(\n\u001b[1;32m   1962\u001b[0m         \u001b[0margs\u001b[0m\u001b[0;34m,\u001b[0m\u001b[0;34m\u001b[0m\u001b[0;34m\u001b[0m\u001b[0m\n",
            "\u001b[0;32m/usr/local/lib/python3.7/dist-packages/tensorflow/python/eager/function.py\u001b[0m in \u001b[0;36mcall\u001b[0;34m(self, ctx, args, cancellation_manager)\u001b[0m\n\u001b[1;32m    601\u001b[0m               \u001b[0minputs\u001b[0m\u001b[0;34m=\u001b[0m\u001b[0margs\u001b[0m\u001b[0;34m,\u001b[0m\u001b[0;34m\u001b[0m\u001b[0;34m\u001b[0m\u001b[0m\n\u001b[1;32m    602\u001b[0m               \u001b[0mattrs\u001b[0m\u001b[0;34m=\u001b[0m\u001b[0mattrs\u001b[0m\u001b[0;34m,\u001b[0m\u001b[0;34m\u001b[0m\u001b[0;34m\u001b[0m\u001b[0m\n\u001b[0;32m--> 603\u001b[0;31m               ctx=ctx)\n\u001b[0m\u001b[1;32m    604\u001b[0m         \u001b[0;32melse\u001b[0m\u001b[0;34m:\u001b[0m\u001b[0;34m\u001b[0m\u001b[0;34m\u001b[0m\u001b[0m\n\u001b[1;32m    605\u001b[0m           outputs = execute.execute_with_cancellation(\n",
            "\u001b[0;32m/usr/local/lib/python3.7/dist-packages/tensorflow/python/eager/execute.py\u001b[0m in \u001b[0;36mquick_execute\u001b[0;34m(op_name, num_outputs, inputs, attrs, ctx, name)\u001b[0m\n\u001b[1;32m     57\u001b[0m     \u001b[0mctx\u001b[0m\u001b[0;34m.\u001b[0m\u001b[0mensure_initialized\u001b[0m\u001b[0;34m(\u001b[0m\u001b[0;34m)\u001b[0m\u001b[0;34m\u001b[0m\u001b[0;34m\u001b[0m\u001b[0m\n\u001b[1;32m     58\u001b[0m     tensors = pywrap_tfe.TFE_Py_Execute(ctx._handle, device_name, op_name,\n\u001b[0;32m---> 59\u001b[0;31m                                         inputs, attrs, num_outputs)\n\u001b[0m\u001b[1;32m     60\u001b[0m   \u001b[0;32mexcept\u001b[0m \u001b[0mcore\u001b[0m\u001b[0;34m.\u001b[0m\u001b[0m_NotOkStatusException\u001b[0m \u001b[0;32mas\u001b[0m \u001b[0me\u001b[0m\u001b[0;34m:\u001b[0m\u001b[0;34m\u001b[0m\u001b[0;34m\u001b[0m\u001b[0m\n\u001b[1;32m     61\u001b[0m     \u001b[0;32mif\u001b[0m \u001b[0mname\u001b[0m \u001b[0;32mis\u001b[0m \u001b[0;32mnot\u001b[0m \u001b[0;32mNone\u001b[0m\u001b[0;34m:\u001b[0m\u001b[0;34m\u001b[0m\u001b[0;34m\u001b[0m\u001b[0m\n",
            "\u001b[0;31mKeyboardInterrupt\u001b[0m: "
          ]
        }
      ]
    },
    {
      "cell_type": "markdown",
      "source": [
        "### Evaluate the trained model"
      ],
      "metadata": {
        "id": "0rO-fo6IbOG-"
      }
    },
    {
      "cell_type": "code",
      "source": [
        "score = model.evaluate(x_test, y_test, verbose=0)\n",
        "print(\"Test loss:\", score[0])\n",
        "print(\"Test accuracy:\", score[1])"
      ],
      "metadata": {
        "colab": {
          "base_uri": "https://localhost:8080/"
        },
        "id": "OEDesJ95abmX",
        "outputId": "703cd4b1-50b0-40a7-8164-8c110043336e"
      },
      "execution_count": null,
      "outputs": [
        {
          "output_type": "stream",
          "name": "stdout",
          "text": [
            "Test loss: 0.18661648035049438\n",
            "Test accuracy: 0.9599999785423279\n"
          ]
        }
      ]
    },
    {
      "cell_type": "code",
      "source": [
        ""
      ],
      "metadata": {
        "id": "cd17eBw3bSQP"
      },
      "execution_count": null,
      "outputs": []
    }
  ],
  "metadata": {
    "colab": {
      "name": "Create_sample_workflow.ipynb",
      "provenance": [],
      "collapsed_sections": [],
      "authorship_tag": "ABX9TyNJ/jVtxzdsMWUrW9XqDNrr"
    },
    "kernelspec": {
      "display_name": "Python 3",
      "name": "python3"
    },
    "language_info": {
      "name": "python"
    },
    "accelerator": "GPU"
  },
  "nbformat": 4,
  "nbformat_minor": 0
}