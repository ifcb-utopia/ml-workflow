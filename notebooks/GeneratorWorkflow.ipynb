{
 "cells": [
  {
   "cell_type": "markdown",
   "id": "ce7fdf2e-18ff-4ce1-a078-409ed6464ac7",
   "metadata": {},
   "source": [
    "We have stored the NAAMES data to Azure Cloud Storage and to read it we will use the Python API. \n",
    "\n",
    "ifcb storage account -> naames container -> NAAMES_ml folder"
   ]
  },
  {
   "cell_type": "code",
   "execution_count": 3,
   "id": "3031ea78-9c45-495a-92ad-9626c057ddaf",
   "metadata": {},
   "outputs": [],
   "source": [
    "import matplotlib.pyplot as plt\n",
    "import pandas as pd\n",
    "import os"
   ]
  },
  {
   "cell_type": "code",
   "execution_count": 4,
   "id": "bec48228-1585-4ae5-a256-9db5d12d5f3e",
   "metadata": {
    "tags": []
   },
   "outputs": [],
   "source": [
    "import imageio"
   ]
  },
  {
   "cell_type": "code",
   "execution_count": 5,
   "id": "44e6fb9b-2d28-4eb6-adc8-052fd7c706fb",
   "metadata": {},
   "outputs": [],
   "source": [
    "import getpass"
   ]
  },
  {
   "cell_type": "code",
   "execution_count": 2,
   "id": "9d6ad145-4dba-4570-bdee-cb647989cfb9",
   "metadata": {},
   "outputs": [
    {
     "name": "stdout",
     "output_type": "stream",
     "text": [
      "Requirement already satisfied: opencv-python-headless in /srv/conda/envs/notebook/lib/python3.8/site-packages (from -r ../requirements.txt (line 1)) (4.5.5.62)\n",
      "Requirement already satisfied: tensorflow in /srv/conda/envs/notebook/lib/python3.8/site-packages (from -r ../requirements.txt (line 2)) (2.4.1)\n",
      "Requirement already satisfied: numpy>=1.17.3 in /srv/conda/envs/notebook/lib/python3.8/site-packages (from opencv-python-headless->-r ../requirements.txt (line 1)) (1.19.5)\n",
      "Requirement already satisfied: h5py~=2.10.0 in /srv/conda/envs/notebook/lib/python3.8/site-packages (from tensorflow->-r ../requirements.txt (line 2)) (2.10.0)\n",
      "Requirement already satisfied: opt-einsum~=3.3.0 in /srv/conda/envs/notebook/lib/python3.8/site-packages (from tensorflow->-r ../requirements.txt (line 2)) (3.3.0)\n",
      "Requirement already satisfied: tensorflow-estimator<2.5.0,>=2.4.0 in /srv/conda/envs/notebook/lib/python3.8/site-packages (from tensorflow->-r ../requirements.txt (line 2)) (2.4.0)\n",
      "Requirement already satisfied: tensorboard~=2.4 in /srv/conda/envs/notebook/lib/python3.8/site-packages (from tensorflow->-r ../requirements.txt (line 2)) (2.8.0)\n",
      "Requirement already satisfied: astunparse~=1.6.3 in /srv/conda/envs/notebook/lib/python3.8/site-packages (from tensorflow->-r ../requirements.txt (line 2)) (1.6.3)\n",
      "Requirement already satisfied: keras-preprocessing~=1.1.2 in /srv/conda/envs/notebook/lib/python3.8/site-packages (from tensorflow->-r ../requirements.txt (line 2)) (1.1.2)\n",
      "Requirement already satisfied: typing-extensions~=3.7.4 in /srv/conda/envs/notebook/lib/python3.8/site-packages (from tensorflow->-r ../requirements.txt (line 2)) (3.7.4.3)\n",
      "Requirement already satisfied: wrapt~=1.12.1 in /srv/conda/envs/notebook/lib/python3.8/site-packages (from tensorflow->-r ../requirements.txt (line 2)) (1.12.1)\n",
      "Requirement already satisfied: flatbuffers~=1.12.0 in /srv/conda/envs/notebook/lib/python3.8/site-packages (from tensorflow->-r ../requirements.txt (line 2)) (1.12)\n",
      "Requirement already satisfied: absl-py~=0.10 in /srv/conda/envs/notebook/lib/python3.8/site-packages (from tensorflow->-r ../requirements.txt (line 2)) (0.15.0)\n",
      "Requirement already satisfied: termcolor~=1.1.0 in /srv/conda/envs/notebook/lib/python3.8/site-packages (from tensorflow->-r ../requirements.txt (line 2)) (1.1.0)\n",
      "Requirement already satisfied: gast==0.3.3 in /srv/conda/envs/notebook/lib/python3.8/site-packages (from tensorflow->-r ../requirements.txt (line 2)) (0.3.3)\n",
      "Requirement already satisfied: google-pasta~=0.2 in /srv/conda/envs/notebook/lib/python3.8/site-packages (from tensorflow->-r ../requirements.txt (line 2)) (0.2.0)\n",
      "Requirement already satisfied: protobuf>=3.9.2 in /srv/conda/envs/notebook/lib/python3.8/site-packages (from tensorflow->-r ../requirements.txt (line 2)) (3.19.4)\n",
      "Requirement already satisfied: six~=1.15.0 in /srv/conda/envs/notebook/lib/python3.8/site-packages (from tensorflow->-r ../requirements.txt (line 2)) (1.15.0)\n",
      "Requirement already satisfied: wheel~=0.35 in /srv/conda/envs/notebook/lib/python3.8/site-packages (from tensorflow->-r ../requirements.txt (line 2)) (0.37.1)\n",
      "Requirement already satisfied: grpcio~=1.32.0 in /srv/conda/envs/notebook/lib/python3.8/site-packages (from tensorflow->-r ../requirements.txt (line 2)) (1.32.0)\n",
      "Requirement already satisfied: requests<3,>=2.21.0 in /srv/conda/envs/notebook/lib/python3.8/site-packages (from tensorboard~=2.4->tensorflow->-r ../requirements.txt (line 2)) (2.27.1)\n",
      "Requirement already satisfied: markdown>=2.6.8 in /srv/conda/envs/notebook/lib/python3.8/site-packages (from tensorboard~=2.4->tensorflow->-r ../requirements.txt (line 2)) (3.3.6)\n",
      "Requirement already satisfied: setuptools>=41.0.0 in /srv/conda/envs/notebook/lib/python3.8/site-packages (from tensorboard~=2.4->tensorflow->-r ../requirements.txt (line 2)) (59.8.0)\n",
      "Requirement already satisfied: tensorboard-plugin-wit>=1.6.0 in /srv/conda/envs/notebook/lib/python3.8/site-packages (from tensorboard~=2.4->tensorflow->-r ../requirements.txt (line 2)) (1.8.1)\n",
      "Requirement already satisfied: tensorboard-data-server<0.7.0,>=0.6.0 in /srv/conda/envs/notebook/lib/python3.8/site-packages (from tensorboard~=2.4->tensorflow->-r ../requirements.txt (line 2)) (0.6.0)\n",
      "Requirement already satisfied: werkzeug>=0.11.15 in /srv/conda/envs/notebook/lib/python3.8/site-packages (from tensorboard~=2.4->tensorflow->-r ../requirements.txt (line 2)) (2.0.3)\n",
      "Requirement already satisfied: google-auth<3,>=1.6.3 in /srv/conda/envs/notebook/lib/python3.8/site-packages (from tensorboard~=2.4->tensorflow->-r ../requirements.txt (line 2)) (2.6.0)\n",
      "Requirement already satisfied: google-auth-oauthlib<0.5,>=0.4.1 in /srv/conda/envs/notebook/lib/python3.8/site-packages (from tensorboard~=2.4->tensorflow->-r ../requirements.txt (line 2)) (0.4.6)\n",
      "Requirement already satisfied: cachetools<6.0,>=2.0.0 in /srv/conda/envs/notebook/lib/python3.8/site-packages (from google-auth<3,>=1.6.3->tensorboard~=2.4->tensorflow->-r ../requirements.txt (line 2)) (5.0.0)\n",
      "Requirement already satisfied: rsa<5,>=3.1.4 in /srv/conda/envs/notebook/lib/python3.8/site-packages (from google-auth<3,>=1.6.3->tensorboard~=2.4->tensorflow->-r ../requirements.txt (line 2)) (4.7.2)\n",
      "Requirement already satisfied: pyasn1-modules>=0.2.1 in /srv/conda/envs/notebook/lib/python3.8/site-packages (from google-auth<3,>=1.6.3->tensorboard~=2.4->tensorflow->-r ../requirements.txt (line 2)) (0.2.8)\n",
      "Requirement already satisfied: requests-oauthlib>=0.7.0 in /srv/conda/envs/notebook/lib/python3.8/site-packages (from google-auth-oauthlib<0.5,>=0.4.1->tensorboard~=2.4->tensorflow->-r ../requirements.txt (line 2)) (1.3.1)\n",
      "Requirement already satisfied: importlib-metadata>=4.4 in /srv/conda/envs/notebook/lib/python3.8/site-packages (from markdown>=2.6.8->tensorboard~=2.4->tensorflow->-r ../requirements.txt (line 2)) (4.11.0)\n",
      "Requirement already satisfied: zipp>=0.5 in /srv/conda/envs/notebook/lib/python3.8/site-packages (from importlib-metadata>=4.4->markdown>=2.6.8->tensorboard~=2.4->tensorflow->-r ../requirements.txt (line 2)) (3.7.0)\n",
      "Requirement already satisfied: pyasn1<0.5.0,>=0.4.6 in /srv/conda/envs/notebook/lib/python3.8/site-packages (from pyasn1-modules>=0.2.1->google-auth<3,>=1.6.3->tensorboard~=2.4->tensorflow->-r ../requirements.txt (line 2)) (0.4.8)\n",
      "Requirement already satisfied: urllib3<1.27,>=1.21.1 in /srv/conda/envs/notebook/lib/python3.8/site-packages (from requests<3,>=2.21.0->tensorboard~=2.4->tensorflow->-r ../requirements.txt (line 2)) (1.26.8)\n",
      "Requirement already satisfied: certifi>=2017.4.17 in /srv/conda/envs/notebook/lib/python3.8/site-packages (from requests<3,>=2.21.0->tensorboard~=2.4->tensorflow->-r ../requirements.txt (line 2)) (2021.10.8)\n",
      "Requirement already satisfied: idna<4,>=2.5 in /srv/conda/envs/notebook/lib/python3.8/site-packages (from requests<3,>=2.21.0->tensorboard~=2.4->tensorflow->-r ../requirements.txt (line 2)) (3.3)\n",
      "Requirement already satisfied: charset-normalizer~=2.0.0 in /srv/conda/envs/notebook/lib/python3.8/site-packages (from requests<3,>=2.21.0->tensorboard~=2.4->tensorflow->-r ../requirements.txt (line 2)) (2.0.11)\n",
      "Requirement already satisfied: oauthlib>=3.0.0 in /srv/conda/envs/notebook/lib/python3.8/site-packages (from requests-oauthlib>=0.7.0->google-auth-oauthlib<0.5,>=0.4.1->tensorboard~=2.4->tensorflow->-r ../requirements.txt (line 2)) (3.2.0)\n",
      "Note: you may need to restart the kernel to use updated packages.\n"
     ]
    }
   ],
   "source": [
    "pip install -r ../requirements.txt"
   ]
  },
  {
   "cell_type": "code",
   "execution_count": 6,
   "id": "b13e75e7-caac-4399-a45f-6855ff443b0c",
   "metadata": {},
   "outputs": [
    {
     "name": "stderr",
     "output_type": "stream",
     "text": [
      "2022-02-16 23:40:41.701660: I tensorflow/stream_executor/platform/default/dso_loader.cc:49] Successfully opened dynamic library libcudart.so.10.1\n"
     ]
    }
   ],
   "source": [
    "from tensorflow.keras.layers import Dropout\n",
    "from tensorflow.keras.layers import Dense\n",
    "from tensorflow.keras.models import Model"
   ]
  },
  {
   "cell_type": "code",
   "execution_count": 7,
   "id": "c0b6823e-4a8c-4425-8e3a-452bf67cf7f8",
   "metadata": {},
   "outputs": [],
   "source": [
    "from sklearn.preprocessing import LabelBinarizer\n",
    "from sklearn.model_selection import train_test_split"
   ]
  },
  {
   "cell_type": "code",
   "execution_count": 8,
   "id": "398edaf4-3f24-40f4-91af-bae64085b8b5",
   "metadata": {},
   "outputs": [],
   "source": [
    "import azure.storage.blob"
   ]
  },
  {
   "cell_type": "code",
   "execution_count": 9,
   "id": "db84b106-1228-4ff9-a621-6d8d13734ab9",
   "metadata": {},
   "outputs": [],
   "source": [
    "import sys\n",
    "sys.path.append('../')"
   ]
  },
  {
   "cell_type": "code",
   "execution_count": 10,
   "id": "00c1f5f9-8d8c-4bc8-a8a7-a419eb2d7c71",
   "metadata": {},
   "outputs": [],
   "source": [
    "import imp"
   ]
  },
  {
   "cell_type": "code",
   "execution_count": 11,
   "id": "64fe036b-e80f-4f53-b35f-db6e9f136a9c",
   "metadata": {},
   "outputs": [],
   "source": [
    "import data_utils as du"
   ]
  },
  {
   "cell_type": "code",
   "execution_count": 86,
   "id": "8de7cb82-feb9-4f8e-9a9e-ca0607ff1be2",
   "metadata": {},
   "outputs": [
    {
     "data": {
      "text/plain": [
       "<module 'data_utils' from '/home/jovyan/ifcb-utopia/ml-workflow/notebooks/../data_utils.py'>"
      ]
     },
     "execution_count": 86,
     "metadata": {},
     "output_type": "execute_result"
    }
   ],
   "source": [
    "imp.reload(du)"
   ]
  },
  {
   "cell_type": "code",
   "execution_count": 10,
   "id": "66e81101-1387-4cf7-9b15-8246ef737f07",
   "metadata": {},
   "outputs": [
    {
     "name": "stdin",
     "output_type": "stream",
     "text": [
      " ···················································································································································································\n"
     ]
    }
   ],
   "source": [
    "# here we connect to the Azure blob storage\n",
    "connection_string = getpass.getpass()"
   ]
  },
  {
   "cell_type": "code",
   "execution_count": 11,
   "id": "4e4ea952-8f34-4425-98eb-2229394b2e6c",
   "metadata": {},
   "outputs": [],
   "source": [
    "container_client = azure.storage.blob.ContainerClient.from_connection_string(\n",
    "    connection_string, container_name=\"naames\"\n",
    ")"
   ]
  },
  {
   "cell_type": "code",
   "execution_count": 12,
   "id": "cd20e53a-f79e-4b41-b8b1-53a6f3fc0b4b",
   "metadata": {},
   "outputs": [],
   "source": [
    "# we limit to a subfolder to test the functionality\n",
    "#blobs_list = container_client.list_blobs(name_starts_with='NAAMES_ml/D20151102T161705_IFCB107')"
   ]
  },
  {
   "cell_type": "code",
   "execution_count": 13,
   "id": "f429a71b-fc1e-4c0d-b78e-147921684d7c",
   "metadata": {},
   "outputs": [],
   "source": [
    "container_name = 'naames'\n",
    "account_name = 'ifcb'"
   ]
  },
  {
   "cell_type": "code",
   "execution_count": 14,
   "id": "0afa37e2-28b6-4059-bd17-f0e02bec8175",
   "metadata": {},
   "outputs": [],
   "source": [
    "url_prefix = f\"https://{account_name}.blob.core.windows.net/{container_name}/\""
   ]
  },
  {
   "cell_type": "code",
   "execution_count": 15,
   "id": "3aefede4-18d5-459b-a57a-2de66c928937",
   "metadata": {},
   "outputs": [
    {
     "data": {
      "text/plain": [
       "'https://ifcb.blob.core.windows.net/naames/'"
      ]
     },
     "execution_count": 15,
     "metadata": {},
     "output_type": "execute_result"
    }
   ],
   "source": [
    "url_prefix"
   ]
  },
  {
   "cell_type": "code",
   "execution_count": 16,
   "id": "6c33e508-0061-419a-9de4-d85f41959a00",
   "metadata": {},
   "outputs": [],
   "source": [
    "csv_url = url_prefix + 'image-file-directory.csv'"
   ]
  },
  {
   "cell_type": "code",
   "execution_count": 17,
   "id": "9dff3725-de5e-488b-8c38-7e7ac427e0d3",
   "metadata": {},
   "outputs": [
    {
     "data": {
      "text/html": [
       "<div>\n",
       "<style scoped>\n",
       "    .dataframe tbody tr th:only-of-type {\n",
       "        vertical-align: middle;\n",
       "    }\n",
       "\n",
       "    .dataframe tbody tr th {\n",
       "        vertical-align: top;\n",
       "    }\n",
       "\n",
       "    .dataframe thead th {\n",
       "        text-align: right;\n",
       "    }\n",
       "</style>\n",
       "<table border=\"1\" class=\"dataframe\">\n",
       "  <thead>\n",
       "    <tr style=\"text-align: right;\">\n",
       "      <th></th>\n",
       "      <th>file_name</th>\n",
       "      <th>class_raw</th>\n",
       "      <th>high_group</th>\n",
       "      <th>missing_high_group</th>\n",
       "      <th>id</th>\n",
       "      <th>lat</th>\n",
       "      <th>long</th>\n",
       "      <th>Area</th>\n",
       "      <th>Biovolume</th>\n",
       "      <th>ConvexArea</th>\n",
       "      <th>...</th>\n",
       "      <th>ScatInt</th>\n",
       "      <th>FluoInt</th>\n",
       "      <th>ScatPeak</th>\n",
       "      <th>FluoPeak</th>\n",
       "      <th>NumberOfROIinTrigger</th>\n",
       "      <th>missing_meta_data</th>\n",
       "      <th>ESDA_exclude</th>\n",
       "      <th>excluded_1</th>\n",
       "      <th>set</th>\n",
       "      <th>binary_label</th>\n",
       "    </tr>\n",
       "  </thead>\n",
       "  <tbody>\n",
       "    <tr>\n",
       "      <th>0</th>\n",
       "      <td>IFCB107D20151104T112022P00433_Unicellular.png</td>\n",
       "      <td>Unicellular</td>\n",
       "      <td>Other</td>\n",
       "      <td>False</td>\n",
       "      <td>IFCB107D20151104T112022P00433</td>\n",
       "      <td>NaN</td>\n",
       "      <td>NaN</td>\n",
       "      <td>NaN</td>\n",
       "      <td>NaN</td>\n",
       "      <td>NaN</td>\n",
       "      <td>...</td>\n",
       "      <td>NaN</td>\n",
       "      <td>NaN</td>\n",
       "      <td>NaN</td>\n",
       "      <td>NaN</td>\n",
       "      <td>NaN</td>\n",
       "      <td>True</td>\n",
       "      <td>False</td>\n",
       "      <td>1</td>\n",
       "      <td>train</td>\n",
       "      <td>plankton</td>\n",
       "    </tr>\n",
       "    <tr>\n",
       "      <th>1</th>\n",
       "      <td>IFCB107D20151104T114135P00194_Unicellular.png</td>\n",
       "      <td>Unicellular</td>\n",
       "      <td>Other</td>\n",
       "      <td>False</td>\n",
       "      <td>IFCB107D20151104T114135P00194</td>\n",
       "      <td>NaN</td>\n",
       "      <td>NaN</td>\n",
       "      <td>NaN</td>\n",
       "      <td>NaN</td>\n",
       "      <td>NaN</td>\n",
       "      <td>...</td>\n",
       "      <td>NaN</td>\n",
       "      <td>NaN</td>\n",
       "      <td>NaN</td>\n",
       "      <td>NaN</td>\n",
       "      <td>NaN</td>\n",
       "      <td>True</td>\n",
       "      <td>False</td>\n",
       "      <td>1</td>\n",
       "      <td>train</td>\n",
       "      <td>plankton</td>\n",
       "    </tr>\n",
       "    <tr>\n",
       "      <th>2</th>\n",
       "      <td>IFCB107D20151104T114135P00246_Unicellular.png</td>\n",
       "      <td>Unicellular</td>\n",
       "      <td>Other</td>\n",
       "      <td>False</td>\n",
       "      <td>IFCB107D20151104T114135P00246</td>\n",
       "      <td>NaN</td>\n",
       "      <td>NaN</td>\n",
       "      <td>NaN</td>\n",
       "      <td>NaN</td>\n",
       "      <td>NaN</td>\n",
       "      <td>...</td>\n",
       "      <td>NaN</td>\n",
       "      <td>NaN</td>\n",
       "      <td>NaN</td>\n",
       "      <td>NaN</td>\n",
       "      <td>NaN</td>\n",
       "      <td>True</td>\n",
       "      <td>False</td>\n",
       "      <td>1</td>\n",
       "      <td>train</td>\n",
       "      <td>plankton</td>\n",
       "    </tr>\n",
       "    <tr>\n",
       "      <th>3</th>\n",
       "      <td>IFCB107D20151104T124515P00027_Unicellular.png</td>\n",
       "      <td>Unicellular</td>\n",
       "      <td>Other</td>\n",
       "      <td>False</td>\n",
       "      <td>IFCB107D20151104T124515P00027</td>\n",
       "      <td>NaN</td>\n",
       "      <td>NaN</td>\n",
       "      <td>NaN</td>\n",
       "      <td>NaN</td>\n",
       "      <td>NaN</td>\n",
       "      <td>...</td>\n",
       "      <td>NaN</td>\n",
       "      <td>NaN</td>\n",
       "      <td>NaN</td>\n",
       "      <td>NaN</td>\n",
       "      <td>NaN</td>\n",
       "      <td>True</td>\n",
       "      <td>False</td>\n",
       "      <td>1</td>\n",
       "      <td>train</td>\n",
       "      <td>plankton</td>\n",
       "    </tr>\n",
       "    <tr>\n",
       "      <th>4</th>\n",
       "      <td>IFCB107D20151105T174918P00074_Dinophyceae.png</td>\n",
       "      <td>Dinophyceae</td>\n",
       "      <td>Dinoflagellate</td>\n",
       "      <td>False</td>\n",
       "      <td>IFCB107D20151105T174918P00074</td>\n",
       "      <td>NaN</td>\n",
       "      <td>NaN</td>\n",
       "      <td>NaN</td>\n",
       "      <td>NaN</td>\n",
       "      <td>NaN</td>\n",
       "      <td>...</td>\n",
       "      <td>NaN</td>\n",
       "      <td>NaN</td>\n",
       "      <td>NaN</td>\n",
       "      <td>NaN</td>\n",
       "      <td>NaN</td>\n",
       "      <td>True</td>\n",
       "      <td>False</td>\n",
       "      <td>1</td>\n",
       "      <td>train</td>\n",
       "      <td>plankton</td>\n",
       "    </tr>\n",
       "    <tr>\n",
       "      <th>...</th>\n",
       "      <td>...</td>\n",
       "      <td>...</td>\n",
       "      <td>...</td>\n",
       "      <td>...</td>\n",
       "      <td>...</td>\n",
       "      <td>...</td>\n",
       "      <td>...</td>\n",
       "      <td>...</td>\n",
       "      <td>...</td>\n",
       "      <td>...</td>\n",
       "      <td>...</td>\n",
       "      <td>...</td>\n",
       "      <td>...</td>\n",
       "      <td>...</td>\n",
       "      <td>...</td>\n",
       "      <td>...</td>\n",
       "      <td>...</td>\n",
       "      <td>...</td>\n",
       "      <td>...</td>\n",
       "      <td>...</td>\n",
       "      <td>...</td>\n",
       "    </tr>\n",
       "    <tr>\n",
       "      <th>1998895</th>\n",
       "      <td>IFCB107D20180412T010113P00020_Ceratium.png</td>\n",
       "      <td>Ceratium</td>\n",
       "      <td>Dinoflagellate</td>\n",
       "      <td>False</td>\n",
       "      <td>IFCB107D20180412T010113P00020</td>\n",
       "      <td>40.348</td>\n",
       "      <td>-68.296</td>\n",
       "      <td>1507.093426</td>\n",
       "      <td>20001.839825</td>\n",
       "      <td>2501.816609</td>\n",
       "      <td>...</td>\n",
       "      <td>1.09682</td>\n",
       "      <td>0.36801</td>\n",
       "      <td>3.33541</td>\n",
       "      <td>1.37789</td>\n",
       "      <td>1.0</td>\n",
       "      <td>False</td>\n",
       "      <td>False</td>\n",
       "      <td>0</td>\n",
       "      <td>train</td>\n",
       "      <td>plankton</td>\n",
       "    </tr>\n",
       "    <tr>\n",
       "      <th>1998896</th>\n",
       "      <td>IFCB107D20180412T012434P00137_Ditylum.png</td>\n",
       "      <td>Ditylum</td>\n",
       "      <td>Diatom</td>\n",
       "      <td>False</td>\n",
       "      <td>IFCB107D20180412T012434P00137</td>\n",
       "      <td>40.324</td>\n",
       "      <td>-68.387</td>\n",
       "      <td>4811.591696</td>\n",
       "      <td>91203.058213</td>\n",
       "      <td>6707.612457</td>\n",
       "      <td>...</td>\n",
       "      <td>3.49742</td>\n",
       "      <td>1.77298</td>\n",
       "      <td>3.35693</td>\n",
       "      <td>3.31523</td>\n",
       "      <td>1.0</td>\n",
       "      <td>False</td>\n",
       "      <td>False</td>\n",
       "      <td>0</td>\n",
       "      <td>train</td>\n",
       "      <td>plankton</td>\n",
       "    </tr>\n",
       "    <tr>\n",
       "      <th>1998897</th>\n",
       "      <td>IFCB107D20180412T012434P00348_Ditylum.png</td>\n",
       "      <td>Ditylum</td>\n",
       "      <td>Diatom</td>\n",
       "      <td>False</td>\n",
       "      <td>IFCB107D20180412T012434P00348</td>\n",
       "      <td>40.324</td>\n",
       "      <td>-68.387</td>\n",
       "      <td>2446.626298</td>\n",
       "      <td>30443.529921</td>\n",
       "      <td>3317.560554</td>\n",
       "      <td>...</td>\n",
       "      <td>2.46922</td>\n",
       "      <td>0.90272</td>\n",
       "      <td>3.35900</td>\n",
       "      <td>2.21282</td>\n",
       "      <td>1.0</td>\n",
       "      <td>False</td>\n",
       "      <td>False</td>\n",
       "      <td>0</td>\n",
       "      <td>train</td>\n",
       "      <td>plankton</td>\n",
       "    </tr>\n",
       "    <tr>\n",
       "      <th>1998898</th>\n",
       "      <td>IFCB107D20180412T021117P00330_Ceratium.png</td>\n",
       "      <td>Ceratium</td>\n",
       "      <td>Dinoflagellate</td>\n",
       "      <td>False</td>\n",
       "      <td>IFCB107D20180412T021117P00330</td>\n",
       "      <td>40.273</td>\n",
       "      <td>-68.571</td>\n",
       "      <td>1500.951557</td>\n",
       "      <td>19808.704267</td>\n",
       "      <td>2787.802768</td>\n",
       "      <td>...</td>\n",
       "      <td>0.61201</td>\n",
       "      <td>0.04541</td>\n",
       "      <td>2.85538</td>\n",
       "      <td>0.37142</td>\n",
       "      <td>1.0</td>\n",
       "      <td>False</td>\n",
       "      <td>False</td>\n",
       "      <td>0</td>\n",
       "      <td>train</td>\n",
       "      <td>plankton</td>\n",
       "    </tr>\n",
       "    <tr>\n",
       "      <th>1998899</th>\n",
       "      <td>IFCB107D20180412T021117P00781_Ditylum.png</td>\n",
       "      <td>Ditylum</td>\n",
       "      <td>Diatom</td>\n",
       "      <td>False</td>\n",
       "      <td>IFCB107D20180412T021117P00781</td>\n",
       "      <td>40.273</td>\n",
       "      <td>-68.571</td>\n",
       "      <td>2281.055363</td>\n",
       "      <td>32824.776104</td>\n",
       "      <td>3335.294118</td>\n",
       "      <td>...</td>\n",
       "      <td>0.57738</td>\n",
       "      <td>0.01702</td>\n",
       "      <td>3.33338</td>\n",
       "      <td>0.20818</td>\n",
       "      <td>1.0</td>\n",
       "      <td>False</td>\n",
       "      <td>False</td>\n",
       "      <td>0</td>\n",
       "      <td>train</td>\n",
       "      <td>plankton</td>\n",
       "    </tr>\n",
       "  </tbody>\n",
       "</table>\n",
       "<p>1998900 rows × 28 columns</p>\n",
       "</div>"
      ],
      "text/plain": [
       "                                             file_name    class_raw  \\\n",
       "0        IFCB107D20151104T112022P00433_Unicellular.png  Unicellular   \n",
       "1        IFCB107D20151104T114135P00194_Unicellular.png  Unicellular   \n",
       "2        IFCB107D20151104T114135P00246_Unicellular.png  Unicellular   \n",
       "3        IFCB107D20151104T124515P00027_Unicellular.png  Unicellular   \n",
       "4        IFCB107D20151105T174918P00074_Dinophyceae.png  Dinophyceae   \n",
       "...                                                ...          ...   \n",
       "1998895     IFCB107D20180412T010113P00020_Ceratium.png     Ceratium   \n",
       "1998896      IFCB107D20180412T012434P00137_Ditylum.png      Ditylum   \n",
       "1998897      IFCB107D20180412T012434P00348_Ditylum.png      Ditylum   \n",
       "1998898     IFCB107D20180412T021117P00330_Ceratium.png     Ceratium   \n",
       "1998899      IFCB107D20180412T021117P00781_Ditylum.png      Ditylum   \n",
       "\n",
       "             high_group  missing_high_group                             id  \\\n",
       "0                 Other               False  IFCB107D20151104T112022P00433   \n",
       "1                 Other               False  IFCB107D20151104T114135P00194   \n",
       "2                 Other               False  IFCB107D20151104T114135P00246   \n",
       "3                 Other               False  IFCB107D20151104T124515P00027   \n",
       "4        Dinoflagellate               False  IFCB107D20151105T174918P00074   \n",
       "...                 ...                 ...                            ...   \n",
       "1998895  Dinoflagellate               False  IFCB107D20180412T010113P00020   \n",
       "1998896          Diatom               False  IFCB107D20180412T012434P00137   \n",
       "1998897          Diatom               False  IFCB107D20180412T012434P00348   \n",
       "1998898  Dinoflagellate               False  IFCB107D20180412T021117P00330   \n",
       "1998899          Diatom               False  IFCB107D20180412T021117P00781   \n",
       "\n",
       "            lat    long         Area     Biovolume   ConvexArea  ...  ScatInt  \\\n",
       "0           NaN     NaN          NaN           NaN          NaN  ...      NaN   \n",
       "1           NaN     NaN          NaN           NaN          NaN  ...      NaN   \n",
       "2           NaN     NaN          NaN           NaN          NaN  ...      NaN   \n",
       "3           NaN     NaN          NaN           NaN          NaN  ...      NaN   \n",
       "4           NaN     NaN          NaN           NaN          NaN  ...      NaN   \n",
       "...         ...     ...          ...           ...          ...  ...      ...   \n",
       "1998895  40.348 -68.296  1507.093426  20001.839825  2501.816609  ...  1.09682   \n",
       "1998896  40.324 -68.387  4811.591696  91203.058213  6707.612457  ...  3.49742   \n",
       "1998897  40.324 -68.387  2446.626298  30443.529921  3317.560554  ...  2.46922   \n",
       "1998898  40.273 -68.571  1500.951557  19808.704267  2787.802768  ...  0.61201   \n",
       "1998899  40.273 -68.571  2281.055363  32824.776104  3335.294118  ...  0.57738   \n",
       "\n",
       "         FluoInt  ScatPeak  FluoPeak  NumberOfROIinTrigger  missing_meta_data  \\\n",
       "0            NaN       NaN       NaN                   NaN               True   \n",
       "1            NaN       NaN       NaN                   NaN               True   \n",
       "2            NaN       NaN       NaN                   NaN               True   \n",
       "3            NaN       NaN       NaN                   NaN               True   \n",
       "4            NaN       NaN       NaN                   NaN               True   \n",
       "...          ...       ...       ...                   ...                ...   \n",
       "1998895  0.36801   3.33541   1.37789                   1.0              False   \n",
       "1998896  1.77298   3.35693   3.31523                   1.0              False   \n",
       "1998897  0.90272   3.35900   2.21282                   1.0              False   \n",
       "1998898  0.04541   2.85538   0.37142                   1.0              False   \n",
       "1998899  0.01702   3.33338   0.20818                   1.0              False   \n",
       "\n",
       "         ESDA_exclude  excluded_1    set  binary_label  \n",
       "0               False           1  train      plankton  \n",
       "1               False           1  train      plankton  \n",
       "2               False           1  train      plankton  \n",
       "3               False           1  train      plankton  \n",
       "4               False           1  train      plankton  \n",
       "...               ...         ...    ...           ...  \n",
       "1998895         False           0  train      plankton  \n",
       "1998896         False           0  train      plankton  \n",
       "1998897         False           0  train      plankton  \n",
       "1998898         False           0  train      plankton  \n",
       "1998899         False           0  train      plankton  \n",
       "\n",
       "[1998900 rows x 28 columns]"
      ]
     },
     "execution_count": 17,
     "metadata": {},
     "output_type": "execute_result"
    }
   ],
   "source": [
    "inventory_df = pd.read_csv(csv_url)\n",
    "inventory_df"
   ]
  },
  {
   "cell_type": "code",
   "execution_count": 18,
   "id": "7392672b-ce39-4163-8c4a-788a4d003d2d",
   "metadata": {},
   "outputs": [],
   "source": [
    "# subsample the full dataframe for workflow testing\n",
    "df_subsample = inventory_df.iloc[:10000,]"
   ]
  },
  {
   "cell_type": "code",
   "execution_count": 19,
   "id": "a1f44a4a-e5c5-4987-be5a-150059c202df",
   "metadata": {},
   "outputs": [
    {
     "data": {
      "text/html": [
       "<div>\n",
       "<style scoped>\n",
       "    .dataframe tbody tr th:only-of-type {\n",
       "        vertical-align: middle;\n",
       "    }\n",
       "\n",
       "    .dataframe tbody tr th {\n",
       "        vertical-align: top;\n",
       "    }\n",
       "\n",
       "    .dataframe thead th {\n",
       "        text-align: right;\n",
       "    }\n",
       "</style>\n",
       "<table border=\"1\" class=\"dataframe\">\n",
       "  <thead>\n",
       "    <tr style=\"text-align: right;\">\n",
       "      <th></th>\n",
       "      <th>file_name</th>\n",
       "      <th>class_raw</th>\n",
       "      <th>high_group</th>\n",
       "      <th>missing_high_group</th>\n",
       "      <th>id</th>\n",
       "      <th>lat</th>\n",
       "      <th>long</th>\n",
       "      <th>Area</th>\n",
       "      <th>Biovolume</th>\n",
       "      <th>ConvexArea</th>\n",
       "      <th>...</th>\n",
       "      <th>ScatInt</th>\n",
       "      <th>FluoInt</th>\n",
       "      <th>ScatPeak</th>\n",
       "      <th>FluoPeak</th>\n",
       "      <th>NumberOfROIinTrigger</th>\n",
       "      <th>missing_meta_data</th>\n",
       "      <th>ESDA_exclude</th>\n",
       "      <th>excluded_1</th>\n",
       "      <th>set</th>\n",
       "      <th>binary_label</th>\n",
       "    </tr>\n",
       "  </thead>\n",
       "  <tbody>\n",
       "    <tr>\n",
       "      <th>0</th>\n",
       "      <td>IFCB107D20151104T112022P00433_Unicellular.png</td>\n",
       "      <td>Unicellular</td>\n",
       "      <td>Other</td>\n",
       "      <td>False</td>\n",
       "      <td>IFCB107D20151104T112022P00433</td>\n",
       "      <td>NaN</td>\n",
       "      <td>NaN</td>\n",
       "      <td>NaN</td>\n",
       "      <td>NaN</td>\n",
       "      <td>NaN</td>\n",
       "      <td>...</td>\n",
       "      <td>NaN</td>\n",
       "      <td>NaN</td>\n",
       "      <td>NaN</td>\n",
       "      <td>NaN</td>\n",
       "      <td>NaN</td>\n",
       "      <td>True</td>\n",
       "      <td>False</td>\n",
       "      <td>1</td>\n",
       "      <td>train</td>\n",
       "      <td>plankton</td>\n",
       "    </tr>\n",
       "    <tr>\n",
       "      <th>1</th>\n",
       "      <td>IFCB107D20151104T114135P00194_Unicellular.png</td>\n",
       "      <td>Unicellular</td>\n",
       "      <td>Other</td>\n",
       "      <td>False</td>\n",
       "      <td>IFCB107D20151104T114135P00194</td>\n",
       "      <td>NaN</td>\n",
       "      <td>NaN</td>\n",
       "      <td>NaN</td>\n",
       "      <td>NaN</td>\n",
       "      <td>NaN</td>\n",
       "      <td>...</td>\n",
       "      <td>NaN</td>\n",
       "      <td>NaN</td>\n",
       "      <td>NaN</td>\n",
       "      <td>NaN</td>\n",
       "      <td>NaN</td>\n",
       "      <td>True</td>\n",
       "      <td>False</td>\n",
       "      <td>1</td>\n",
       "      <td>train</td>\n",
       "      <td>plankton</td>\n",
       "    </tr>\n",
       "    <tr>\n",
       "      <th>2</th>\n",
       "      <td>IFCB107D20151104T114135P00246_Unicellular.png</td>\n",
       "      <td>Unicellular</td>\n",
       "      <td>Other</td>\n",
       "      <td>False</td>\n",
       "      <td>IFCB107D20151104T114135P00246</td>\n",
       "      <td>NaN</td>\n",
       "      <td>NaN</td>\n",
       "      <td>NaN</td>\n",
       "      <td>NaN</td>\n",
       "      <td>NaN</td>\n",
       "      <td>...</td>\n",
       "      <td>NaN</td>\n",
       "      <td>NaN</td>\n",
       "      <td>NaN</td>\n",
       "      <td>NaN</td>\n",
       "      <td>NaN</td>\n",
       "      <td>True</td>\n",
       "      <td>False</td>\n",
       "      <td>1</td>\n",
       "      <td>train</td>\n",
       "      <td>plankton</td>\n",
       "    </tr>\n",
       "    <tr>\n",
       "      <th>3</th>\n",
       "      <td>IFCB107D20151104T124515P00027_Unicellular.png</td>\n",
       "      <td>Unicellular</td>\n",
       "      <td>Other</td>\n",
       "      <td>False</td>\n",
       "      <td>IFCB107D20151104T124515P00027</td>\n",
       "      <td>NaN</td>\n",
       "      <td>NaN</td>\n",
       "      <td>NaN</td>\n",
       "      <td>NaN</td>\n",
       "      <td>NaN</td>\n",
       "      <td>...</td>\n",
       "      <td>NaN</td>\n",
       "      <td>NaN</td>\n",
       "      <td>NaN</td>\n",
       "      <td>NaN</td>\n",
       "      <td>NaN</td>\n",
       "      <td>True</td>\n",
       "      <td>False</td>\n",
       "      <td>1</td>\n",
       "      <td>train</td>\n",
       "      <td>plankton</td>\n",
       "    </tr>\n",
       "    <tr>\n",
       "      <th>4</th>\n",
       "      <td>IFCB107D20151105T174918P00074_Dinophyceae.png</td>\n",
       "      <td>Dinophyceae</td>\n",
       "      <td>Dinoflagellate</td>\n",
       "      <td>False</td>\n",
       "      <td>IFCB107D20151105T174918P00074</td>\n",
       "      <td>NaN</td>\n",
       "      <td>NaN</td>\n",
       "      <td>NaN</td>\n",
       "      <td>NaN</td>\n",
       "      <td>NaN</td>\n",
       "      <td>...</td>\n",
       "      <td>NaN</td>\n",
       "      <td>NaN</td>\n",
       "      <td>NaN</td>\n",
       "      <td>NaN</td>\n",
       "      <td>NaN</td>\n",
       "      <td>True</td>\n",
       "      <td>False</td>\n",
       "      <td>1</td>\n",
       "      <td>train</td>\n",
       "      <td>plankton</td>\n",
       "    </tr>\n",
       "    <tr>\n",
       "      <th>...</th>\n",
       "      <td>...</td>\n",
       "      <td>...</td>\n",
       "      <td>...</td>\n",
       "      <td>...</td>\n",
       "      <td>...</td>\n",
       "      <td>...</td>\n",
       "      <td>...</td>\n",
       "      <td>...</td>\n",
       "      <td>...</td>\n",
       "      <td>...</td>\n",
       "      <td>...</td>\n",
       "      <td>...</td>\n",
       "      <td>...</td>\n",
       "      <td>...</td>\n",
       "      <td>...</td>\n",
       "      <td>...</td>\n",
       "      <td>...</td>\n",
       "      <td>...</td>\n",
       "      <td>...</td>\n",
       "      <td>...</td>\n",
       "      <td>...</td>\n",
       "    </tr>\n",
       "    <tr>\n",
       "      <th>9995</th>\n",
       "      <td>IFCB107D20151108T183117P00255_Unicellular.png</td>\n",
       "      <td>Unicellular</td>\n",
       "      <td>Other</td>\n",
       "      <td>False</td>\n",
       "      <td>IFCB107D20151108T183117P00255</td>\n",
       "      <td>43.3728</td>\n",
       "      <td>-59.4867</td>\n",
       "      <td>38.840830</td>\n",
       "      <td>150.669198</td>\n",
       "      <td>46.626298</td>\n",
       "      <td>...</td>\n",
       "      <td>0.00210</td>\n",
       "      <td>0.00063</td>\n",
       "      <td>0.01105</td>\n",
       "      <td>0.08894</td>\n",
       "      <td>1.0</td>\n",
       "      <td>False</td>\n",
       "      <td>True</td>\n",
       "      <td>1</td>\n",
       "      <td>train</td>\n",
       "      <td>plankton</td>\n",
       "    </tr>\n",
       "    <tr>\n",
       "      <th>9996</th>\n",
       "      <td>IFCB107D20151108T183117P00257_Unicellular.png</td>\n",
       "      <td>Unicellular</td>\n",
       "      <td>Other</td>\n",
       "      <td>False</td>\n",
       "      <td>IFCB107D20151108T183117P00257</td>\n",
       "      <td>43.3728</td>\n",
       "      <td>-59.4867</td>\n",
       "      <td>35.726644</td>\n",
       "      <td>137.160925</td>\n",
       "      <td>36.418685</td>\n",
       "      <td>...</td>\n",
       "      <td>0.00189</td>\n",
       "      <td>-0.00024</td>\n",
       "      <td>0.01096</td>\n",
       "      <td>0.04473</td>\n",
       "      <td>1.0</td>\n",
       "      <td>False</td>\n",
       "      <td>True</td>\n",
       "      <td>1</td>\n",
       "      <td>train</td>\n",
       "      <td>plankton</td>\n",
       "    </tr>\n",
       "    <tr>\n",
       "      <th>9997</th>\n",
       "      <td>IFCB107D20151108T183117P00266_Unicellular.png</td>\n",
       "      <td>Unicellular</td>\n",
       "      <td>Other</td>\n",
       "      <td>False</td>\n",
       "      <td>IFCB107D20151108T183117P00266</td>\n",
       "      <td>43.3728</td>\n",
       "      <td>-59.4867</td>\n",
       "      <td>27.335640</td>\n",
       "      <td>65.335489</td>\n",
       "      <td>34.083045</td>\n",
       "      <td>...</td>\n",
       "      <td>0.00178</td>\n",
       "      <td>-0.00181</td>\n",
       "      <td>0.01107</td>\n",
       "      <td>0.13939</td>\n",
       "      <td>1.0</td>\n",
       "      <td>False</td>\n",
       "      <td>True</td>\n",
       "      <td>1</td>\n",
       "      <td>test</td>\n",
       "      <td>plankton</td>\n",
       "    </tr>\n",
       "    <tr>\n",
       "      <th>9998</th>\n",
       "      <td>IFCB107D20151108T183117P00268_Unicellular.png</td>\n",
       "      <td>Unicellular</td>\n",
       "      <td>Other</td>\n",
       "      <td>False</td>\n",
       "      <td>IFCB107D20151108T183117P00268</td>\n",
       "      <td>43.3728</td>\n",
       "      <td>-59.4867</td>\n",
       "      <td>36.332180</td>\n",
       "      <td>132.045366</td>\n",
       "      <td>37.716263</td>\n",
       "      <td>...</td>\n",
       "      <td>0.00313</td>\n",
       "      <td>0.00891</td>\n",
       "      <td>0.04725</td>\n",
       "      <td>0.31958</td>\n",
       "      <td>1.0</td>\n",
       "      <td>False</td>\n",
       "      <td>True</td>\n",
       "      <td>1</td>\n",
       "      <td>train</td>\n",
       "      <td>plankton</td>\n",
       "    </tr>\n",
       "    <tr>\n",
       "      <th>9999</th>\n",
       "      <td>IFCB107D20151108T183117P00270_Unicellular.png</td>\n",
       "      <td>Unicellular</td>\n",
       "      <td>Other</td>\n",
       "      <td>False</td>\n",
       "      <td>IFCB107D20151108T183117P00270</td>\n",
       "      <td>43.3728</td>\n",
       "      <td>-59.4867</td>\n",
       "      <td>29.325260</td>\n",
       "      <td>96.736019</td>\n",
       "      <td>33.996540</td>\n",
       "      <td>...</td>\n",
       "      <td>0.00248</td>\n",
       "      <td>0.00587</td>\n",
       "      <td>0.01114</td>\n",
       "      <td>0.30730</td>\n",
       "      <td>1.0</td>\n",
       "      <td>False</td>\n",
       "      <td>True</td>\n",
       "      <td>1</td>\n",
       "      <td>train</td>\n",
       "      <td>plankton</td>\n",
       "    </tr>\n",
       "  </tbody>\n",
       "</table>\n",
       "<p>10000 rows × 28 columns</p>\n",
       "</div>"
      ],
      "text/plain": [
       "                                          file_name    class_raw  \\\n",
       "0     IFCB107D20151104T112022P00433_Unicellular.png  Unicellular   \n",
       "1     IFCB107D20151104T114135P00194_Unicellular.png  Unicellular   \n",
       "2     IFCB107D20151104T114135P00246_Unicellular.png  Unicellular   \n",
       "3     IFCB107D20151104T124515P00027_Unicellular.png  Unicellular   \n",
       "4     IFCB107D20151105T174918P00074_Dinophyceae.png  Dinophyceae   \n",
       "...                                             ...          ...   \n",
       "9995  IFCB107D20151108T183117P00255_Unicellular.png  Unicellular   \n",
       "9996  IFCB107D20151108T183117P00257_Unicellular.png  Unicellular   \n",
       "9997  IFCB107D20151108T183117P00266_Unicellular.png  Unicellular   \n",
       "9998  IFCB107D20151108T183117P00268_Unicellular.png  Unicellular   \n",
       "9999  IFCB107D20151108T183117P00270_Unicellular.png  Unicellular   \n",
       "\n",
       "          high_group  missing_high_group                             id  \\\n",
       "0              Other               False  IFCB107D20151104T112022P00433   \n",
       "1              Other               False  IFCB107D20151104T114135P00194   \n",
       "2              Other               False  IFCB107D20151104T114135P00246   \n",
       "3              Other               False  IFCB107D20151104T124515P00027   \n",
       "4     Dinoflagellate               False  IFCB107D20151105T174918P00074   \n",
       "...              ...                 ...                            ...   \n",
       "9995           Other               False  IFCB107D20151108T183117P00255   \n",
       "9996           Other               False  IFCB107D20151108T183117P00257   \n",
       "9997           Other               False  IFCB107D20151108T183117P00266   \n",
       "9998           Other               False  IFCB107D20151108T183117P00268   \n",
       "9999           Other               False  IFCB107D20151108T183117P00270   \n",
       "\n",
       "          lat     long       Area   Biovolume  ConvexArea  ...  ScatInt  \\\n",
       "0         NaN      NaN        NaN         NaN         NaN  ...      NaN   \n",
       "1         NaN      NaN        NaN         NaN         NaN  ...      NaN   \n",
       "2         NaN      NaN        NaN         NaN         NaN  ...      NaN   \n",
       "3         NaN      NaN        NaN         NaN         NaN  ...      NaN   \n",
       "4         NaN      NaN        NaN         NaN         NaN  ...      NaN   \n",
       "...       ...      ...        ...         ...         ...  ...      ...   \n",
       "9995  43.3728 -59.4867  38.840830  150.669198   46.626298  ...  0.00210   \n",
       "9996  43.3728 -59.4867  35.726644  137.160925   36.418685  ...  0.00189   \n",
       "9997  43.3728 -59.4867  27.335640   65.335489   34.083045  ...  0.00178   \n",
       "9998  43.3728 -59.4867  36.332180  132.045366   37.716263  ...  0.00313   \n",
       "9999  43.3728 -59.4867  29.325260   96.736019   33.996540  ...  0.00248   \n",
       "\n",
       "      FluoInt  ScatPeak  FluoPeak  NumberOfROIinTrigger  missing_meta_data  \\\n",
       "0         NaN       NaN       NaN                   NaN               True   \n",
       "1         NaN       NaN       NaN                   NaN               True   \n",
       "2         NaN       NaN       NaN                   NaN               True   \n",
       "3         NaN       NaN       NaN                   NaN               True   \n",
       "4         NaN       NaN       NaN                   NaN               True   \n",
       "...       ...       ...       ...                   ...                ...   \n",
       "9995  0.00063   0.01105   0.08894                   1.0              False   \n",
       "9996 -0.00024   0.01096   0.04473                   1.0              False   \n",
       "9997 -0.00181   0.01107   0.13939                   1.0              False   \n",
       "9998  0.00891   0.04725   0.31958                   1.0              False   \n",
       "9999  0.00587   0.01114   0.30730                   1.0              False   \n",
       "\n",
       "      ESDA_exclude  excluded_1    set  binary_label  \n",
       "0            False           1  train      plankton  \n",
       "1            False           1  train      plankton  \n",
       "2            False           1  train      plankton  \n",
       "3            False           1  train      plankton  \n",
       "4            False           1  train      plankton  \n",
       "...            ...         ...    ...           ...  \n",
       "9995          True           1  train      plankton  \n",
       "9996          True           1  train      plankton  \n",
       "9997          True           1   test      plankton  \n",
       "9998          True           1  train      plankton  \n",
       "9999          True           1  train      plankton  \n",
       "\n",
       "[10000 rows x 28 columns]"
      ]
     },
     "execution_count": 19,
     "metadata": {},
     "output_type": "execute_result"
    }
   ],
   "source": [
    "df_subsample"
   ]
  },
  {
   "cell_type": "markdown",
   "id": "65bccf46-eee8-4c86-ac6f-16a24b61a085",
   "metadata": {},
   "source": [
    "## create png_path column and 3-column dataframe"
   ]
  },
  {
   "cell_type": "code",
   "execution_count": 20,
   "id": "1323919c-ae72-4a45-8543-1fda6cae3870",
   "metadata": {},
   "outputs": [
    {
     "name": "stderr",
     "output_type": "stream",
     "text": [
      "/tmp/ipykernel_1565/1727142688.py:2: SettingWithCopyWarning: \n",
      "A value is trying to be set on a copy of a slice from a DataFrame.\n",
      "Try using .loc[row_indexer,col_indexer] = value instead\n",
      "\n",
      "See the caveats in the documentation: https://pandas.pydata.org/pandas-docs/stable/user_guide/indexing.html#returning-a-view-versus-a-copy\n",
      "  df_subsample['png_path'] = df_subsample['id'].apply(lambda row : du.buildPNGsName(row))\n"
     ]
    }
   ],
   "source": [
    "# add a column of the png path to the df dataframe\n",
    "df_subsample['png_path'] = df_subsample['id'].apply(lambda row : du.buildPNGsName(row))"
   ]
  },
  {
   "cell_type": "code",
   "execution_count": 21,
   "id": "a92031db-ca8b-4125-82e1-5d496a6fb869",
   "metadata": {},
   "outputs": [],
   "source": [
    "# create a dataframe with just the columns of png_path and high_group\n",
    "df_files_labels = df_subsample[['png_path', 'high_group']]"
   ]
  },
  {
   "cell_type": "code",
   "execution_count": 22,
   "id": "a98d1341-1412-4fa4-8004-06f73997b991",
   "metadata": {},
   "outputs": [
    {
     "name": "stderr",
     "output_type": "stream",
     "text": [
      "/tmp/ipykernel_1565/1825214936.py:2: SettingWithCopyWarning: \n",
      "A value is trying to be set on a copy of a slice from a DataFrame.\n",
      "Try using .loc[row_indexer,col_indexer] = value instead\n",
      "\n",
      "See the caveats in the documentation: https://pandas.pydata.org/pandas-docs/stable/user_guide/indexing.html#returning-a-view-versus-a-copy\n",
      "  df_files_labels['full_path'] = df_files_labels['png_path'].apply(lambda row : os.path.join(url_prefix,'NAAMES_ml', row))\n"
     ]
    }
   ],
   "source": [
    "# add a column called full_path \n",
    "df_files_labels['full_path'] = df_files_labels['png_path'].apply(lambda row : os.path.join(url_prefix,'NAAMES_ml', row))"
   ]
  },
  {
   "cell_type": "code",
   "execution_count": 23,
   "id": "bbe43bc1-4288-412f-a3bb-445d3baa2d68",
   "metadata": {},
   "outputs": [
    {
     "name": "stderr",
     "output_type": "stream",
     "text": [
      "/tmp/ipykernel_361/3276058663.py:2: SettingWithCopyWarning: \n",
      "A value is trying to be set on a copy of a slice from a DataFrame.\n",
      "Try using .loc[row_indexer,col_indexer] = value instead\n",
      "\n",
      "See the caveats in the documentation: https://pandas.pydata.org/pandas-docs/stable/user_guide/indexing.html#returning-a-view-versus-a-copy\n",
      "  df_files_labels['full_path'] = df_files_labels['png_path'].apply(lambda row : os.path.join('..', row))\n"
     ]
    }
   ],
   "source": [
    "# THIS IS A TEST FOR SPEED OF GENERATOR ON LOCAL FILES VS BLOB\n",
    "# add a column called full_path\n",
    "#df_files_labels['full_path'] = df_files_labels['png_path'].apply(lambda row : os.path.join('..', row))"
   ]
  },
  {
   "cell_type": "code",
   "execution_count": 46,
   "id": "a3b00883-b18c-4a2a-b4e1-5213bf64f5ba",
   "metadata": {},
   "outputs": [
    {
     "data": {
      "text/html": [
       "<div>\n",
       "<style scoped>\n",
       "    .dataframe tbody tr th:only-of-type {\n",
       "        vertical-align: middle;\n",
       "    }\n",
       "\n",
       "    .dataframe tbody tr th {\n",
       "        vertical-align: top;\n",
       "    }\n",
       "\n",
       "    .dataframe thead th {\n",
       "        text-align: right;\n",
       "    }\n",
       "</style>\n",
       "<table border=\"1\" class=\"dataframe\">\n",
       "  <thead>\n",
       "    <tr style=\"text-align: right;\">\n",
       "      <th></th>\n",
       "      <th>png_path</th>\n",
       "      <th>high_group</th>\n",
       "      <th>full_path</th>\n",
       "    </tr>\n",
       "  </thead>\n",
       "  <tbody>\n",
       "    <tr>\n",
       "      <th>0</th>\n",
       "      <td>D20151104T112022_IFCB107/IFCB107D20151104T1120...</td>\n",
       "      <td>Other</td>\n",
       "      <td>https://ifcb.blob.core.windows.net/naames/NAAM...</td>\n",
       "    </tr>\n",
       "    <tr>\n",
       "      <th>1</th>\n",
       "      <td>D20151104T114135_IFCB107/IFCB107D20151104T1141...</td>\n",
       "      <td>Other</td>\n",
       "      <td>https://ifcb.blob.core.windows.net/naames/NAAM...</td>\n",
       "    </tr>\n",
       "    <tr>\n",
       "      <th>2</th>\n",
       "      <td>D20151104T114135_IFCB107/IFCB107D20151104T1141...</td>\n",
       "      <td>Other</td>\n",
       "      <td>https://ifcb.blob.core.windows.net/naames/NAAM...</td>\n",
       "    </tr>\n",
       "    <tr>\n",
       "      <th>3</th>\n",
       "      <td>D20151104T124515_IFCB107/IFCB107D20151104T1245...</td>\n",
       "      <td>Other</td>\n",
       "      <td>https://ifcb.blob.core.windows.net/naames/NAAM...</td>\n",
       "    </tr>\n",
       "    <tr>\n",
       "      <th>4</th>\n",
       "      <td>D20151105T174918_IFCB107/IFCB107D20151105T1749...</td>\n",
       "      <td>Dinoflagellate</td>\n",
       "      <td>https://ifcb.blob.core.windows.net/naames/NAAM...</td>\n",
       "    </tr>\n",
       "    <tr>\n",
       "      <th>...</th>\n",
       "      <td>...</td>\n",
       "      <td>...</td>\n",
       "      <td>...</td>\n",
       "    </tr>\n",
       "    <tr>\n",
       "      <th>9995</th>\n",
       "      <td>D20151108T183117_IFCB107/IFCB107D20151108T1831...</td>\n",
       "      <td>Other</td>\n",
       "      <td>https://ifcb.blob.core.windows.net/naames/NAAM...</td>\n",
       "    </tr>\n",
       "    <tr>\n",
       "      <th>9996</th>\n",
       "      <td>D20151108T183117_IFCB107/IFCB107D20151108T1831...</td>\n",
       "      <td>Other</td>\n",
       "      <td>https://ifcb.blob.core.windows.net/naames/NAAM...</td>\n",
       "    </tr>\n",
       "    <tr>\n",
       "      <th>9997</th>\n",
       "      <td>D20151108T183117_IFCB107/IFCB107D20151108T1831...</td>\n",
       "      <td>Other</td>\n",
       "      <td>https://ifcb.blob.core.windows.net/naames/NAAM...</td>\n",
       "    </tr>\n",
       "    <tr>\n",
       "      <th>9998</th>\n",
       "      <td>D20151108T183117_IFCB107/IFCB107D20151108T1831...</td>\n",
       "      <td>Other</td>\n",
       "      <td>https://ifcb.blob.core.windows.net/naames/NAAM...</td>\n",
       "    </tr>\n",
       "    <tr>\n",
       "      <th>9999</th>\n",
       "      <td>D20151108T183117_IFCB107/IFCB107D20151108T1831...</td>\n",
       "      <td>Other</td>\n",
       "      <td>https://ifcb.blob.core.windows.net/naames/NAAM...</td>\n",
       "    </tr>\n",
       "  </tbody>\n",
       "</table>\n",
       "<p>10000 rows × 3 columns</p>\n",
       "</div>"
      ],
      "text/plain": [
       "                                               png_path      high_group  \\\n",
       "0     D20151104T112022_IFCB107/IFCB107D20151104T1120...           Other   \n",
       "1     D20151104T114135_IFCB107/IFCB107D20151104T1141...           Other   \n",
       "2     D20151104T114135_IFCB107/IFCB107D20151104T1141...           Other   \n",
       "3     D20151104T124515_IFCB107/IFCB107D20151104T1245...           Other   \n",
       "4     D20151105T174918_IFCB107/IFCB107D20151105T1749...  Dinoflagellate   \n",
       "...                                                 ...             ...   \n",
       "9995  D20151108T183117_IFCB107/IFCB107D20151108T1831...           Other   \n",
       "9996  D20151108T183117_IFCB107/IFCB107D20151108T1831...           Other   \n",
       "9997  D20151108T183117_IFCB107/IFCB107D20151108T1831...           Other   \n",
       "9998  D20151108T183117_IFCB107/IFCB107D20151108T1831...           Other   \n",
       "9999  D20151108T183117_IFCB107/IFCB107D20151108T1831...           Other   \n",
       "\n",
       "                                              full_path  \n",
       "0     https://ifcb.blob.core.windows.net/naames/NAAM...  \n",
       "1     https://ifcb.blob.core.windows.net/naames/NAAM...  \n",
       "2     https://ifcb.blob.core.windows.net/naames/NAAM...  \n",
       "3     https://ifcb.blob.core.windows.net/naames/NAAM...  \n",
       "4     https://ifcb.blob.core.windows.net/naames/NAAM...  \n",
       "...                                                 ...  \n",
       "9995  https://ifcb.blob.core.windows.net/naames/NAAM...  \n",
       "9996  https://ifcb.blob.core.windows.net/naames/NAAM...  \n",
       "9997  https://ifcb.blob.core.windows.net/naames/NAAM...  \n",
       "9998  https://ifcb.blob.core.windows.net/naames/NAAM...  \n",
       "9999  https://ifcb.blob.core.windows.net/naames/NAAM...  \n",
       "\n",
       "[10000 rows x 3 columns]"
      ]
     },
     "execution_count": 46,
     "metadata": {},
     "output_type": "execute_result"
    }
   ],
   "source": [
    "df_files_labels"
   ]
  },
  {
   "cell_type": "code",
   "execution_count": 47,
   "id": "62292d0c-823e-47bf-b172-ce6bc84a6d7e",
   "metadata": {},
   "outputs": [
    {
     "data": {
      "text/plain": [
       "'https://ifcb.blob.core.windows.net/naames/NAAMES_ml/D20151104T112022_IFCB107/IFCB107D20151104T112022P00433.png'"
      ]
     },
     "execution_count": 47,
     "metadata": {},
     "output_type": "execute_result"
    }
   ],
   "source": [
    "df_files_labels.full_path.iloc[0]"
   ]
  },
  {
   "cell_type": "code",
   "execution_count": 23,
   "id": "e22a0298-6858-4894-9008-16d27c3d27c5",
   "metadata": {},
   "outputs": [],
   "source": [
    "# -- \n",
    "# one hot encode the labels \n",
    "\n",
    "lb = LabelBinarizer()\n",
    "labels = set(df_files_labels.high_group)\n",
    "lb.fit(list(labels))\n",
    "batch_size = 100"
   ]
  },
  {
   "cell_type": "code",
   "execution_count": 49,
   "id": "b24e7841-be13-4fb4-9374-069b841a89e7",
   "metadata": {},
   "outputs": [
    {
     "name": "stdout",
     "output_type": "stream",
     "text": [
      "\u001b[0m\u001b[01;34mD20151107T120416_IFCB107\u001b[0m/  README.md     data_utils.py  \u001b[01;34mnotebooks\u001b[0m/\n",
      "LICENSE                    \u001b[01;34m__pycache__\u001b[0m/  ml_models.py   requirements.txt\n"
     ]
    }
   ],
   "source": [
    "ls .."
   ]
  },
  {
   "cell_type": "code",
   "execution_count": 50,
   "id": "bb0201d6-70be-40e1-a6ba-aa2654a6b644",
   "metadata": {},
   "outputs": [
    {
     "data": {
      "text/plain": [
       "Array([[199, 198, 197, ..., 198, 198, 198],\n",
       "       [197, 199, 195, ..., 198, 198, 200],\n",
       "       [200, 200, 203, ..., 199, 194, 196],\n",
       "       ...,\n",
       "       [203, 199, 204, ..., 200, 195, 203],\n",
       "       [203, 200, 201, ..., 197, 198, 198],\n",
       "       [201, 201, 200, ..., 199, 199, 200]], dtype=uint8)"
      ]
     },
     "execution_count": 50,
     "metadata": {},
     "output_type": "execute_result"
    }
   ],
   "source": [
    "imageio.imread(df_files_labels.full_path.iloc[0])"
   ]
  },
  {
   "cell_type": "code",
   "execution_count": 28,
   "id": "57b8a89b-2037-4bfa-8ea4-002a7e38bec4",
   "metadata": {},
   "outputs": [],
   "source": [
    "# -- \n",
    "# instantiate generators \n",
    "\n",
    "#imageGen = du.image_generator(df_files_labels, batch_size, lb)"
   ]
  },
  {
   "cell_type": "code",
   "execution_count": 24,
   "id": "074a907a-87d9-4c10-9b6f-a81e5a323ee4",
   "metadata": {},
   "outputs": [],
   "source": [
    "# split the data for testing and training\n",
    "train, validation = train_test_split(df_files_labels, test_size=0.2)"
   ]
  },
  {
   "cell_type": "code",
   "execution_count": 25,
   "id": "f226fdbd-e1b8-4407-b366-63134c39926b",
   "metadata": {},
   "outputs": [],
   "source": [
    "# instantiate generators \n",
    "\n",
    "trainGen = du.image_generator(train, batch_size, lb)\n",
    "validationGen = du.image_generator(validation, batch_size, lb)"
   ]
  },
  {
   "cell_type": "code",
   "execution_count": 55,
   "id": "f09c9399-7f8d-43bb-8025-7c00d88a41ad",
   "metadata": {},
   "outputs": [
    {
     "data": {
      "text/plain": [
       "Array([[197, 201, 199, ..., 197, 198, 201],\n",
       "       [199, 199, 198, ..., 196, 194, 198],\n",
       "       [202, 199, 195, ..., 198, 200, 196],\n",
       "       ...,\n",
       "       [202, 199, 196, ..., 202, 204, 196],\n",
       "       [201, 201, 203, ..., 203, 199, 197],\n",
       "       [200, 201, 200, ..., 198, 196, 202]], dtype=uint8)"
      ]
     },
     "execution_count": 55,
     "metadata": {},
     "output_type": "execute_result"
    }
   ],
   "source": [
    "imageio.imread('https://ifcb.blob.core.windows.net/naames/NAAMES_ml/D20151107T120416_IFCB107/IFCB107D20151107T120416P00874.png')"
   ]
  },
  {
   "cell_type": "code",
   "execution_count": 56,
   "id": "b7da9829-031b-4cdc-864e-b8449a62bf78",
   "metadata": {},
   "outputs": [],
   "source": [
    "#%%time\n",
    "#output = next(imageGen)"
   ]
  },
  {
   "cell_type": "code",
   "execution_count": 31,
   "id": "76331247-1e7e-41b2-bbc6-1617c884d195",
   "metadata": {},
   "outputs": [
    {
     "data": {
      "text/plain": [
       "(100, 128, 128, 1)"
      ]
     },
     "execution_count": 31,
     "metadata": {},
     "output_type": "execute_result"
    }
   ],
   "source": [
    "#output[0].shape"
   ]
  },
  {
   "cell_type": "code",
   "execution_count": 32,
   "id": "be2bb31a-e3e8-4b60-bc33-8e4f5d63426e",
   "metadata": {},
   "outputs": [
    {
     "data": {
      "text/plain": [
       "(100, 14)"
      ]
     },
     "execution_count": 32,
     "metadata": {},
     "output_type": "execute_result"
    }
   ],
   "source": [
    "#output[1].shape"
   ]
  },
  {
   "cell_type": "code",
   "execution_count": 26,
   "id": "d80e2b79-08aa-4503-b679-e49896dbade3",
   "metadata": {},
   "outputs": [
    {
     "data": {
      "text/plain": [
       "(8000, 3)"
      ]
     },
     "execution_count": 26,
     "metadata": {},
     "output_type": "execute_result"
    }
   ],
   "source": [
    "train.shape"
   ]
  },
  {
   "cell_type": "markdown",
   "id": "906000af-9881-47d5-a359-6768ef3d509e",
   "metadata": {
    "tags": []
   },
   "source": [
    "### define CNN model"
   ]
  },
  {
   "cell_type": "code",
   "execution_count": 14,
   "id": "8bdb35af-81e1-4cb8-a052-7d2834e970ff",
   "metadata": {},
   "outputs": [],
   "source": [
    "import ml_models"
   ]
  },
  {
   "cell_type": "code",
   "execution_count": 16,
   "id": "d0014d76-d6af-4dec-8d56-5933d3896279",
   "metadata": {},
   "outputs": [
    {
     "data": {
      "text/plain": [
       "<module 'ml_models' from '/home/jovyan/ifcb-utopia/ml-workflow/notebooks/../ml_models.py'>"
      ]
     },
     "execution_count": 16,
     "metadata": {},
     "output_type": "execute_result"
    }
   ],
   "source": [
    "imp.reload(ml_models)"
   ]
  },
  {
   "cell_type": "code",
   "execution_count": 28,
   "id": "046b840b-73a5-489e-a10a-15e241481865",
   "metadata": {},
   "outputs": [
    {
     "data": {
      "text/plain": [
       "<function ml_models.create_cnn_model_A1(width, height, depth, filters=(32, 16, 64, 32, 128, 128, 64, 256, 256, 128), regress=False)>"
      ]
     },
     "execution_count": 28,
     "metadata": {},
     "output_type": "execute_result"
    }
   ],
   "source": [
    "ml_models.create_cnn_model_A1"
   ]
  },
  {
   "cell_type": "code",
   "execution_count": 29,
   "id": "198a1840-c1eb-4f35-adc8-64e1cc599cc0",
   "metadata": {},
   "outputs": [
    {
     "name": "stderr",
     "output_type": "stream",
     "text": [
      "2022-02-16 21:35:03.033013: I tensorflow/compiler/jit/xla_cpu_device.cc:41] Not creating XLA devices, tf_xla_enable_xla_devices not set\n",
      "2022-02-16 21:35:03.033733: I tensorflow/stream_executor/platform/default/dso_loader.cc:49] Successfully opened dynamic library libcuda.so.1\n",
      "2022-02-16 21:35:03.111481: I tensorflow/core/common_runtime/gpu/gpu_device.cc:1720] Found device 0 with properties: \n",
      "pciBusID: 0001:00:00.0 name: Tesla T4 computeCapability: 7.5\n",
      "coreClock: 1.59GHz coreCount: 40 deviceMemorySize: 14.75GiB deviceMemoryBandwidth: 298.08GiB/s\n",
      "2022-02-16 21:35:03.111519: I tensorflow/stream_executor/platform/default/dso_loader.cc:49] Successfully opened dynamic library libcudart.so.10.1\n",
      "2022-02-16 21:35:03.112695: I tensorflow/stream_executor/platform/default/dso_loader.cc:49] Successfully opened dynamic library libcublas.so.10\n",
      "2022-02-16 21:35:03.112736: I tensorflow/stream_executor/platform/default/dso_loader.cc:49] Successfully opened dynamic library libcublasLt.so.10\n",
      "2022-02-16 21:35:03.113919: I tensorflow/stream_executor/platform/default/dso_loader.cc:49] Successfully opened dynamic library libcufft.so.10\n",
      "2022-02-16 21:35:03.114294: I tensorflow/stream_executor/platform/default/dso_loader.cc:49] Successfully opened dynamic library libcurand.so.10\n",
      "2022-02-16 21:35:03.115334: I tensorflow/stream_executor/platform/default/dso_loader.cc:49] Successfully opened dynamic library libcusolver.so.10\n",
      "2022-02-16 21:35:03.115878: I tensorflow/stream_executor/platform/default/dso_loader.cc:49] Successfully opened dynamic library libcusparse.so.10\n",
      "2022-02-16 21:35:03.118092: I tensorflow/stream_executor/platform/default/dso_loader.cc:49] Successfully opened dynamic library libcudnn.so.7\n",
      "2022-02-16 21:35:03.119604: I tensorflow/core/common_runtime/gpu/gpu_device.cc:1862] Adding visible gpu devices: 0\n",
      "2022-02-16 21:35:03.120015: I tensorflow/core/platform/cpu_feature_guard.cc:142] This TensorFlow binary is optimized with oneAPI Deep Neural Network Library (oneDNN) to use the following CPU instructions in performance-critical operations:  SSE4.1 SSE4.2 AVX AVX2 FMA\n",
      "To enable them in other operations, rebuild TensorFlow with the appropriate compiler flags.\n",
      "2022-02-16 21:35:03.120167: I tensorflow/compiler/jit/xla_gpu_device.cc:99] Not creating XLA devices, tf_xla_enable_xla_devices not set\n",
      "2022-02-16 21:35:03.120901: I tensorflow/core/common_runtime/gpu/gpu_device.cc:1720] Found device 0 with properties: \n",
      "pciBusID: 0001:00:00.0 name: Tesla T4 computeCapability: 7.5\n",
      "coreClock: 1.59GHz coreCount: 40 deviceMemorySize: 14.75GiB deviceMemoryBandwidth: 298.08GiB/s\n",
      "2022-02-16 21:35:03.120929: I tensorflow/stream_executor/platform/default/dso_loader.cc:49] Successfully opened dynamic library libcudart.so.10.1\n",
      "2022-02-16 21:35:03.120950: I tensorflow/stream_executor/platform/default/dso_loader.cc:49] Successfully opened dynamic library libcublas.so.10\n",
      "2022-02-16 21:35:03.120968: I tensorflow/stream_executor/platform/default/dso_loader.cc:49] Successfully opened dynamic library libcublasLt.so.10\n",
      "2022-02-16 21:35:03.120984: I tensorflow/stream_executor/platform/default/dso_loader.cc:49] Successfully opened dynamic library libcufft.so.10\n",
      "2022-02-16 21:35:03.121000: I tensorflow/stream_executor/platform/default/dso_loader.cc:49] Successfully opened dynamic library libcurand.so.10\n",
      "2022-02-16 21:35:03.121015: I tensorflow/stream_executor/platform/default/dso_loader.cc:49] Successfully opened dynamic library libcusolver.so.10\n",
      "2022-02-16 21:35:03.121029: I tensorflow/stream_executor/platform/default/dso_loader.cc:49] Successfully opened dynamic library libcusparse.so.10\n",
      "2022-02-16 21:35:03.121045: I tensorflow/stream_executor/platform/default/dso_loader.cc:49] Successfully opened dynamic library libcudnn.so.7\n",
      "2022-02-16 21:35:03.122379: I tensorflow/core/common_runtime/gpu/gpu_device.cc:1862] Adding visible gpu devices: 0\n",
      "2022-02-16 21:35:03.122420: I tensorflow/stream_executor/platform/default/dso_loader.cc:49] Successfully opened dynamic library libcudart.so.10.1\n",
      "2022-02-16 21:35:03.551273: I tensorflow/core/common_runtime/gpu/gpu_device.cc:1261] Device interconnect StreamExecutor with strength 1 edge matrix:\n",
      "2022-02-16 21:35:03.551320: I tensorflow/core/common_runtime/gpu/gpu_device.cc:1267]      0 \n",
      "2022-02-16 21:35:03.551328: I tensorflow/core/common_runtime/gpu/gpu_device.cc:1280] 0:   N \n",
      "2022-02-16 21:35:03.553605: I tensorflow/core/common_runtime/gpu/gpu_device.cc:1406] Created TensorFlow device (/job:localhost/replica:0/task:0/device:GPU:0 with 13970 MB memory) -> physical GPU (device: 0, name: Tesla T4, pci bus id: 0001:00:00.0, compute capability: 7.5)\n"
     ]
    }
   ],
   "source": [
    "# define and compile cnn with function \n",
    "# should do layer by layer going forward for legibility\n",
    "\n",
    "cnn = ml_models.create_cnn_model_A1(128, 128, 1, regress=False)\n",
    "x = Dense(1000, activation=\"relu\")(cnn.output)\n",
    "x = Dropout(rate=0.1)(x)\n",
    "x = Dense(14, activation=\"softmax\")(x)\n",
    "model = Model(inputs=cnn.input, outputs=x)\n",
    "model.compile(loss='categorical_crossentropy', optimizer='adam', metrics=['accuracy'])"
   ]
  },
  {
   "cell_type": "markdown",
   "id": "de03492b-7310-4059-b3c6-902e59950879",
   "metadata": {},
   "source": [
    "### train model"
   ]
  },
  {
   "cell_type": "code",
   "execution_count": 30,
   "id": "180a1fb0-bc05-4174-ba60-51a6cf93ed1e",
   "metadata": {},
   "outputs": [],
   "source": [
    "totalTrain = len(train)"
   ]
  },
  {
   "cell_type": "code",
   "execution_count": 31,
   "id": "6809be84-9026-4922-ab86-4c4d967a6405",
   "metadata": {},
   "outputs": [],
   "source": [
    "totalVal = len(validation)"
   ]
  },
  {
   "cell_type": "code",
   "execution_count": 33,
   "id": "576e4442-3e65-47f6-8965-155843317438",
   "metadata": {},
   "outputs": [
    {
     "data": {
      "text/plain": [
       "8000"
      ]
     },
     "execution_count": 33,
     "metadata": {},
     "output_type": "execute_result"
    }
   ],
   "source": [
    "totalTrain"
   ]
  },
  {
   "cell_type": "code",
   "execution_count": 19,
   "id": "7a4ca729-d83c-4aff-ba7e-77ceafb1f9d4",
   "metadata": {},
   "outputs": [],
   "source": [
    "import tensorflow as tf"
   ]
  },
  {
   "cell_type": "code",
   "execution_count": 21,
   "id": "d1f6449e-a16e-4eac-b549-35c9efe03d9a",
   "metadata": {},
   "outputs": [
    {
     "name": "stderr",
     "output_type": "stream",
     "text": [
      "2022-02-16 23:43:00.856135: I tensorflow/core/platform/cpu_feature_guard.cc:142] This TensorFlow binary is optimized with oneAPI Deep Neural Network Library (oneDNN) to use the following CPU instructions in performance-critical operations:  SSE4.1 SSE4.2 AVX AVX2 FMA\n",
      "To enable them in other operations, rebuild TensorFlow with the appropriate compiler flags.\n",
      "2022-02-16 23:43:00.856348: I tensorflow/compiler/jit/xla_gpu_device.cc:99] Not creating XLA devices, tf_xla_enable_xla_devices not set\n",
      "2022-02-16 23:43:00.857030: I tensorflow/stream_executor/platform/default/dso_loader.cc:49] Successfully opened dynamic library libcuda.so.1\n",
      "2022-02-16 23:43:00.935806: I tensorflow/core/common_runtime/gpu/gpu_device.cc:1720] Found device 0 with properties: \n",
      "pciBusID: 0001:00:00.0 name: Tesla T4 computeCapability: 7.5\n",
      "coreClock: 1.59GHz coreCount: 40 deviceMemorySize: 14.75GiB deviceMemoryBandwidth: 298.08GiB/s\n",
      "2022-02-16 23:43:00.935842: I tensorflow/stream_executor/platform/default/dso_loader.cc:49] Successfully opened dynamic library libcudart.so.10.1\n",
      "2022-02-16 23:43:00.937154: I tensorflow/stream_executor/platform/default/dso_loader.cc:49] Successfully opened dynamic library libcublas.so.10\n",
      "2022-02-16 23:43:00.937198: I tensorflow/stream_executor/platform/default/dso_loader.cc:49] Successfully opened dynamic library libcublasLt.so.10\n",
      "2022-02-16 23:43:00.938535: I tensorflow/stream_executor/platform/default/dso_loader.cc:49] Successfully opened dynamic library libcufft.so.10\n",
      "2022-02-16 23:43:00.938753: I tensorflow/stream_executor/platform/default/dso_loader.cc:49] Successfully opened dynamic library libcurand.so.10\n",
      "2022-02-16 23:43:00.939974: I tensorflow/stream_executor/platform/default/dso_loader.cc:49] Successfully opened dynamic library libcusolver.so.10\n",
      "2022-02-16 23:43:00.940742: I tensorflow/stream_executor/platform/default/dso_loader.cc:49] Successfully opened dynamic library libcusparse.so.10\n",
      "2022-02-16 23:43:00.943416: I tensorflow/stream_executor/platform/default/dso_loader.cc:49] Successfully opened dynamic library libcudnn.so.7\n",
      "2022-02-16 23:43:00.944939: I tensorflow/core/common_runtime/gpu/gpu_device.cc:1862] Adding visible gpu devices: 0\n",
      "2022-02-16 23:43:00.944985: I tensorflow/stream_executor/platform/default/dso_loader.cc:49] Successfully opened dynamic library libcudart.so.10.1\n",
      "2022-02-16 23:43:01.418951: I tensorflow/core/common_runtime/gpu/gpu_device.cc:1261] Device interconnect StreamExecutor with strength 1 edge matrix:\n",
      "2022-02-16 23:43:01.418993: I tensorflow/core/common_runtime/gpu/gpu_device.cc:1267]      0 \n",
      "2022-02-16 23:43:01.419000: I tensorflow/core/common_runtime/gpu/gpu_device.cc:1280] 0:   N \n",
      "2022-02-16 23:43:01.421259: I tensorflow/core/common_runtime/gpu/gpu_device.cc:1406] Created TensorFlow device (/device:GPU:0 with 13970 MB memory) -> physical GPU (device: 0, name: Tesla T4, pci bus id: 0001:00:00.0, compute capability: 7.5)\n"
     ]
    },
    {
     "data": {
      "text/plain": [
       "'/device:GPU:0'"
      ]
     },
     "execution_count": 21,
     "metadata": {},
     "output_type": "execute_result"
    }
   ],
   "source": [
    "tf.test.gpu_device_name()"
   ]
  },
  {
   "cell_type": "code",
   "execution_count": null,
   "id": "f011e87f-4522-4272-8d84-2c67c6923d0b",
   "metadata": {
    "tags": []
   },
   "outputs": [
    {
     "name": "stdout",
     "output_type": "stream",
     "text": [
      "[INFO] training simple network...\n"
     ]
    },
    {
     "name": "stderr",
     "output_type": "stream",
     "text": [
      "2022-02-16 21:37:03.465018: I tensorflow/compiler/mlir/mlir_graph_optimization_pass.cc:116] None of the MLIR optimization passes are enabled (registered 2)\n",
      "2022-02-16 21:37:03.465381: I tensorflow/core/platform/profile_utils/cpu_utils.cc:112] CPU Frequency: 2445410000 Hz\n"
     ]
    },
    {
     "name": "stdout",
     "output_type": "stream",
     "text": [
      "Epoch 1/2\n"
     ]
    },
    {
     "name": "stderr",
     "output_type": "stream",
     "text": [
      "2022-02-16 21:37:04.394895: I tensorflow/stream_executor/platform/default/dso_loader.cc:49] Successfully opened dynamic library libcublas.so.10\n",
      "2022-02-16 21:37:04.555880: I tensorflow/stream_executor/platform/default/dso_loader.cc:49] Successfully opened dynamic library libcudnn.so.7\n",
      "2022-02-16 21:37:05.252736: W tensorflow/stream_executor/gpu/asm_compiler.cc:63] Running ptxas --version returned 256\n",
      "2022-02-16 21:37:05.282216: W tensorflow/stream_executor/gpu/redzone_allocator.cc:314] Internal: ptxas exited with non-zero error code 256, output: \n",
      "Relying on driver to perform ptx compilation. \n",
      "Modify $PATH to customize ptxas location.\n",
      "This message will be only logged once.\n"
     ]
    },
    {
     "name": "stdout",
     "output_type": "stream",
     "text": [
      "20/80 [======>.......................] - ETA: 1:01:58 - loss: 1.2366 - accuracy: 0.6779"
     ]
    }
   ],
   "source": [
    "%%time\n",
    "# train model and save history object \n",
    "\n",
    "' training in smaller increments to monitor progress '\n",
    "\n",
    "print(\"[INFO] training simple network...\")\n",
    "H = model.fit(\n",
    "    trainGen,\n",
    "    steps_per_epoch=totalTrain // batch_size,\n",
    "    validation_data=validationGen,\n",
    "    validation_steps=totalVal // batch_size,\n",
    "    epochs=2)"
   ]
  },
  {
   "cell_type": "code",
   "execution_count": null,
   "id": "9456f5fe-2f2b-4d21-b676-a5c62e9ff957",
   "metadata": {},
   "outputs": [],
   "source": [
    "# plot info from model history object \n",
    "\n",
    "# list all data in history\n",
    "print(H.history.keys())\n",
    "\n",
    "# summarize history for accuracy\n",
    "plt.plot(H.history['accuracy'])\n",
    "plt.plot(H.history['val_accuracy'])\n",
    "plt.title('model accuracy')\n",
    "plt.ylabel('accuracy')\n",
    "plt.xlabel('epoch')\n",
    "plt.legend(['train', 'validation'], loc='upper left')\n",
    "plt.show()\n",
    "\n",
    "# summarize history for loss\n",
    "plt.plot(H.history['loss'])\n",
    "plt.plot(H.history['val_loss'])\n",
    "plt.title('model loss')\n",
    "plt.ylabel('loss')\n",
    "plt.xlabel('epoch')\n",
    "plt.legend(['train', 'validation'], loc='upper left')\n",
    "plt.show()"
   ]
  },
  {
   "cell_type": "code",
   "execution_count": 20,
   "id": "65ca523d-3e8a-4ddc-a104-3382335fc856",
   "metadata": {},
   "outputs": [],
   "source": [
    "#imp.reload(ml_models)"
   ]
  },
  {
   "cell_type": "code",
   "execution_count": 13,
   "id": "29114a47-f42e-42f6-92a1-77b0982ef36c",
   "metadata": {},
   "outputs": [],
   "source": [
    "#account_key = input('input_account_key')"
   ]
  },
  {
   "cell_type": "code",
   "execution_count": 21,
   "id": "3f833d8d-8936-41e8-a2fc-a71b7b914c7c",
   "metadata": {},
   "outputs": [],
   "source": [
    "# attach the azure url\n",
    "#blob_urls = (f\"https://{account_name}.blob.core.windows.net/{container_name}/{blob.name}\" for blob in blobs_list)"
   ]
  },
  {
   "cell_type": "code",
   "execution_count": 20,
   "id": "509e292a-5248-429c-a91c-f1d004e3f20e",
   "metadata": {
    "tags": []
   },
   "outputs": [],
   "source": [
    "#%%time\n",
    "#dataset = []\n",
    "#failed_urls = []\n",
    "#for blob_url in blob_urls:\n",
    "    # print(blob_url)\n",
    "    # select 'png'\n",
    "#    if 'png' in blob_url:\n",
    "#        try:\n",
    "#            image = imageio.imread(blob_url)\n",
    "#            dataset.append(image)\n",
    "#        except Exception as e:\n",
    "#            failed_urls.append(blob_url)\n",
    "#            pass\n",
    "        "
   ]
  },
  {
   "cell_type": "code",
   "execution_count": 22,
   "id": "98e485d1-555b-4b1a-a240-9230af07334b",
   "metadata": {},
   "outputs": [],
   "source": [
    "#print(failed_urls)"
   ]
  },
  {
   "cell_type": "code",
   "execution_count": 23,
   "id": "d3732234-ed99-44a6-828f-71b5c7ac659a",
   "metadata": {},
   "outputs": [],
   "source": [
    "#len(dataset)"
   ]
  },
  {
   "cell_type": "code",
   "execution_count": 25,
   "id": "a7e71d31-2899-4a4d-96ba-e17ab8e53a39",
   "metadata": {
    "tags": []
   },
   "outputs": [],
   "source": [
    "# show an image"
   ]
  },
  {
   "cell_type": "code",
   "execution_count": 43,
   "id": "aad3fe03-3abf-4670-82a9-241099bf467e",
   "metadata": {},
   "outputs": [
    {
     "data": {
      "text/plain": [
       "<matplotlib.image.AxesImage at 0x7fea5491b0d0>"
      ]
     },
     "execution_count": 43,
     "metadata": {},
     "output_type": "execute_result"
    },
    {
     "data": {
      "image/png": "[encoded data removed]",
      "text/plain": [
       "<Figure size 432x288 with 1 Axes>"
      ]
     },
     "metadata": {
      "needs_background": "light"
     },
     "output_type": "display_data"
    }
   ],
   "source": [
    "plt.imshow(dataset[0])"
   ]
  },
  {
   "cell_type": "code",
   "execution_count": 30,
   "id": "f64a7aed-3df6-42f7-be69-f507b7220c5a",
   "metadata": {},
   "outputs": [
    {
     "data": {
      "text/plain": [
       "<imageio.plugins.pillow_legacy.PNGFormat.Reader at 0x7fea565d77c0>"
      ]
     },
     "execution_count": 30,
     "metadata": {},
     "output_type": "execute_result"
    }
   ],
   "source": [
    "dataset[0]"
   ]
  },
  {
   "cell_type": "code",
   "execution_count": 15,
   "id": "f9a0cf3c-3e1e-4cad-93be-f04fd4fded09",
   "metadata": {},
   "outputs": [],
   "source": [
    "image = imageio.imread('https://ifcb.blob.core.windows.net/naames/NAAMES_ml/D20151102T161705_IFCB107/IFCB107D20151102T161705P00002.png')"
   ]
  },
  {
   "cell_type": "code",
   "execution_count": 17,
   "id": "31b0ac42-782a-4313-be8f-110f541d4a79",
   "metadata": {},
   "outputs": [
    {
     "data": {
      "text/plain": [
       "Array([[203, 200, 200, ..., 200, 198, 200],\n",
       "       [199, 200, 198, ..., 195, 199, 194],\n",
       "       [201, 201, 205, ..., 200, 197, 198],\n",
       "       ...,\n",
       "       [205, 203, 207, ..., 197, 197, 197],\n",
       "       [205, 203, 203, ..., 200, 199, 196],\n",
       "       [207, 202, 209, ..., 201, 198, 199]], dtype=uint8)"
      ]
     },
     "execution_count": 17,
     "metadata": {},
     "output_type": "execute_result"
    }
   ],
   "source": [
    "image"
   ]
  },
  {
   "cell_type": "code",
   "execution_count": null,
   "id": "f3356643-6cba-49f7-aa9d-851d991524ac",
   "metadata": {},
   "outputs": [],
   "source": []
  }
 ],
 "metadata": {
  "kernelspec": {
   "display_name": "Python 3 (ipykernel)",
   "language": "python",
   "name": "python3"
  },
  "language_info": {
   "codemirror_mode": {
    "name": "ipython",
    "version": 3
   },
   "file_extension": ".py",
   "mimetype": "text/x-python",
   "name": "python",
   "nbconvert_exporter": "python",
   "pygments_lexer": "ipython3",
   "version": "3.8.12"
  }
 },
 "nbformat": 4,
 "nbformat_minor": 5
}
