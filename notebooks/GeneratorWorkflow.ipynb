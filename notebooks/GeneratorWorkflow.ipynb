{
 "cells": [
  {
   "cell_type": "markdown",
   "id": "ce7fdf2e-18ff-4ce1-a078-409ed6464ac7",
   "metadata": {},
   "source": [
    "We have stored the NAAMES data to Azure Cloud Storage and to read it we will use the Python API. \n",
    "\n",
    "ifcb storage account -> naames container -> NAAMES_ml folder"
   ]
  },
  {
   "cell_type": "code",
   "execution_count": 1,
   "id": "3031ea78-9c45-495a-92ad-9626c057ddaf",
   "metadata": {},
   "outputs": [],
   "source": [
    "import matplotlib.pyplot as plt\n",
    "import pandas as pd\n",
    "import os"
   ]
  },
  {
   "cell_type": "code",
   "execution_count": 2,
   "id": "bec48228-1585-4ae5-a256-9db5d12d5f3e",
   "metadata": {
    "tags": []
   },
   "outputs": [],
   "source": [
    "import imageio"
   ]
  },
  {
   "cell_type": "code",
   "execution_count": 3,
   "id": "44e6fb9b-2d28-4eb6-adc8-052fd7c706fb",
   "metadata": {},
   "outputs": [],
   "source": [
    "import getpass"
   ]
  },
  {
   "cell_type": "code",
   "execution_count": 4,
   "id": "9d6ad145-4dba-4570-bdee-cb647989cfb9",
   "metadata": {},
   "outputs": [
    {
     "name": "stdout",
     "output_type": "stream",
     "text": [
      "Requirement already satisfied: opencv-python-headless in /anaconda/envs/azureml_py38/lib/python3.8/site-packages (from -r ../requirements.txt (line 1)) (4.5.5.64)\n",
      "Requirement already satisfied: numpy>=1.14.5; python_version >= \"3.7\" in /anaconda/envs/azureml_py38/lib/python3.8/site-packages (from opencv-python-headless->-r ../requirements.txt (line 1)) (1.19.0)\n",
      "Note: you may need to restart the kernel to use updated packages.\n"
     ]
    }
   ],
   "source": [
    "pip install -r ../requirements.txt"
   ]
  },
  {
   "cell_type": "code",
   "execution_count": 5,
   "id": "b13e75e7-caac-4399-a45f-6855ff443b0c",
   "metadata": {},
   "outputs": [],
   "source": [
    "from tensorflow.keras.layers import Dropout\n",
    "from tensorflow.keras.layers import Dense\n",
    "from tensorflow.keras.models import Model"
   ]
  },
  {
   "cell_type": "code",
   "execution_count": 6,
   "id": "3a3a07bd-92d1-405e-bea0-64527e1aa87c",
   "metadata": {},
   "outputs": [],
   "source": [
    "import tensorflow as tf\n",
    "import datetime"
   ]
  },
  {
   "cell_type": "code",
   "execution_count": 7,
   "id": "c0b6823e-4a8c-4425-8e3a-452bf67cf7f8",
   "metadata": {},
   "outputs": [],
   "source": [
    "from sklearn.preprocessing import LabelBinarizer\n",
    "from sklearn.model_selection import train_test_split"
   ]
  },
  {
   "cell_type": "code",
   "execution_count": 8,
   "id": "398edaf4-3f24-40f4-91af-bae64085b8b5",
   "metadata": {},
   "outputs": [],
   "source": [
    "import azure.storage.blob"
   ]
  },
  {
   "cell_type": "code",
   "execution_count": 9,
   "id": "db84b106-1228-4ff9-a621-6d8d13734ab9",
   "metadata": {},
   "outputs": [],
   "source": [
    "import sys\n",
    "sys.path.append('../')"
   ]
  },
  {
   "cell_type": "code",
   "execution_count": 10,
   "id": "00c1f5f9-8d8c-4bc8-a8a7-a419eb2d7c71",
   "metadata": {},
   "outputs": [],
   "source": [
    "import imp"
   ]
  },
  {
   "cell_type": "code",
   "execution_count": 11,
   "id": "c844e5dd-f419-486d-a03d-69235aaf7c20",
   "metadata": {},
   "outputs": [],
   "source": [
    "# Load the TensorBoard notebook extension\n",
    "%load_ext tensorboard"
   ]
  },
  {
   "cell_type": "code",
   "execution_count": 61,
   "id": "64fe036b-e80f-4f53-b35f-db6e9f136a9c",
   "metadata": {},
   "outputs": [],
   "source": [
    "import data_utils as du"
   ]
  },
  {
   "cell_type": "code",
   "execution_count": 62,
   "id": "8de7cb82-feb9-4f8e-9a9e-ca0607ff1be2",
   "metadata": {},
   "outputs": [
    {
     "data": {
      "text/plain": [
       "<module 'data_utils' from '../data_utils.py'>"
      ]
     },
     "execution_count": 62,
     "metadata": {},
     "output_type": "execute_result"
    }
   ],
   "source": [
    "imp.reload(du)"
   ]
  },
  {
   "cell_type": "code",
   "execution_count": 18,
   "id": "66e81101-1387-4cf7-9b15-8246ef737f07",
   "metadata": {},
   "outputs": [
    {
     "name": "stdin",
     "output_type": "stream",
     "text": [
      " ·····························································································································································································\n"
     ]
    }
   ],
   "source": [
    "# here we connect to the Azure blob storage\n",
    "connection_string = getpass.getpass()"
   ]
  },
  {
   "cell_type": "code",
   "execution_count": 19,
   "id": "4e4ea952-8f34-4425-98eb-2229394b2e6c",
   "metadata": {},
   "outputs": [],
   "source": [
    "container_client = azure.storage.blob.ContainerClient.from_connection_string(\n",
    "    connection_string, container_name=\"naames\"\n",
    ")"
   ]
  },
  {
   "cell_type": "code",
   "execution_count": 20,
   "id": "cd20e53a-f79e-4b41-b8b1-53a6f3fc0b4b",
   "metadata": {},
   "outputs": [],
   "source": [
    "# we limit to a subfolder to test the functionality\n",
    "#blobs_list = container_client.list_blobs(name_starts_with='NAAMES_ml/D20151102T161705_IFCB107')"
   ]
  },
  {
   "cell_type": "code",
   "execution_count": 21,
   "id": "f429a71b-fc1e-4c0d-b78e-147921684d7c",
   "metadata": {},
   "outputs": [],
   "source": [
    "container_name = 'naames'\n",
    "account_name = 'ifcbwesteurope'"
   ]
  },
  {
   "cell_type": "code",
   "execution_count": 22,
   "id": "0afa37e2-28b6-4059-bd17-f0e02bec8175",
   "metadata": {},
   "outputs": [],
   "source": [
    "url_prefix = f\"https://{account_name}.blob.core.windows.net/{container_name}/\""
   ]
  },
  {
   "cell_type": "code",
   "execution_count": 23,
   "id": "3aefede4-18d5-459b-a57a-2de66c928937",
   "metadata": {},
   "outputs": [
    {
     "data": {
      "text/plain": [
       "'https://ifcbwesteurope.blob.core.windows.net/naames/'"
      ]
     },
     "execution_count": 23,
     "metadata": {},
     "output_type": "execute_result"
    }
   ],
   "source": [
    "url_prefix"
   ]
  },
  {
   "cell_type": "code",
   "execution_count": 24,
   "id": "6c33e508-0061-419a-9de4-d85f41959a00",
   "metadata": {},
   "outputs": [],
   "source": [
    "csv_url = url_prefix + 'image-file-directory.csv'"
   ]
  },
  {
   "cell_type": "code",
   "execution_count": 25,
   "id": "9dff3725-de5e-488b-8c38-7e7ac427e0d3",
   "metadata": {},
   "outputs": [
    {
     "data": {
      "text/html": [
       "<div>\n",
       "<style scoped>\n",
       "    .dataframe tbody tr th:only-of-type {\n",
       "        vertical-align: middle;\n",
       "    }\n",
       "\n",
       "    .dataframe tbody tr th {\n",
       "        vertical-align: top;\n",
       "    }\n",
       "\n",
       "    .dataframe thead th {\n",
       "        text-align: right;\n",
       "    }\n",
       "</style>\n",
       "<table border=\"1\" class=\"dataframe\">\n",
       "  <thead>\n",
       "    <tr style=\"text-align: right;\">\n",
       "      <th></th>\n",
       "      <th>file_name</th>\n",
       "      <th>class_raw</th>\n",
       "      <th>high_group</th>\n",
       "      <th>missing_high_group</th>\n",
       "      <th>id</th>\n",
       "      <th>lat</th>\n",
       "      <th>long</th>\n",
       "      <th>Area</th>\n",
       "      <th>Biovolume</th>\n",
       "      <th>ConvexArea</th>\n",
       "      <th>...</th>\n",
       "      <th>ScatInt</th>\n",
       "      <th>FluoInt</th>\n",
       "      <th>ScatPeak</th>\n",
       "      <th>FluoPeak</th>\n",
       "      <th>NumberOfROIinTrigger</th>\n",
       "      <th>missing_meta_data</th>\n",
       "      <th>ESDA_exclude</th>\n",
       "      <th>excluded_1</th>\n",
       "      <th>set</th>\n",
       "      <th>binary_label</th>\n",
       "    </tr>\n",
       "  </thead>\n",
       "  <tbody>\n",
       "    <tr>\n",
       "      <th>0</th>\n",
       "      <td>IFCB107D20151104T112022P00433_Unicellular.png</td>\n",
       "      <td>Unicellular</td>\n",
       "      <td>Other</td>\n",
       "      <td>False</td>\n",
       "      <td>IFCB107D20151104T112022P00433</td>\n",
       "      <td>NaN</td>\n",
       "      <td>NaN</td>\n",
       "      <td>NaN</td>\n",
       "      <td>NaN</td>\n",
       "      <td>NaN</td>\n",
       "      <td>...</td>\n",
       "      <td>NaN</td>\n",
       "      <td>NaN</td>\n",
       "      <td>NaN</td>\n",
       "      <td>NaN</td>\n",
       "      <td>NaN</td>\n",
       "      <td>True</td>\n",
       "      <td>False</td>\n",
       "      <td>1</td>\n",
       "      <td>train</td>\n",
       "      <td>plankton</td>\n",
       "    </tr>\n",
       "    <tr>\n",
       "      <th>1</th>\n",
       "      <td>IFCB107D20151104T114135P00194_Unicellular.png</td>\n",
       "      <td>Unicellular</td>\n",
       "      <td>Other</td>\n",
       "      <td>False</td>\n",
       "      <td>IFCB107D20151104T114135P00194</td>\n",
       "      <td>NaN</td>\n",
       "      <td>NaN</td>\n",
       "      <td>NaN</td>\n",
       "      <td>NaN</td>\n",
       "      <td>NaN</td>\n",
       "      <td>...</td>\n",
       "      <td>NaN</td>\n",
       "      <td>NaN</td>\n",
       "      <td>NaN</td>\n",
       "      <td>NaN</td>\n",
       "      <td>NaN</td>\n",
       "      <td>True</td>\n",
       "      <td>False</td>\n",
       "      <td>1</td>\n",
       "      <td>train</td>\n",
       "      <td>plankton</td>\n",
       "    </tr>\n",
       "    <tr>\n",
       "      <th>2</th>\n",
       "      <td>IFCB107D20151104T114135P00246_Unicellular.png</td>\n",
       "      <td>Unicellular</td>\n",
       "      <td>Other</td>\n",
       "      <td>False</td>\n",
       "      <td>IFCB107D20151104T114135P00246</td>\n",
       "      <td>NaN</td>\n",
       "      <td>NaN</td>\n",
       "      <td>NaN</td>\n",
       "      <td>NaN</td>\n",
       "      <td>NaN</td>\n",
       "      <td>...</td>\n",
       "      <td>NaN</td>\n",
       "      <td>NaN</td>\n",
       "      <td>NaN</td>\n",
       "      <td>NaN</td>\n",
       "      <td>NaN</td>\n",
       "      <td>True</td>\n",
       "      <td>False</td>\n",
       "      <td>1</td>\n",
       "      <td>train</td>\n",
       "      <td>plankton</td>\n",
       "    </tr>\n",
       "    <tr>\n",
       "      <th>3</th>\n",
       "      <td>IFCB107D20151104T124515P00027_Unicellular.png</td>\n",
       "      <td>Unicellular</td>\n",
       "      <td>Other</td>\n",
       "      <td>False</td>\n",
       "      <td>IFCB107D20151104T124515P00027</td>\n",
       "      <td>NaN</td>\n",
       "      <td>NaN</td>\n",
       "      <td>NaN</td>\n",
       "      <td>NaN</td>\n",
       "      <td>NaN</td>\n",
       "      <td>...</td>\n",
       "      <td>NaN</td>\n",
       "      <td>NaN</td>\n",
       "      <td>NaN</td>\n",
       "      <td>NaN</td>\n",
       "      <td>NaN</td>\n",
       "      <td>True</td>\n",
       "      <td>False</td>\n",
       "      <td>1</td>\n",
       "      <td>train</td>\n",
       "      <td>plankton</td>\n",
       "    </tr>\n",
       "    <tr>\n",
       "      <th>4</th>\n",
       "      <td>IFCB107D20151105T174918P00074_Dinophyceae.png</td>\n",
       "      <td>Dinophyceae</td>\n",
       "      <td>Dinoflagellate</td>\n",
       "      <td>False</td>\n",
       "      <td>IFCB107D20151105T174918P00074</td>\n",
       "      <td>NaN</td>\n",
       "      <td>NaN</td>\n",
       "      <td>NaN</td>\n",
       "      <td>NaN</td>\n",
       "      <td>NaN</td>\n",
       "      <td>...</td>\n",
       "      <td>NaN</td>\n",
       "      <td>NaN</td>\n",
       "      <td>NaN</td>\n",
       "      <td>NaN</td>\n",
       "      <td>NaN</td>\n",
       "      <td>True</td>\n",
       "      <td>False</td>\n",
       "      <td>1</td>\n",
       "      <td>train</td>\n",
       "      <td>plankton</td>\n",
       "    </tr>\n",
       "    <tr>\n",
       "      <th>...</th>\n",
       "      <td>...</td>\n",
       "      <td>...</td>\n",
       "      <td>...</td>\n",
       "      <td>...</td>\n",
       "      <td>...</td>\n",
       "      <td>...</td>\n",
       "      <td>...</td>\n",
       "      <td>...</td>\n",
       "      <td>...</td>\n",
       "      <td>...</td>\n",
       "      <td>...</td>\n",
       "      <td>...</td>\n",
       "      <td>...</td>\n",
       "      <td>...</td>\n",
       "      <td>...</td>\n",
       "      <td>...</td>\n",
       "      <td>...</td>\n",
       "      <td>...</td>\n",
       "      <td>...</td>\n",
       "      <td>...</td>\n",
       "      <td>...</td>\n",
       "    </tr>\n",
       "    <tr>\n",
       "      <th>1998895</th>\n",
       "      <td>IFCB107D20180412T010113P00020_Ceratium.png</td>\n",
       "      <td>Ceratium</td>\n",
       "      <td>Dinoflagellate</td>\n",
       "      <td>False</td>\n",
       "      <td>IFCB107D20180412T010113P00020</td>\n",
       "      <td>40.348</td>\n",
       "      <td>-68.296</td>\n",
       "      <td>1507.093426</td>\n",
       "      <td>20001.839825</td>\n",
       "      <td>2501.816609</td>\n",
       "      <td>...</td>\n",
       "      <td>1.09682</td>\n",
       "      <td>0.36801</td>\n",
       "      <td>3.33541</td>\n",
       "      <td>1.37789</td>\n",
       "      <td>1.0</td>\n",
       "      <td>False</td>\n",
       "      <td>False</td>\n",
       "      <td>0</td>\n",
       "      <td>train</td>\n",
       "      <td>plankton</td>\n",
       "    </tr>\n",
       "    <tr>\n",
       "      <th>1998896</th>\n",
       "      <td>IFCB107D20180412T012434P00137_Ditylum.png</td>\n",
       "      <td>Ditylum</td>\n",
       "      <td>Diatom</td>\n",
       "      <td>False</td>\n",
       "      <td>IFCB107D20180412T012434P00137</td>\n",
       "      <td>40.324</td>\n",
       "      <td>-68.387</td>\n",
       "      <td>4811.591696</td>\n",
       "      <td>91203.058213</td>\n",
       "      <td>6707.612457</td>\n",
       "      <td>...</td>\n",
       "      <td>3.49742</td>\n",
       "      <td>1.77298</td>\n",
       "      <td>3.35693</td>\n",
       "      <td>3.31523</td>\n",
       "      <td>1.0</td>\n",
       "      <td>False</td>\n",
       "      <td>False</td>\n",
       "      <td>0</td>\n",
       "      <td>train</td>\n",
       "      <td>plankton</td>\n",
       "    </tr>\n",
       "    <tr>\n",
       "      <th>1998897</th>\n",
       "      <td>IFCB107D20180412T012434P00348_Ditylum.png</td>\n",
       "      <td>Ditylum</td>\n",
       "      <td>Diatom</td>\n",
       "      <td>False</td>\n",
       "      <td>IFCB107D20180412T012434P00348</td>\n",
       "      <td>40.324</td>\n",
       "      <td>-68.387</td>\n",
       "      <td>2446.626298</td>\n",
       "      <td>30443.529921</td>\n",
       "      <td>3317.560554</td>\n",
       "      <td>...</td>\n",
       "      <td>2.46922</td>\n",
       "      <td>0.90272</td>\n",
       "      <td>3.35900</td>\n",
       "      <td>2.21282</td>\n",
       "      <td>1.0</td>\n",
       "      <td>False</td>\n",
       "      <td>False</td>\n",
       "      <td>0</td>\n",
       "      <td>train</td>\n",
       "      <td>plankton</td>\n",
       "    </tr>\n",
       "    <tr>\n",
       "      <th>1998898</th>\n",
       "      <td>IFCB107D20180412T021117P00330_Ceratium.png</td>\n",
       "      <td>Ceratium</td>\n",
       "      <td>Dinoflagellate</td>\n",
       "      <td>False</td>\n",
       "      <td>IFCB107D20180412T021117P00330</td>\n",
       "      <td>40.273</td>\n",
       "      <td>-68.571</td>\n",
       "      <td>1500.951557</td>\n",
       "      <td>19808.704267</td>\n",
       "      <td>2787.802768</td>\n",
       "      <td>...</td>\n",
       "      <td>0.61201</td>\n",
       "      <td>0.04541</td>\n",
       "      <td>2.85538</td>\n",
       "      <td>0.37142</td>\n",
       "      <td>1.0</td>\n",
       "      <td>False</td>\n",
       "      <td>False</td>\n",
       "      <td>0</td>\n",
       "      <td>train</td>\n",
       "      <td>plankton</td>\n",
       "    </tr>\n",
       "    <tr>\n",
       "      <th>1998899</th>\n",
       "      <td>IFCB107D20180412T021117P00781_Ditylum.png</td>\n",
       "      <td>Ditylum</td>\n",
       "      <td>Diatom</td>\n",
       "      <td>False</td>\n",
       "      <td>IFCB107D20180412T021117P00781</td>\n",
       "      <td>40.273</td>\n",
       "      <td>-68.571</td>\n",
       "      <td>2281.055363</td>\n",
       "      <td>32824.776104</td>\n",
       "      <td>3335.294118</td>\n",
       "      <td>...</td>\n",
       "      <td>0.57738</td>\n",
       "      <td>0.01702</td>\n",
       "      <td>3.33338</td>\n",
       "      <td>0.20818</td>\n",
       "      <td>1.0</td>\n",
       "      <td>False</td>\n",
       "      <td>False</td>\n",
       "      <td>0</td>\n",
       "      <td>train</td>\n",
       "      <td>plankton</td>\n",
       "    </tr>\n",
       "  </tbody>\n",
       "</table>\n",
       "<p>1998900 rows × 28 columns</p>\n",
       "</div>"
      ],
      "text/plain": [
       "                                             file_name    class_raw  \\\n",
       "0        IFCB107D20151104T112022P00433_Unicellular.png  Unicellular   \n",
       "1        IFCB107D20151104T114135P00194_Unicellular.png  Unicellular   \n",
       "2        IFCB107D20151104T114135P00246_Unicellular.png  Unicellular   \n",
       "3        IFCB107D20151104T124515P00027_Unicellular.png  Unicellular   \n",
       "4        IFCB107D20151105T174918P00074_Dinophyceae.png  Dinophyceae   \n",
       "...                                                ...          ...   \n",
       "1998895     IFCB107D20180412T010113P00020_Ceratium.png     Ceratium   \n",
       "1998896      IFCB107D20180412T012434P00137_Ditylum.png      Ditylum   \n",
       "1998897      IFCB107D20180412T012434P00348_Ditylum.png      Ditylum   \n",
       "1998898     IFCB107D20180412T021117P00330_Ceratium.png     Ceratium   \n",
       "1998899      IFCB107D20180412T021117P00781_Ditylum.png      Ditylum   \n",
       "\n",
       "             high_group  missing_high_group                             id  \\\n",
       "0                 Other               False  IFCB107D20151104T112022P00433   \n",
       "1                 Other               False  IFCB107D20151104T114135P00194   \n",
       "2                 Other               False  IFCB107D20151104T114135P00246   \n",
       "3                 Other               False  IFCB107D20151104T124515P00027   \n",
       "4        Dinoflagellate               False  IFCB107D20151105T174918P00074   \n",
       "...                 ...                 ...                            ...   \n",
       "1998895  Dinoflagellate               False  IFCB107D20180412T010113P00020   \n",
       "1998896          Diatom               False  IFCB107D20180412T012434P00137   \n",
       "1998897          Diatom               False  IFCB107D20180412T012434P00348   \n",
       "1998898  Dinoflagellate               False  IFCB107D20180412T021117P00330   \n",
       "1998899          Diatom               False  IFCB107D20180412T021117P00781   \n",
       "\n",
       "            lat    long         Area     Biovolume   ConvexArea  ...  ScatInt  \\\n",
       "0           NaN     NaN          NaN           NaN          NaN  ...      NaN   \n",
       "1           NaN     NaN          NaN           NaN          NaN  ...      NaN   \n",
       "2           NaN     NaN          NaN           NaN          NaN  ...      NaN   \n",
       "3           NaN     NaN          NaN           NaN          NaN  ...      NaN   \n",
       "4           NaN     NaN          NaN           NaN          NaN  ...      NaN   \n",
       "...         ...     ...          ...           ...          ...  ...      ...   \n",
       "1998895  40.348 -68.296  1507.093426  20001.839825  2501.816609  ...  1.09682   \n",
       "1998896  40.324 -68.387  4811.591696  91203.058213  6707.612457  ...  3.49742   \n",
       "1998897  40.324 -68.387  2446.626298  30443.529921  3317.560554  ...  2.46922   \n",
       "1998898  40.273 -68.571  1500.951557  19808.704267  2787.802768  ...  0.61201   \n",
       "1998899  40.273 -68.571  2281.055363  32824.776104  3335.294118  ...  0.57738   \n",
       "\n",
       "         FluoInt  ScatPeak  FluoPeak  NumberOfROIinTrigger  missing_meta_data  \\\n",
       "0            NaN       NaN       NaN                   NaN               True   \n",
       "1            NaN       NaN       NaN                   NaN               True   \n",
       "2            NaN       NaN       NaN                   NaN               True   \n",
       "3            NaN       NaN       NaN                   NaN               True   \n",
       "4            NaN       NaN       NaN                   NaN               True   \n",
       "...          ...       ...       ...                   ...                ...   \n",
       "1998895  0.36801   3.33541   1.37789                   1.0              False   \n",
       "1998896  1.77298   3.35693   3.31523                   1.0              False   \n",
       "1998897  0.90272   3.35900   2.21282                   1.0              False   \n",
       "1998898  0.04541   2.85538   0.37142                   1.0              False   \n",
       "1998899  0.01702   3.33338   0.20818                   1.0              False   \n",
       "\n",
       "         ESDA_exclude  excluded_1    set  binary_label  \n",
       "0               False           1  train      plankton  \n",
       "1               False           1  train      plankton  \n",
       "2               False           1  train      plankton  \n",
       "3               False           1  train      plankton  \n",
       "4               False           1  train      plankton  \n",
       "...               ...         ...    ...           ...  \n",
       "1998895         False           0  train      plankton  \n",
       "1998896         False           0  train      plankton  \n",
       "1998897         False           0  train      plankton  \n",
       "1998898         False           0  train      plankton  \n",
       "1998899         False           0  train      plankton  \n",
       "\n",
       "[1998900 rows x 28 columns]"
      ]
     },
     "execution_count": 25,
     "metadata": {},
     "output_type": "execute_result"
    }
   ],
   "source": [
    "inventory_df = pd.read_csv(csv_url)\n",
    "inventory_df"
   ]
  },
  {
   "cell_type": "code",
   "execution_count": 26,
   "id": "7392672b-ce39-4163-8c4a-788a4d003d2d",
   "metadata": {},
   "outputs": [],
   "source": [
    "# subsample the full dataframe for workflow testing\n",
    "#df_subsample = inventory_df.iloc[:10000,]\n",
    "df_subsample = inventory_df.iloc[:100000,]\n",
    "#df_subsample = inventory_df"
   ]
  },
  {
   "cell_type": "code",
   "execution_count": 27,
   "id": "a1f44a4a-e5c5-4987-be5a-150059c202df",
   "metadata": {},
   "outputs": [
    {
     "data": {
      "text/html": [
       "<div>\n",
       "<style scoped>\n",
       "    .dataframe tbody tr th:only-of-type {\n",
       "        vertical-align: middle;\n",
       "    }\n",
       "\n",
       "    .dataframe tbody tr th {\n",
       "        vertical-align: top;\n",
       "    }\n",
       "\n",
       "    .dataframe thead th {\n",
       "        text-align: right;\n",
       "    }\n",
       "</style>\n",
       "<table border=\"1\" class=\"dataframe\">\n",
       "  <thead>\n",
       "    <tr style=\"text-align: right;\">\n",
       "      <th></th>\n",
       "      <th>file_name</th>\n",
       "      <th>class_raw</th>\n",
       "      <th>high_group</th>\n",
       "      <th>missing_high_group</th>\n",
       "      <th>id</th>\n",
       "      <th>lat</th>\n",
       "      <th>long</th>\n",
       "      <th>Area</th>\n",
       "      <th>Biovolume</th>\n",
       "      <th>ConvexArea</th>\n",
       "      <th>...</th>\n",
       "      <th>ScatInt</th>\n",
       "      <th>FluoInt</th>\n",
       "      <th>ScatPeak</th>\n",
       "      <th>FluoPeak</th>\n",
       "      <th>NumberOfROIinTrigger</th>\n",
       "      <th>missing_meta_data</th>\n",
       "      <th>ESDA_exclude</th>\n",
       "      <th>excluded_1</th>\n",
       "      <th>set</th>\n",
       "      <th>binary_label</th>\n",
       "    </tr>\n",
       "  </thead>\n",
       "  <tbody>\n",
       "    <tr>\n",
       "      <th>0</th>\n",
       "      <td>IFCB107D20151104T112022P00433_Unicellular.png</td>\n",
       "      <td>Unicellular</td>\n",
       "      <td>Other</td>\n",
       "      <td>False</td>\n",
       "      <td>IFCB107D20151104T112022P00433</td>\n",
       "      <td>NaN</td>\n",
       "      <td>NaN</td>\n",
       "      <td>NaN</td>\n",
       "      <td>NaN</td>\n",
       "      <td>NaN</td>\n",
       "      <td>...</td>\n",
       "      <td>NaN</td>\n",
       "      <td>NaN</td>\n",
       "      <td>NaN</td>\n",
       "      <td>NaN</td>\n",
       "      <td>NaN</td>\n",
       "      <td>True</td>\n",
       "      <td>False</td>\n",
       "      <td>1</td>\n",
       "      <td>train</td>\n",
       "      <td>plankton</td>\n",
       "    </tr>\n",
       "    <tr>\n",
       "      <th>1</th>\n",
       "      <td>IFCB107D20151104T114135P00194_Unicellular.png</td>\n",
       "      <td>Unicellular</td>\n",
       "      <td>Other</td>\n",
       "      <td>False</td>\n",
       "      <td>IFCB107D20151104T114135P00194</td>\n",
       "      <td>NaN</td>\n",
       "      <td>NaN</td>\n",
       "      <td>NaN</td>\n",
       "      <td>NaN</td>\n",
       "      <td>NaN</td>\n",
       "      <td>...</td>\n",
       "      <td>NaN</td>\n",
       "      <td>NaN</td>\n",
       "      <td>NaN</td>\n",
       "      <td>NaN</td>\n",
       "      <td>NaN</td>\n",
       "      <td>True</td>\n",
       "      <td>False</td>\n",
       "      <td>1</td>\n",
       "      <td>train</td>\n",
       "      <td>plankton</td>\n",
       "    </tr>\n",
       "    <tr>\n",
       "      <th>2</th>\n",
       "      <td>IFCB107D20151104T114135P00246_Unicellular.png</td>\n",
       "      <td>Unicellular</td>\n",
       "      <td>Other</td>\n",
       "      <td>False</td>\n",
       "      <td>IFCB107D20151104T114135P00246</td>\n",
       "      <td>NaN</td>\n",
       "      <td>NaN</td>\n",
       "      <td>NaN</td>\n",
       "      <td>NaN</td>\n",
       "      <td>NaN</td>\n",
       "      <td>...</td>\n",
       "      <td>NaN</td>\n",
       "      <td>NaN</td>\n",
       "      <td>NaN</td>\n",
       "      <td>NaN</td>\n",
       "      <td>NaN</td>\n",
       "      <td>True</td>\n",
       "      <td>False</td>\n",
       "      <td>1</td>\n",
       "      <td>train</td>\n",
       "      <td>plankton</td>\n",
       "    </tr>\n",
       "    <tr>\n",
       "      <th>3</th>\n",
       "      <td>IFCB107D20151104T124515P00027_Unicellular.png</td>\n",
       "      <td>Unicellular</td>\n",
       "      <td>Other</td>\n",
       "      <td>False</td>\n",
       "      <td>IFCB107D20151104T124515P00027</td>\n",
       "      <td>NaN</td>\n",
       "      <td>NaN</td>\n",
       "      <td>NaN</td>\n",
       "      <td>NaN</td>\n",
       "      <td>NaN</td>\n",
       "      <td>...</td>\n",
       "      <td>NaN</td>\n",
       "      <td>NaN</td>\n",
       "      <td>NaN</td>\n",
       "      <td>NaN</td>\n",
       "      <td>NaN</td>\n",
       "      <td>True</td>\n",
       "      <td>False</td>\n",
       "      <td>1</td>\n",
       "      <td>train</td>\n",
       "      <td>plankton</td>\n",
       "    </tr>\n",
       "    <tr>\n",
       "      <th>4</th>\n",
       "      <td>IFCB107D20151105T174918P00074_Dinophyceae.png</td>\n",
       "      <td>Dinophyceae</td>\n",
       "      <td>Dinoflagellate</td>\n",
       "      <td>False</td>\n",
       "      <td>IFCB107D20151105T174918P00074</td>\n",
       "      <td>NaN</td>\n",
       "      <td>NaN</td>\n",
       "      <td>NaN</td>\n",
       "      <td>NaN</td>\n",
       "      <td>NaN</td>\n",
       "      <td>...</td>\n",
       "      <td>NaN</td>\n",
       "      <td>NaN</td>\n",
       "      <td>NaN</td>\n",
       "      <td>NaN</td>\n",
       "      <td>NaN</td>\n",
       "      <td>True</td>\n",
       "      <td>False</td>\n",
       "      <td>1</td>\n",
       "      <td>train</td>\n",
       "      <td>plankton</td>\n",
       "    </tr>\n",
       "    <tr>\n",
       "      <th>...</th>\n",
       "      <td>...</td>\n",
       "      <td>...</td>\n",
       "      <td>...</td>\n",
       "      <td>...</td>\n",
       "      <td>...</td>\n",
       "      <td>...</td>\n",
       "      <td>...</td>\n",
       "      <td>...</td>\n",
       "      <td>...</td>\n",
       "      <td>...</td>\n",
       "      <td>...</td>\n",
       "      <td>...</td>\n",
       "      <td>...</td>\n",
       "      <td>...</td>\n",
       "      <td>...</td>\n",
       "      <td>...</td>\n",
       "      <td>...</td>\n",
       "      <td>...</td>\n",
       "      <td>...</td>\n",
       "      <td>...</td>\n",
       "      <td>...</td>\n",
       "    </tr>\n",
       "    <tr>\n",
       "      <th>99995</th>\n",
       "      <td>IFCB107D20151127T083440P01994_Unicellular.png</td>\n",
       "      <td>Unicellular</td>\n",
       "      <td>Other</td>\n",
       "      <td>False</td>\n",
       "      <td>IFCB107D20151127T083440P01994</td>\n",
       "      <td>42.629</td>\n",
       "      <td>-49.9175</td>\n",
       "      <td>23.356401</td>\n",
       "      <td>74.954929</td>\n",
       "      <td>28.806228</td>\n",
       "      <td>...</td>\n",
       "      <td>0.00212</td>\n",
       "      <td>-0.00030</td>\n",
       "      <td>0.01078</td>\n",
       "      <td>0.01173</td>\n",
       "      <td>1.0</td>\n",
       "      <td>False</td>\n",
       "      <td>True</td>\n",
       "      <td>1</td>\n",
       "      <td>train</td>\n",
       "      <td>plankton</td>\n",
       "    </tr>\n",
       "    <tr>\n",
       "      <th>99996</th>\n",
       "      <td>IFCB107D20151127T083440P02110_Unicellular.png</td>\n",
       "      <td>Unicellular</td>\n",
       "      <td>Other</td>\n",
       "      <td>False</td>\n",
       "      <td>IFCB107D20151127T083440P02110</td>\n",
       "      <td>42.629</td>\n",
       "      <td>-49.9175</td>\n",
       "      <td>26.730104</td>\n",
       "      <td>84.466671</td>\n",
       "      <td>29.584775</td>\n",
       "      <td>...</td>\n",
       "      <td>0.00219</td>\n",
       "      <td>0.00257</td>\n",
       "      <td>0.01091</td>\n",
       "      <td>0.10722</td>\n",
       "      <td>1.0</td>\n",
       "      <td>False</td>\n",
       "      <td>True</td>\n",
       "      <td>1</td>\n",
       "      <td>train</td>\n",
       "      <td>plankton</td>\n",
       "    </tr>\n",
       "    <tr>\n",
       "      <th>99997</th>\n",
       "      <td>IFCB107D20151127T083440P02176_Unicellular.png</td>\n",
       "      <td>Unicellular</td>\n",
       "      <td>Other</td>\n",
       "      <td>False</td>\n",
       "      <td>IFCB107D20151127T083440P02176</td>\n",
       "      <td>42.629</td>\n",
       "      <td>-49.9175</td>\n",
       "      <td>28.460208</td>\n",
       "      <td>71.208871</td>\n",
       "      <td>39.359862</td>\n",
       "      <td>...</td>\n",
       "      <td>0.00240</td>\n",
       "      <td>0.00321</td>\n",
       "      <td>0.01092</td>\n",
       "      <td>0.11352</td>\n",
       "      <td>1.0</td>\n",
       "      <td>False</td>\n",
       "      <td>True</td>\n",
       "      <td>1</td>\n",
       "      <td>train</td>\n",
       "      <td>plankton</td>\n",
       "    </tr>\n",
       "    <tr>\n",
       "      <th>99998</th>\n",
       "      <td>IFCB107D20151127T083440P02196_Unicellular.png</td>\n",
       "      <td>Unicellular</td>\n",
       "      <td>Other</td>\n",
       "      <td>False</td>\n",
       "      <td>IFCB107D20151127T083440P02196</td>\n",
       "      <td>42.629</td>\n",
       "      <td>-49.9175</td>\n",
       "      <td>23.788927</td>\n",
       "      <td>67.241625</td>\n",
       "      <td>27.681661</td>\n",
       "      <td>...</td>\n",
       "      <td>0.00226</td>\n",
       "      <td>0.00261</td>\n",
       "      <td>0.01094</td>\n",
       "      <td>0.13136</td>\n",
       "      <td>1.0</td>\n",
       "      <td>False</td>\n",
       "      <td>True</td>\n",
       "      <td>1</td>\n",
       "      <td>train</td>\n",
       "      <td>plankton</td>\n",
       "    </tr>\n",
       "    <tr>\n",
       "      <th>99999</th>\n",
       "      <td>IFCB107D20151127T083440P02259_Unicellular.png</td>\n",
       "      <td>Unicellular</td>\n",
       "      <td>Other</td>\n",
       "      <td>False</td>\n",
       "      <td>IFCB107D20151127T083440P02259</td>\n",
       "      <td>42.629</td>\n",
       "      <td>-49.9175</td>\n",
       "      <td>27.249135</td>\n",
       "      <td>97.535326</td>\n",
       "      <td>33.996540</td>\n",
       "      <td>...</td>\n",
       "      <td>0.00258</td>\n",
       "      <td>0.00263</td>\n",
       "      <td>0.01092</td>\n",
       "      <td>0.10724</td>\n",
       "      <td>1.0</td>\n",
       "      <td>False</td>\n",
       "      <td>True</td>\n",
       "      <td>1</td>\n",
       "      <td>train</td>\n",
       "      <td>plankton</td>\n",
       "    </tr>\n",
       "  </tbody>\n",
       "</table>\n",
       "<p>100000 rows × 28 columns</p>\n",
       "</div>"
      ],
      "text/plain": [
       "                                           file_name    class_raw  \\\n",
       "0      IFCB107D20151104T112022P00433_Unicellular.png  Unicellular   \n",
       "1      IFCB107D20151104T114135P00194_Unicellular.png  Unicellular   \n",
       "2      IFCB107D20151104T114135P00246_Unicellular.png  Unicellular   \n",
       "3      IFCB107D20151104T124515P00027_Unicellular.png  Unicellular   \n",
       "4      IFCB107D20151105T174918P00074_Dinophyceae.png  Dinophyceae   \n",
       "...                                              ...          ...   \n",
       "99995  IFCB107D20151127T083440P01994_Unicellular.png  Unicellular   \n",
       "99996  IFCB107D20151127T083440P02110_Unicellular.png  Unicellular   \n",
       "99997  IFCB107D20151127T083440P02176_Unicellular.png  Unicellular   \n",
       "99998  IFCB107D20151127T083440P02196_Unicellular.png  Unicellular   \n",
       "99999  IFCB107D20151127T083440P02259_Unicellular.png  Unicellular   \n",
       "\n",
       "           high_group  missing_high_group                             id  \\\n",
       "0               Other               False  IFCB107D20151104T112022P00433   \n",
       "1               Other               False  IFCB107D20151104T114135P00194   \n",
       "2               Other               False  IFCB107D20151104T114135P00246   \n",
       "3               Other               False  IFCB107D20151104T124515P00027   \n",
       "4      Dinoflagellate               False  IFCB107D20151105T174918P00074   \n",
       "...               ...                 ...                            ...   \n",
       "99995           Other               False  IFCB107D20151127T083440P01994   \n",
       "99996           Other               False  IFCB107D20151127T083440P02110   \n",
       "99997           Other               False  IFCB107D20151127T083440P02176   \n",
       "99998           Other               False  IFCB107D20151127T083440P02196   \n",
       "99999           Other               False  IFCB107D20151127T083440P02259   \n",
       "\n",
       "          lat     long       Area  Biovolume  ConvexArea  ...  ScatInt  \\\n",
       "0         NaN      NaN        NaN        NaN         NaN  ...      NaN   \n",
       "1         NaN      NaN        NaN        NaN         NaN  ...      NaN   \n",
       "2         NaN      NaN        NaN        NaN         NaN  ...      NaN   \n",
       "3         NaN      NaN        NaN        NaN         NaN  ...      NaN   \n",
       "4         NaN      NaN        NaN        NaN         NaN  ...      NaN   \n",
       "...       ...      ...        ...        ...         ...  ...      ...   \n",
       "99995  42.629 -49.9175  23.356401  74.954929   28.806228  ...  0.00212   \n",
       "99996  42.629 -49.9175  26.730104  84.466671   29.584775  ...  0.00219   \n",
       "99997  42.629 -49.9175  28.460208  71.208871   39.359862  ...  0.00240   \n",
       "99998  42.629 -49.9175  23.788927  67.241625   27.681661  ...  0.00226   \n",
       "99999  42.629 -49.9175  27.249135  97.535326   33.996540  ...  0.00258   \n",
       "\n",
       "       FluoInt  ScatPeak  FluoPeak  NumberOfROIinTrigger  missing_meta_data  \\\n",
       "0          NaN       NaN       NaN                   NaN               True   \n",
       "1          NaN       NaN       NaN                   NaN               True   \n",
       "2          NaN       NaN       NaN                   NaN               True   \n",
       "3          NaN       NaN       NaN                   NaN               True   \n",
       "4          NaN       NaN       NaN                   NaN               True   \n",
       "...        ...       ...       ...                   ...                ...   \n",
       "99995 -0.00030   0.01078   0.01173                   1.0              False   \n",
       "99996  0.00257   0.01091   0.10722                   1.0              False   \n",
       "99997  0.00321   0.01092   0.11352                   1.0              False   \n",
       "99998  0.00261   0.01094   0.13136                   1.0              False   \n",
       "99999  0.00263   0.01092   0.10724                   1.0              False   \n",
       "\n",
       "       ESDA_exclude  excluded_1    set  binary_label  \n",
       "0             False           1  train      plankton  \n",
       "1             False           1  train      plankton  \n",
       "2             False           1  train      plankton  \n",
       "3             False           1  train      plankton  \n",
       "4             False           1  train      plankton  \n",
       "...             ...         ...    ...           ...  \n",
       "99995          True           1  train      plankton  \n",
       "99996          True           1  train      plankton  \n",
       "99997          True           1  train      plankton  \n",
       "99998          True           1  train      plankton  \n",
       "99999          True           1  train      plankton  \n",
       "\n",
       "[100000 rows x 28 columns]"
      ]
     },
     "execution_count": 27,
     "metadata": {},
     "output_type": "execute_result"
    }
   ],
   "source": [
    "df_subsample"
   ]
  },
  {
   "cell_type": "markdown",
   "id": "65bccf46-eee8-4c86-ac6f-16a24b61a085",
   "metadata": {
    "tags": []
   },
   "source": [
    "## create png_path column and 3-column dataframe"
   ]
  },
  {
   "cell_type": "code",
   "execution_count": 28,
   "id": "1323919c-ae72-4a45-8543-1fda6cae3870",
   "metadata": {},
   "outputs": [
    {
     "name": "stderr",
     "output_type": "stream",
     "text": [
      "/tmp/ipykernel_87291/1727142688.py:2: SettingWithCopyWarning: \n",
      "A value is trying to be set on a copy of a slice from a DataFrame.\n",
      "Try using .loc[row_indexer,col_indexer] = value instead\n",
      "\n",
      "See the caveats in the documentation: https://pandas.pydata.org/pandas-docs/stable/user_guide/indexing.html#returning-a-view-versus-a-copy\n",
      "  df_subsample['png_path'] = df_subsample['id'].apply(lambda row : du.buildPNGsName(row))\n"
     ]
    }
   ],
   "source": [
    "# add a column of the png path to the df dataframe\n",
    "df_subsample['png_path'] = df_subsample['id'].apply(lambda row : du.buildPNGsName(row))"
   ]
  },
  {
   "cell_type": "code",
   "execution_count": 29,
   "id": "a92031db-ca8b-4125-82e1-5d496a6fb869",
   "metadata": {},
   "outputs": [],
   "source": [
    "# create a dataframe with just the columns of png_path and high_group\n",
    "df_files_labels = df_subsample[['png_path', 'high_group']]"
   ]
  },
  {
   "cell_type": "code",
   "execution_count": 30,
   "id": "a98d1341-1412-4fa4-8004-06f73997b991",
   "metadata": {},
   "outputs": [
    {
     "name": "stderr",
     "output_type": "stream",
     "text": [
      "/tmp/ipykernel_87291/1825214936.py:2: SettingWithCopyWarning: \n",
      "A value is trying to be set on a copy of a slice from a DataFrame.\n",
      "Try using .loc[row_indexer,col_indexer] = value instead\n",
      "\n",
      "See the caveats in the documentation: https://pandas.pydata.org/pandas-docs/stable/user_guide/indexing.html#returning-a-view-versus-a-copy\n",
      "  df_files_labels['full_path'] = df_files_labels['png_path'].apply(lambda row : os.path.join(url_prefix,'NAAMES_ml', row))\n"
     ]
    }
   ],
   "source": [
    "# add a column called full_path \n",
    "df_files_labels['full_path'] = df_files_labels['png_path'].apply(lambda row : os.path.join(url_prefix,'NAAMES_ml', row))"
   ]
  },
  {
   "cell_type": "code",
   "execution_count": 31,
   "id": "bbe43bc1-4288-412f-a3bb-445d3baa2d68",
   "metadata": {},
   "outputs": [],
   "source": [
    "# THIS IS A TEST FOR SPEED OF GENERATOR ON LOCAL FILES VS BLOB\n",
    "# add a column called full_path\n",
    "#df_files_labels['full_path'] = df_files_labels['png_path'].apply(lambda row : os.path.join('..', row))"
   ]
  },
  {
   "cell_type": "code",
   "execution_count": 32,
   "id": "a3b00883-b18c-4a2a-b4e1-5213bf64f5ba",
   "metadata": {},
   "outputs": [
    {
     "data": {
      "text/html": [
       "<div>\n",
       "<style scoped>\n",
       "    .dataframe tbody tr th:only-of-type {\n",
       "        vertical-align: middle;\n",
       "    }\n",
       "\n",
       "    .dataframe tbody tr th {\n",
       "        vertical-align: top;\n",
       "    }\n",
       "\n",
       "    .dataframe thead th {\n",
       "        text-align: right;\n",
       "    }\n",
       "</style>\n",
       "<table border=\"1\" class=\"dataframe\">\n",
       "  <thead>\n",
       "    <tr style=\"text-align: right;\">\n",
       "      <th></th>\n",
       "      <th>png_path</th>\n",
       "      <th>high_group</th>\n",
       "      <th>full_path</th>\n",
       "    </tr>\n",
       "  </thead>\n",
       "  <tbody>\n",
       "    <tr>\n",
       "      <th>0</th>\n",
       "      <td>D20151104T112022_IFCB107/IFCB107D20151104T1120...</td>\n",
       "      <td>Other</td>\n",
       "      <td>https://ifcbwesteurope.blob.core.windows.net/n...</td>\n",
       "    </tr>\n",
       "    <tr>\n",
       "      <th>1</th>\n",
       "      <td>D20151104T114135_IFCB107/IFCB107D20151104T1141...</td>\n",
       "      <td>Other</td>\n",
       "      <td>https://ifcbwesteurope.blob.core.windows.net/n...</td>\n",
       "    </tr>\n",
       "    <tr>\n",
       "      <th>2</th>\n",
       "      <td>D20151104T114135_IFCB107/IFCB107D20151104T1141...</td>\n",
       "      <td>Other</td>\n",
       "      <td>https://ifcbwesteurope.blob.core.windows.net/n...</td>\n",
       "    </tr>\n",
       "    <tr>\n",
       "      <th>3</th>\n",
       "      <td>D20151104T124515_IFCB107/IFCB107D20151104T1245...</td>\n",
       "      <td>Other</td>\n",
       "      <td>https://ifcbwesteurope.blob.core.windows.net/n...</td>\n",
       "    </tr>\n",
       "    <tr>\n",
       "      <th>4</th>\n",
       "      <td>D20151105T174918_IFCB107/IFCB107D20151105T1749...</td>\n",
       "      <td>Dinoflagellate</td>\n",
       "      <td>https://ifcbwesteurope.blob.core.windows.net/n...</td>\n",
       "    </tr>\n",
       "    <tr>\n",
       "      <th>...</th>\n",
       "      <td>...</td>\n",
       "      <td>...</td>\n",
       "      <td>...</td>\n",
       "    </tr>\n",
       "    <tr>\n",
       "      <th>99995</th>\n",
       "      <td>D20151127T083440_IFCB107/IFCB107D20151127T0834...</td>\n",
       "      <td>Other</td>\n",
       "      <td>https://ifcbwesteurope.blob.core.windows.net/n...</td>\n",
       "    </tr>\n",
       "    <tr>\n",
       "      <th>99996</th>\n",
       "      <td>D20151127T083440_IFCB107/IFCB107D20151127T0834...</td>\n",
       "      <td>Other</td>\n",
       "      <td>https://ifcbwesteurope.blob.core.windows.net/n...</td>\n",
       "    </tr>\n",
       "    <tr>\n",
       "      <th>99997</th>\n",
       "      <td>D20151127T083440_IFCB107/IFCB107D20151127T0834...</td>\n",
       "      <td>Other</td>\n",
       "      <td>https://ifcbwesteurope.blob.core.windows.net/n...</td>\n",
       "    </tr>\n",
       "    <tr>\n",
       "      <th>99998</th>\n",
       "      <td>D20151127T083440_IFCB107/IFCB107D20151127T0834...</td>\n",
       "      <td>Other</td>\n",
       "      <td>https://ifcbwesteurope.blob.core.windows.net/n...</td>\n",
       "    </tr>\n",
       "    <tr>\n",
       "      <th>99999</th>\n",
       "      <td>D20151127T083440_IFCB107/IFCB107D20151127T0834...</td>\n",
       "      <td>Other</td>\n",
       "      <td>https://ifcbwesteurope.blob.core.windows.net/n...</td>\n",
       "    </tr>\n",
       "  </tbody>\n",
       "</table>\n",
       "<p>100000 rows × 3 columns</p>\n",
       "</div>"
      ],
      "text/plain": [
       "                                                png_path      high_group  \\\n",
       "0      D20151104T112022_IFCB107/IFCB107D20151104T1120...           Other   \n",
       "1      D20151104T114135_IFCB107/IFCB107D20151104T1141...           Other   \n",
       "2      D20151104T114135_IFCB107/IFCB107D20151104T1141...           Other   \n",
       "3      D20151104T124515_IFCB107/IFCB107D20151104T1245...           Other   \n",
       "4      D20151105T174918_IFCB107/IFCB107D20151105T1749...  Dinoflagellate   \n",
       "...                                                  ...             ...   \n",
       "99995  D20151127T083440_IFCB107/IFCB107D20151127T0834...           Other   \n",
       "99996  D20151127T083440_IFCB107/IFCB107D20151127T0834...           Other   \n",
       "99997  D20151127T083440_IFCB107/IFCB107D20151127T0834...           Other   \n",
       "99998  D20151127T083440_IFCB107/IFCB107D20151127T0834...           Other   \n",
       "99999  D20151127T083440_IFCB107/IFCB107D20151127T0834...           Other   \n",
       "\n",
       "                                               full_path  \n",
       "0      https://ifcbwesteurope.blob.core.windows.net/n...  \n",
       "1      https://ifcbwesteurope.blob.core.windows.net/n...  \n",
       "2      https://ifcbwesteurope.blob.core.windows.net/n...  \n",
       "3      https://ifcbwesteurope.blob.core.windows.net/n...  \n",
       "4      https://ifcbwesteurope.blob.core.windows.net/n...  \n",
       "...                                                  ...  \n",
       "99995  https://ifcbwesteurope.blob.core.windows.net/n...  \n",
       "99996  https://ifcbwesteurope.blob.core.windows.net/n...  \n",
       "99997  https://ifcbwesteurope.blob.core.windows.net/n...  \n",
       "99998  https://ifcbwesteurope.blob.core.windows.net/n...  \n",
       "99999  https://ifcbwesteurope.blob.core.windows.net/n...  \n",
       "\n",
       "[100000 rows x 3 columns]"
      ]
     },
     "execution_count": 32,
     "metadata": {},
     "output_type": "execute_result"
    }
   ],
   "source": [
    "df_files_labels"
   ]
  },
  {
   "cell_type": "code",
   "execution_count": 33,
   "id": "d3e650d6-fba3-49ab-b178-e3debe8098ea",
   "metadata": {},
   "outputs": [],
   "source": [
    "#labels"
   ]
  },
  {
   "cell_type": "code",
   "execution_count": 34,
   "id": "62292d0c-823e-47bf-b172-ce6bc84a6d7e",
   "metadata": {},
   "outputs": [
    {
     "data": {
      "text/plain": [
       "'https://ifcbwesteurope.blob.core.windows.net/naames/NAAMES_ml/D20151104T112022_IFCB107/IFCB107D20151104T112022P00433.png'"
      ]
     },
     "execution_count": 34,
     "metadata": {},
     "output_type": "execute_result"
    }
   ],
   "source": [
    "df_files_labels.full_path.iloc[0]"
   ]
  },
  {
   "cell_type": "code",
   "execution_count": 35,
   "id": "e22a0298-6858-4894-9008-16d27c3d27c5",
   "metadata": {},
   "outputs": [],
   "source": [
    "# -- \n",
    "# one hot encode the labels \n",
    "\n",
    "lb = LabelBinarizer()\n",
    "labels = set(df_files_labels.high_group)\n",
    "lb.fit(list(labels))\n",
    "#batch_size = 100\n",
    "batch_size = 10"
   ]
  },
  {
   "cell_type": "code",
   "execution_count": 36,
   "id": "b24e7841-be13-4fb4-9374-069b841a89e7",
   "metadata": {},
   "outputs": [
    {
     "name": "stdout",
     "output_type": "stream",
     "text": [
      "LICENSE    \u001b[0m\u001b[01;34m__pycache__\u001b[0m/   ml_models.py  requirements.txt\n",
      "README.md  data_utils.py  \u001b[01;34mnotebooks\u001b[0m/\n"
     ]
    }
   ],
   "source": [
    "ls .."
   ]
  },
  {
   "cell_type": "code",
   "execution_count": 37,
   "id": "bb0201d6-70be-40e1-a6ba-aa2654a6b644",
   "metadata": {},
   "outputs": [
    {
     "data": {
      "text/plain": [
       "Array([[199, 198, 197, ..., 198, 198, 198],\n",
       "       [197, 199, 195, ..., 198, 198, 200],\n",
       "       [200, 200, 203, ..., 199, 194, 196],\n",
       "       ...,\n",
       "       [203, 199, 204, ..., 200, 195, 203],\n",
       "       [203, 200, 201, ..., 197, 198, 198],\n",
       "       [201, 201, 200, ..., 199, 199, 200]], dtype=uint8)"
      ]
     },
     "execution_count": 37,
     "metadata": {},
     "output_type": "execute_result"
    }
   ],
   "source": [
    "imageio.imread(df_files_labels.full_path.iloc[0])"
   ]
  },
  {
   "cell_type": "code",
   "execution_count": 38,
   "id": "57b8a89b-2037-4bfa-8ea4-002a7e38bec4",
   "metadata": {},
   "outputs": [],
   "source": [
    "# -- \n",
    "# instantiate generators \n",
    "\n",
    "#imageGen = du.image_generator(df_files_labels, batch_size, lb)"
   ]
  },
  {
   "cell_type": "code",
   "execution_count": 39,
   "id": "074a907a-87d9-4c10-9b6f-a81e5a323ee4",
   "metadata": {},
   "outputs": [],
   "source": [
    "# split the data for testing and training\n",
    "train, validation = train_test_split(df_files_labels, test_size=0.2)"
   ]
  },
  {
   "cell_type": "code",
   "execution_count": 63,
   "id": "f226fdbd-e1b8-4407-b366-63134c39926b",
   "metadata": {},
   "outputs": [],
   "source": [
    "# instantiate generators \n",
    "\n",
    "trainGen = du.image_generator(train, batch_size, lb)\n",
    "validationGen = du.image_generator(validation, batch_size, lb)"
   ]
  },
  {
   "cell_type": "code",
   "execution_count": 64,
   "id": "f09c9399-7f8d-43bb-8025-7c00d88a41ad",
   "metadata": {},
   "outputs": [
    {
     "data": {
      "text/plain": [
       "Array([[197, 201, 199, ..., 197, 198, 201],\n",
       "       [199, 199, 198, ..., 196, 194, 198],\n",
       "       [202, 199, 195, ..., 198, 200, 196],\n",
       "       ...,\n",
       "       [202, 199, 196, ..., 202, 204, 196],\n",
       "       [201, 201, 203, ..., 203, 199, 197],\n",
       "       [200, 201, 200, ..., 198, 196, 202]], dtype=uint8)"
      ]
     },
     "execution_count": 64,
     "metadata": {},
     "output_type": "execute_result"
    }
   ],
   "source": [
    "imageio.imread('https://ifcb.blob.core.windows.net/naames/NAAMES_ml/D20151107T120416_IFCB107/IFCB107D20151107T120416P00874.png')"
   ]
  },
  {
   "cell_type": "code",
   "execution_count": 65,
   "id": "7974e7ff-bb3c-4a08-8a92-23e3caf116bc",
   "metadata": {},
   "outputs": [
    {
     "data": {
      "text/plain": [
       "Array([[164, 166, 167, ..., 167, 165, 168],\n",
       "       [168, 166, 170, ..., 165, 166, 165],\n",
       "       [169, 165, 170, ..., 161, 164, 167],\n",
       "       ...,\n",
       "       [166, 169, 168, ..., 167, 170, 171],\n",
       "       [171, 172, 168, ..., 167, 168, 168],\n",
       "       [167, 173, 165, ..., 164, 170, 165]], dtype=uint8)"
      ]
     },
     "execution_count": 65,
     "metadata": {},
     "output_type": "execute_result"
    }
   ],
   "source": [
    "imageio.imread('https://ifcbwesteurope.blob.core.windows.net/naames/NAAMES_ml/D20151114T170539_IFCB107/IFCB107D20151114T170539P01037.png')"
   ]
  },
  {
   "cell_type": "code",
   "execution_count": 42,
   "id": "b7da9829-031b-4cdc-864e-b8449a62bf78",
   "metadata": {},
   "outputs": [],
   "source": [
    "#%%time\n",
    "#output = next(imageGen)"
   ]
  },
  {
   "cell_type": "code",
   "execution_count": 43,
   "id": "76331247-1e7e-41b2-bbc6-1617c884d195",
   "metadata": {},
   "outputs": [],
   "source": [
    "#output[0].shape"
   ]
  },
  {
   "cell_type": "code",
   "execution_count": 44,
   "id": "be2bb31a-e3e8-4b60-bc33-8e4f5d63426e",
   "metadata": {},
   "outputs": [],
   "source": [
    "#output[1].shape"
   ]
  },
  {
   "cell_type": "code",
   "execution_count": 66,
   "id": "d80e2b79-08aa-4503-b679-e49896dbade3",
   "metadata": {},
   "outputs": [
    {
     "data": {
      "text/plain": [
       "(80000, 3)"
      ]
     },
     "execution_count": 66,
     "metadata": {},
     "output_type": "execute_result"
    }
   ],
   "source": [
    "train.shape"
   ]
  },
  {
   "cell_type": "code",
   "execution_count": null,
   "id": "206fae71-ec42-41c8-b06e-4b9999f1a800",
   "metadata": {},
   "outputs": [],
   "source": []
  },
  {
   "cell_type": "markdown",
   "id": "906000af-9881-47d5-a359-6768ef3d509e",
   "metadata": {
    "tags": []
   },
   "source": [
    "### define CNN model"
   ]
  },
  {
   "cell_type": "code",
   "execution_count": 46,
   "id": "8bdb35af-81e1-4cb8-a052-7d2834e970ff",
   "metadata": {},
   "outputs": [],
   "source": [
    "import ml_models"
   ]
  },
  {
   "cell_type": "code",
   "execution_count": 47,
   "id": "d0014d76-d6af-4dec-8d56-5933d3896279",
   "metadata": {},
   "outputs": [
    {
     "data": {
      "text/plain": [
       "<module 'ml_models' from '../ml_models.py'>"
      ]
     },
     "execution_count": 47,
     "metadata": {},
     "output_type": "execute_result"
    }
   ],
   "source": [
    "imp.reload(ml_models)"
   ]
  },
  {
   "cell_type": "code",
   "execution_count": 67,
   "id": "046b840b-73a5-489e-a10a-15e241481865",
   "metadata": {},
   "outputs": [
    {
     "data": {
      "text/plain": [
       "<function ml_models.create_cnn_model_A1(width, height, depth, filters=(32, 16, 64, 32, 128, 128, 64, 256, 256, 128), regress=False)>"
      ]
     },
     "execution_count": 67,
     "metadata": {},
     "output_type": "execute_result"
    }
   ],
   "source": [
    "ml_models.create_cnn_model_A1"
   ]
  },
  {
   "cell_type": "code",
   "execution_count": 68,
   "id": "198a1840-c1eb-4f35-adc8-64e1cc599cc0",
   "metadata": {},
   "outputs": [],
   "source": [
    "# define and compile cnn with function \n",
    "# should do layer by layer going forward for legibility\n",
    "\n",
    "cnn = ml_models.create_cnn_model_A1(128, 128, 1, regress=False)\n",
    "x = Dense(1000, activation=\"relu\")(cnn.output)\n",
    "x = Dropout(rate=0.1)(x)\n",
    "x = Dense(len(labels), activation=\"softmax\")(x)\n",
    "model = Model(inputs=cnn.input, outputs=x)\n",
    "model.compile(loss='categorical_crossentropy', optimizer='adam', metrics=['accuracy'])"
   ]
  },
  {
   "cell_type": "markdown",
   "id": "de03492b-7310-4059-b3c6-902e59950879",
   "metadata": {},
   "source": [
    "### train model"
   ]
  },
  {
   "cell_type": "code",
   "execution_count": 69,
   "id": "180a1fb0-bc05-4174-ba60-51a6cf93ed1e",
   "metadata": {},
   "outputs": [],
   "source": [
    "totalTrain = len(train)"
   ]
  },
  {
   "cell_type": "code",
   "execution_count": 70,
   "id": "6809be84-9026-4922-ab86-4c4d967a6405",
   "metadata": {},
   "outputs": [],
   "source": [
    "totalVal = len(validation)"
   ]
  },
  {
   "cell_type": "code",
   "execution_count": 71,
   "id": "576e4442-3e65-47f6-8965-155843317438",
   "metadata": {},
   "outputs": [
    {
     "data": {
      "text/plain": [
       "80000"
      ]
     },
     "execution_count": 71,
     "metadata": {},
     "output_type": "execute_result"
    }
   ],
   "source": [
    "totalTrain"
   ]
  },
  {
   "cell_type": "code",
   "execution_count": 72,
   "id": "7a4ca729-d83c-4aff-ba7e-77ceafb1f9d4",
   "metadata": {},
   "outputs": [],
   "source": [
    "import tensorflow as tf"
   ]
  },
  {
   "cell_type": "code",
   "execution_count": 73,
   "id": "d1f6449e-a16e-4eac-b549-35c9efe03d9a",
   "metadata": {},
   "outputs": [
    {
     "name": "stderr",
     "output_type": "stream",
     "text": [
      "2022-08-09 21:40:48.089961: I tensorflow/core/common_runtime/gpu/gpu_device.cc:1561] Found device 0 with properties: \n",
      "pciBusID: 0001:00:00.0 name: Tesla V100-PCIE-16GB computeCapability: 7.0\n",
      "coreClock: 1.38GHz coreCount: 80 deviceMemorySize: 15.78GiB deviceMemoryBandwidth: 836.37GiB/s\n",
      "2022-08-09 21:40:48.090066: I tensorflow/stream_executor/platform/default/dso_loader.cc:44] Successfully opened dynamic library libcudart.so.10.1\n",
      "2022-08-09 21:40:48.090091: I tensorflow/stream_executor/platform/default/dso_loader.cc:44] Successfully opened dynamic library libcublas.so.10\n",
      "2022-08-09 21:40:48.090112: I tensorflow/stream_executor/platform/default/dso_loader.cc:44] Successfully opened dynamic library libcufft.so.10\n",
      "2022-08-09 21:40:48.090131: I tensorflow/stream_executor/platform/default/dso_loader.cc:44] Successfully opened dynamic library libcurand.so.10\n",
      "2022-08-09 21:40:48.090150: I tensorflow/stream_executor/platform/default/dso_loader.cc:44] Successfully opened dynamic library libcusolver.so.10\n",
      "2022-08-09 21:40:48.090169: I tensorflow/stream_executor/platform/default/dso_loader.cc:44] Successfully opened dynamic library libcusparse.so.10\n",
      "2022-08-09 21:40:48.090293: W tensorflow/stream_executor/platform/default/dso_loader.cc:55] Could not load dynamic library 'libcudnn.so.7'; dlerror: libcudnn.so.7: cannot open shared object file: No such file or directory; LD_LIBRARY_PATH: /anaconda/envs/azureml_py38/lib/python3.8/site-packages/cv2/../../lib64:\n",
      "2022-08-09 21:40:48.090307: W tensorflow/core/common_runtime/gpu/gpu_device.cc:1598] Cannot dlopen some GPU libraries. Please make sure the missing libraries mentioned above are installed properly if you would like to use GPU. Follow the guide at https://www.tensorflow.org/install/gpu for how to download and setup the required libraries for your platform.\n",
      "Skipping registering GPU devices...\n",
      "2022-08-09 21:40:48.090324: I tensorflow/core/common_runtime/gpu/gpu_device.cc:1102] Device interconnect StreamExecutor with strength 1 edge matrix:\n",
      "2022-08-09 21:40:48.090331: I tensorflow/core/common_runtime/gpu/gpu_device.cc:1108]      0 \n",
      "2022-08-09 21:40:48.090336: I tensorflow/core/common_runtime/gpu/gpu_device.cc:1121] 0:   N \n"
     ]
    },
    {
     "data": {
      "text/plain": [
       "''"
      ]
     },
     "execution_count": 73,
     "metadata": {},
     "output_type": "execute_result"
    }
   ],
   "source": [
    "tf.test.gpu_device_name()"
   ]
  },
  {
   "cell_type": "code",
   "execution_count": 74,
   "id": "aa62c7c5-4dfe-4762-ad32-970758758874",
   "metadata": {},
   "outputs": [
    {
     "name": "stderr",
     "output_type": "stream",
     "text": [
      "2022-08-09 21:40:50.059359: I tensorflow/core/profiler/lib/profiler_session.cc:159] Profiler session started.\n",
      "2022-08-09 21:40:50.059433: E tensorflow/core/profiler/internal/gpu/cupti_tracer.cc:1408] function cupti_interface_->Subscribe( &subscriber_, (CUpti_CallbackFunc)ApiCallback, this)failed with error CUPTI could not be loaded or symbol could not be found.\n",
      "2022-08-09 21:40:50.059449: E tensorflow/core/profiler/internal/gpu/cupti_tracer.cc:1447] function cupti_interface_->ActivityRegisterCallbacks( AllocCuptiActivityBuffer, FreeCuptiActivityBuffer)failed with error CUPTI could not be loaded or symbol could not be found.\n",
      "2022-08-09 21:40:50.059467: E tensorflow/core/profiler/internal/gpu/cupti_tracer.cc:1430] function cupti_interface_->EnableCallback( 0 , subscriber_, CUPTI_CB_DOMAIN_DRIVER_API, cbid)failed with error CUPTI could not be loaded or symbol could not be found.\n"
     ]
    }
   ],
   "source": [
    "# When training with Keras's Model.fit(), adding the tf.keras.callbacks.\n",
    "# TensorBoard callback ensures that logs are created and stored. \n",
    "# Additionally, enable histogram computation every epoch with histogram_freq=1 (this is off by default)\n",
    "\n",
    "#Place the logs in a timestamped subdirectory to allow easy selection of different training runs.\n",
    "\n",
    "log_dir = \"logs/fit/\" + datetime.datetime.now().strftime(\"%Y%m%d-%H%M%S\")\n",
    "tensorboard_callback = tf.keras.callbacks.TensorBoard(log_dir=log_dir, histogram_freq=1)"
   ]
  },
  {
   "cell_type": "code",
   "execution_count": 75,
   "id": "f011e87f-4522-4272-8d84-2c67c6923d0b",
   "metadata": {
    "tags": []
   },
   "outputs": [
    {
     "name": "stdout",
     "output_type": "stream",
     "text": [
      "[INFO] training simple network...\n",
      "Epoch 1/10\n",
      "   1/8000 [..............................] - ETA: 0s - loss: 2.8548 - accuracy: 0.0000e+00"
     ]
    },
    {
     "name": "stderr",
     "output_type": "stream",
     "text": [
      "2022-08-09 21:40:56.802211: I tensorflow/core/profiler/lib/profiler_session.cc:159] Profiler session started.\n",
      "2022-08-09 21:40:56.802289: E tensorflow/core/profiler/internal/gpu/cupti_tracer.cc:1408] function cupti_interface_->Subscribe( &subscriber_, (CUpti_CallbackFunc)ApiCallback, this)failed with error CUPTI could not be loaded or symbol could not be found.\n",
      "2022-08-09 21:40:56.802342: E tensorflow/core/profiler/internal/gpu/cupti_tracer.cc:1447] function cupti_interface_->ActivityRegisterCallbacks( AllocCuptiActivityBuffer, FreeCuptiActivityBuffer)failed with error CUPTI could not be loaded or symbol could not be found.\n"
     ]
    },
    {
     "name": "stdout",
     "output_type": "stream",
     "text": [
      "   2/8000 [..............................] - ETA: 1:23:04 - loss: 1.8061 - accuracy: 0.4500"
     ]
    },
    {
     "name": "stderr",
     "output_type": "stream",
     "text": [
      "2022-08-09 21:40:57.942372: E tensorflow/core/profiler/internal/gpu/cupti_tracer.cc:1430] function cupti_interface_->EnableCallback( 0 , subscriber_, CUPTI_CB_DOMAIN_DRIVER_API, cbid)failed with error CUPTI could not be loaded or symbol could not be found.\n",
      "2022-08-09 21:40:57.943542: I tensorflow/core/profiler/internal/gpu/device_tracer.cc:216]  GpuTracer has collected 0 callback api events and 0 activity events.\n",
      "2022-08-09 21:40:57.947391: I tensorflow/core/profiler/rpc/client/save_profile.cc:168] Creating directory: logs/fit/20220809-214050/train/plugins/profile/2022_08_09_21_40_57\n",
      "2022-08-09 21:40:57.949486: I tensorflow/core/profiler/rpc/client/save_profile.cc:174] Dumped gzipped tool data for trace.json.gz to logs/fit/20220809-214050/train/plugins/profile/2022_08_09_21_40_57/DataScienceVM.trace.json.gz\n",
      "2022-08-09 21:40:57.950884: I tensorflow/core/profiler/utils/event_span.cc:288] Generation of step-events took 0.001 ms\n",
      "\n",
      "2022-08-09 21:40:57.952757: I tensorflow/python/profiler/internal/profiler_wrapper.cc:87] Creating directory: logs/fit/20220809-214050/train/plugins/profile/2022_08_09_21_40_57Dumped tool data for overview_page.pb to logs/fit/20220809-214050/train/plugins/profile/2022_08_09_21_40_57/DataScienceVM.overview_page.pb\n",
      "Dumped tool data for input_pipeline.pb to logs/fit/20220809-214050/train/plugins/profile/2022_08_09_21_40_57/DataScienceVM.input_pipeline.pb\n",
      "Dumped tool data for tensorflow_stats.pb to logs/fit/20220809-214050/train/plugins/profile/2022_08_09_21_40_57/DataScienceVM.tensorflow_stats.pb\n",
      "Dumped tool data for kernel_stats.pb to logs/fit/20220809-214050/train/plugins/profile/2022_08_09_21_40_57/DataScienceVM.kernel_stats.pb\n",
      "\n"
     ]
    },
    {
     "name": "stdout",
     "output_type": "stream",
     "text": [
      "  91/8000 [..............................] - ETA: 1:37:20 - loss: 0.9715 - accuracy: 0.8055Failed file\n",
      "https://ifcbwesteurope.blob.core.windows.net/naames/NAAMES_ml/D20151107T153446_IFCB107/IFCB107D20151107T153446P00567.png\n",
      "2251/8000 [=======>......................] - ETA: 1:04:18 - loss: 0.6306 - accuracy: 0.8400Failed file\n",
      "https://ifcbwesteurope.blob.core.windows.net/naames/NAAMES_ml/D20151110T150315_IFCB107/IFCB107D20151110T150315P00444.png\n",
      "2840/8000 [=========>....................] - ETA: 56:33 - loss: 0.6151 - accuracy: 0.8414Failed file\n",
      "https://ifcbwesteurope.blob.core.windows.net/naames/NAAMES_ml/D20151112T181014_IFCB107/IFCB107D20151112T181014P00354.png\n",
      "3233/8000 [===========>..................] - ETA: 51:57 - loss: 0.5976 - accuracy: 0.8447Failed file\n",
      "https://ifcbwesteurope.blob.core.windows.net/naames/NAAMES_ml/D20151114T170539_IFCB107/IFCB107D20151114T170539P02382.png\n",
      "5108/8000 [==================>...........] - ETA: 31:03 - loss: 0.5460 - accuracy: 0.8547Failed file\n",
      "https://ifcbwesteurope.blob.core.windows.net/naames/NAAMES_ml/D20151114T174811_IFCB107/IFCB107D20151114T174811P01367.png\n",
      "6164/8000 [======================>.......] - ETA: 19:26 - loss: 0.5336 - accuracy: 0.8574Failed file\n",
      "https://ifcbwesteurope.blob.core.windows.net/naames/NAAMES_ml/D20151110T150315_IFCB107/IFCB107D20151110T150315P00390.png\n",
      "6784/8000 [========================>.....] - ETA: 12:44 - loss: 0.5272 - accuracy: 0.8584Failed file\n",
      "https://ifcbwesteurope.blob.core.windows.net/naames/NAAMES_ml/D20151109T113345_IFCB107/IFCB107D20151109T113345P00151.png\n",
      "7773/8000 [============================>.] - ETA: 2:22 - loss: 0.5144 - accuracy: 0.8613Failed file\n",
      "https://ifcbwesteurope.blob.core.windows.net/naames/NAAMES_ml/D20151114T181437_IFCB107/IFCB107D20151114T181437P00527.png\n",
      "8000/8000 [==============================] - ETA: 0s - loss: 0.5128 - accuracy: 0.8618Failed file\n",
      "https://ifcbwesteurope.blob.core.windows.net/naames/NAAMES_ml/D20151118T155740_IFCB107/IFCB107D20151118T155740P00029.png\n",
      "Failed file\n",
      "https://ifcbwesteurope.blob.core.windows.net/naames/NAAMES_ml/D20151118T192041_IFCB107/IFCB107D20151118T192041P00949.png\n",
      "Failed file\n",
      "https://ifcbwesteurope.blob.core.windows.net/naames/NAAMES_ml/D20151112T225703_IFCB107/IFCB107D20151112T225703P00719.png\n",
      "8000/8000 [==============================] - 6266s 783ms/step - loss: 0.5128 - accuracy: 0.8618 - val_loss: 0.4190 - val_accuracy: 0.8767\n",
      "Epoch 2/10\n",
      " 196/8000 [..............................] - ETA: 1:26:35 - loss: 0.4284 - accuracy: 0.8852Failed file\n",
      "https://ifcbwesteurope.blob.core.windows.net/naames/NAAMES_ml/D20151114T174811_IFCB107/IFCB107D20151114T174811P01367.png\n",
      " 588/8000 [=>............................] - ETA: 1:31:22 - loss: 0.4022 - accuracy: 0.8869Failed file\n",
      "https://ifcbwesteurope.blob.core.windows.net/naames/NAAMES_ml/D20151110T150315_IFCB107/IFCB107D20151110T150315P00390.png\n",
      "1949/8000 [======>.......................] - ETA: 1:13:53 - loss: 0.4015 - accuracy: 0.8878"
     ]
    },
    {
     "name": "stderr",
     "output_type": "stream",
     "text": [
      "Bad pipe message: %s [b\"a\\x82\\x18\\x04\\xb0\\xc8\\xebFo\\x1d\\xd8\\xba\\xaa\\xb3\\xc8'`2 \\xfa+\\x86RH\\x8f2m}\\xed\\r\\xef\\xda\\x07\\xcd\\x1a%\\xe7T\\x97\\xaal\\x8c\\x90&)l\\xa0\\xdd\\xd0\\x13\\xf0\\x00\\x08\\x13\\x02\\x13\\x03\\x13\\x01\\x00\\xff\\x01\\x00\\x00\\x8f\\x00\\x00\\x00\\x0e\\x00\\x0c\\x00\\x00\\t127.0.0.1\\x00\\x0b\\x00\\x04\\x03\\x00\\x01\\x02\\x00\\n\\x00\\x0c\\x00\\n\\x00\\x1d\\x00\\x17\\x00\\x1e\\x00\\x19\\x00\\x18\\x00#\\x00\\x00\\x00\\x16\\x00\\x00\\x00\"]\n",
      "Bad pipe message: %s [b'\\x00\\x00\\r\\x00\\x1e\\x00\\x1c\\x04\\x03\\x05\\x03\\x06\\x03\\x08\\x07\\x08\\x08\\x08\\t\\x08\\n\\x08']\n",
      "Bad pipe message: %s [b'\\x04\\x08\\x05\\x08\\x06\\x04\\x01\\x05\\x01\\x06']\n",
      "Bad pipe message: %s [b'']\n",
      "Bad pipe message: %s [b'\\x03\\x02\\x03\\x04\\x00-\\x00\\x02\\x01\\x01\\x003\\x00&\\x00$\\x00\\x1d\\x00 \\x14\\xb4;\\xcb\\x1f\\xd8\\xbc\\xf6\\x96@r\\x99h\\xe2\\x05o\\xd3\\xca~\\x13I0']\n",
      "Bad pipe message: %s [b's\\xb4 B\\x04!t\\xf00\\xe6B\\xdd\\x90\\x9dk\\xf3f\\xcd -B\\x87z\\xaf3\\xa6w\\xc0\\x1a\\xa4\\xa5\\xc0\\x94\\xfds{\\x144/\\xdb\\x82\\xfaH\\xc5\\x8c\\xccQ\\x19\\xd5&a\\x00\\x08\\x13\\x02\\x13\\x03\\x13\\x01\\x00\\xff\\x01\\x00\\x00\\x8f\\x00\\x00\\x00\\x0e\\x00\\x0c\\x00\\x00\\t127.', b'0.1\\x00\\x0b\\x00\\x04\\x03\\x00\\x01\\x02\\x00\\n\\x00\\x0c\\x00\\n\\x00\\x1d\\x00\\x17\\x00\\x1e\\x00\\x19\\x00\\x18\\x00#\\x00\\x00\\x00\\x16\\x00\\x00\\x00\\x17\\x00\\x00\\x00\\r\\x00\\x1e\\x00\\x1c\\x04\\x03']\n",
      "Bad pipe message: %s [b'\\x06\\x03\\x08\\x07', b'\\x08\\t\\x08\\n\\x08\\x0b\\x08']\n",
      "Bad pipe message: %s [b'\\x05\\x08\\x06']\n",
      "Bad pipe message: %s [b'\\x05\\x01\\x06', b'']\n",
      "Bad pipe message: %s [b'\\x03\\x02\\x03\\x04\\x00-\\x00\\x02\\x01\\x01\\x003\\x00&\\x00$\\x00\\x1d\\x00 5\\xfc\\x05\\xcen\\x92\\x7f\\xf15\\xdd\\x19\\xbe\\xf1\\xc6I\\xd87\\x9a\\x1a(\\x81T']\n",
      "Bad pipe message: %s [b'\\xe7]kfE\\x8e\\x08\\x9a\\x902+\\xc6\\xf3+;^\\x9e\\r\\x00\\x00|\\xc0,\\xc00\\x00\\xa3\\x00\\x9f\\xcc\\xa9']\n",
      "Bad pipe message: %s [b\"\\xcc\\xaa\\xc0\\xaf\\xc0\\xad\\xc0\\xa3\\xc0\\x9f\\xc0]\\xc0a\\xc0W\\xc0S\\xc0+\\xc0/\\x00\\xa2\\x00\\x9e\\xc0\\xae\\xc0\\xac\\xc0\\xa2\\xc0\\x9e\\xc0\\\\\\xc0`\\xc0V\\xc0R\\xc0$\\xc0(\\x00k\\x00j\\xc0#\\xc0'\\x00g\\x00@\\xc0\\n\\xc0\\x14\\x009\\x008\\xc0\\t\\xc0\\x13\\x003\\x002\\x00\\x9d\\xc0\\xa1\\xc0\\x9d\\xc0Q\\x00\\x9c\\xc0\\xa0\\xc0\\x9c\\xc0P\\x00=\\x00<\\x005\\x00/\\x00\\x9a\\x00\\x99\\xc0\\x07\\xc0\\x11\\x00\\x96\\x00\\x05\\x00\\xff\\x01\\x00\\x00j\\x00\\x00\\x00\\x0e\\x00\\x0c\\x00\\x00\\t127.0.0.1\\x00\\x0b\\x00\\x04\\x03\\x00\\x01\\x02\\x00\\n\\x00\\x0c\\x00\\n\\x00\\x1d\\x00\\x17\\x00\\x1e\\x00\\x19\\x00\\x18\\x00#\\x00\\x00\\x00\\x16\\x00\\x00\\x00\\x17\\x00\\x00\\x00\\r\\x000\\x00.\\x04\\x03\\x05\\x03\\x06\\x03\\x08\\x07\\x08\\x08\\x08\\t\\x08\\n\\x08\\x0b\\x08\\x04\\x08\\x05\\x08\\x06\\x04\\x01\\x05\\x01\\x06\"]\n",
      "Bad pipe message: %s [b'', b'\\x03\\x03']\n",
      "Bad pipe message: %s [b'']\n",
      "Bad pipe message: %s [b'', b'\\x02']\n",
      "Bad pipe message: %s [b'\\x05\\x02\\x06']\n",
      "Bad pipe message: %s [b'\\xa5\\xa9kNk\\x127\\x88\\xca\\xdfP\\x9c\\x9d\\x98h\\xa0\\x16 \\x00\\x00>\\xc0\\x14\\xc0\\n\\x009\\x008\\x007\\x00', b'\\x0f\\xc0\\x05\\x005\\xc0\\x13\\xc0\\t\\x003\\x002\\x001\\x000\\xc0\\x0e\\xc0\\x04\\x00/\\x00\\x9a\\x00\\x99\\x00\\x98\\x00\\x97\\x00\\x96\\x00\\x07\\xc0\\x11\\xc0\\x07\\xc0\\x0c\\xc0\\x02\\x00\\x05\\x00\\x04\\x00\\xff\\x02\\x01\\x00\\x00']\n",
      "Bad pipe message: %s [b'\\x00\\x00\\x0e\\x00\\x0c\\x00\\x00\\t127.0.0.1\\x00\\x0b\\x00\\x04\\x03\\x00\\x01\\x02\\x00\\n\\x00\\x1c\\x00\\x1a\\x00\\x17\\x00\\x19\\x00\\x1c\\x00\\x1b\\x00\\x18\\x00\\x1a\\x00\\x16\\x00\\x0e\\x00\\r\\x00\\x0b\\x00\\x0c\\x00\\t\\x00\\n\\x00#\\x00\\x00\\x00\\x0f\\x00\\x01\\x01']\n",
      "Bad pipe message: %s [b'\\xcf+1\\xfd\\x86\\x86l\\x08\\x84\\xf1@\\x1fr\\x19\\x00(\\xabd\\x00\\x00>\\xc0\\x14\\xc0\\n\\x009\\x008\\x007\\x006\\xc0\\x0f\\xc0\\x05\\x005\\xc0\\x13\\xc0\\t\\x003\\x002\\x001\\x000\\xc0\\x0e\\xc0\\x04\\x00/\\x00\\x9a\\x00\\x99\\x00\\x98\\x00\\x97\\x00\\x96\\x00\\x07\\xc0', b'\\x07\\xc0\\x0c\\xc0\\x02\\x00\\x05\\x00\\x04\\x00\\xff\\x02\\x01\\x00\\x00C']\n",
      "Bad pipe message: %s [b'\\x03\\xf8\\x97\\x14\\xcep\\xcb\\x9a\\x02\\xf7^,\\x88\\xafE{\\xbe{\\x00\\x00\\xa2\\xc0\\x14\\xc0\\n\\x009\\x008\\x007\\x006\\x00\\x88\\x00\\x87\\x00\\x86\\x00\\x85\\xc0\\x19\\x00:\\x00\\x89\\xc0\\x0f\\xc0\\x05\\x005\\x00\\x84\\xc0\\x13\\xc0\\t\\x003\\x002\\x001\\x000\\x00\\x9a\\x00\\x99\\x00\\x98\\x00\\x97\\x00E\\x00D\\x00C\\x00B\\xc0\\x18\\x004\\x00\\x9b\\x00F\\xc0\\x0e\\xc0\\x04\\x00/\\x00\\x96\\x00A\\x00\\x07\\xc0\\x11\\xc0\\x07\\xc0\\x16\\x00\\x18\\xc0\\x0c\\xc0\\x02\\x00\\x05\\x00\\x04\\xc0\\x12\\xc0\\x08\\x00\\x16\\x00\\x13\\x00\\x10\\x00\\r\\xc0\\x17\\x00\\x1b\\xc0\\r\\xc0\\x03\\x00\\n\\x00\\x15\\x00\\x12\\x00\\x0f\\x00\\x0c\\x00', b'\\t\\x00\\x14\\x00\\x11\\x00\\x19\\x00\\x08\\x00\\x06\\x00\\x17\\x00\\x03\\xc0\\x10\\xc0\\x06\\xc0\\x15\\xc0\\x0b\\xc0\\x01']\n",
      "Bad pipe message: %s [b'\\xef\\x0e\\x1c\\xe8t^\\xc1\\x97\\xe1\\xc8 k\\x8b\\x1aCI\\x84\\x0e\\x00\\x00>\\xc0\\x14\\xc0\\n\\x009\\x008\\x007\\x006\\xc0\\x0f\\xc0\\x05\\x005\\xc0\\x13\\xc0\\t\\x003\\x002\\x001\\x000\\xc0\\x0e\\xc0\\x04\\x00/\\x00\\x9a\\x00\\x99\\x00\\x98\\x00\\x97\\x00\\x96\\x00\\x07\\xc0\\x11\\xc0\\x07\\xc0\\x0c\\xc0\\x02\\x00\\x05\\x00\\x04\\x00\\xff\\x02\\x01\\x00\\x15\\x03\\x00\\x00']\n",
      "Bad pipe message: %s [b'(']\n",
      "Bad pipe message: %s [b\"\\xe6\\x926\\x04\\xc6\\xbfz|\\x9d\\x91\\x16{\\xfe\\xe3\\xcb\\x83\\x00P\\x00\\x00\\x86\\xc00\\xc0,\\xc0(\\xc0$\\xc0\\x14\\xc0\\n\\x00\\xa5\\x00\\xa3\\x00\\xa1\\x00\\x9f\\x00k\\x00j\\x00i\\x00h\\x009\\x008\\x007\\x006\\xc02\\xc0.\\xc0*\\xc0&\\xc0\\x0f\\xc0\\x05\\x00\\x9d\\x00=\\x005\\xc0/\\xc0+\\xc0'\\xc0#\\xc0\\x13\\xc0\\t\\x00\\xa4\\x00\\xa2\\x00\\xa0\\x00\\x9e\\x00g\\x00@\\x00?\\x00>\\x003\\x002\\x001\\x000\\xc01\\xc0-\\xc0)\\xc0%\\xc0\\x0e\\xc0\\x04\\x00\\x9c\\x00<\\x00/\\x00\\x9a\\x00\\x99\\x00\\x98\\x00\\x97\\x00\\x96\\x00\\x07\\xc0\\x11\\xc0\\x07\\xc0\\x0c\\xc0\\x02\\x00\\x05\\x00\\x04\\x00\\xff\\x02\\x01\\x00\\x00g\\x00\\x00\\x00\\x0e\\x00\\x0c\\x00\\x00\\t127.0.0.1\\x00\\x0b\\x00\\x04\\x03\\x00\\x01\\x02\\x00\\n\\x00\\x1c\\x00\\x1a\\x00\\x17\\x00\\x19\\x00\\x1c\\x00\\x1b\\x00\\x18\\x00\\x1a\\x00\\x16\\x00\\x0e\\x00\\r\\x00\\x0b\\x00\\x0c\\x00\\t\\x00\\n\\x00#\\x00\\x00\\x00\\r\\x00 \\x00\\x1e\\x06\\x01\\x06\\x02\\x06\\x03\\x05\\x01\\x05\\x02\\x05\\x03\\x04\\x01\\x04\\x02\\x04\\x03\\x03\"]\n",
      "Bad pipe message: %s [b'\\xadE\\xc0\\x95\\x14\\x162\\xcd\\xf4\\xf5eNN\\xcf\\xcel`4\\x00\\x00\\xf4\\xc00\\xc0,\\xc0(\\xc0$\\xc0\\x14\\xc0\\n\\x00\\xa5\\x00\\xa3\\x00\\xa1\\x00\\x9f\\x00k\\x00j\\x00i\\x00h\\x009\\x008\\x007\\x006\\x00\\x88\\x00\\x87\\x00\\x86\\x00\\x85\\xc0\\x19\\x00\\xa7\\x00m\\x00:\\x00\\x89\\xc0', b\".\\xc0*\\xc0&\\xc0\\x0f\\xc0\\x05\\x00\\x9d\\x00=\\x005\\x00\\x84\\xc0/\\xc0+\\xc0'\\xc0#\\xc0\\x13\\xc0\\t\\x00\\xa4\\x00\\xa2\\x00\\xa0\\x00\\x9e\\x00g\\x00@\\x00?\\x00>\\x003\\x002\"]\n",
      "Bad pipe message: %s [b'', b'\\x03', b'\\x02', b'\\x03']\n",
      "Bad pipe message: %s [b'`^o\\x15\\xc8%\\x87\\x1c$\\x9d\\x1f\\xac\\xd2\\xb18\\x1bj\\xba \\x13\\xeb\\xf2\\xcf\\x14\\x03Z\\xd6\\xe5\\x87\\xde,\\x05\\xaa\\xa7\\x1b\\xb4?\\x86V\\x8f\\x8b\\x7f\\x13\\xbf\\xf3\\xc9\\x8dH\\xddC\\x8b\\x00\\x08\\x13\\x02\\x13\\x03\\x13\\x01\\x00\\xff\\x01\\x00\\x00\\x8f\\x00\\x00\\x00\\x0e\\x00\\x0c\\x00\\x00\\t127.0.0.1\\x00\\x0b\\x00\\x04\\x03\\x00\\x01\\x02\\x00\\n\\x00\\x0c\\x00\\n\\x00\\x1d\\x00\\x17\\x00\\x1e\\x00\\x19\\x00\\x18\\x00#\\x00\\x00\\x00\\x16\\x00\\x00\\x00\\x17\\x00\\x00\\x00\\r\\x00\\x1e\\x00\\x1c\\x04\\x03\\x05\\x03\\x06\\x03\\x08\\x07\\x08']\n",
      "Bad pipe message: %s [b'\\t\\x08\\n\\x08\\x0b\\x08\\x04']\n",
      "Bad pipe message: %s [b'\\x08\\x06\\x04\\x01\\x05\\x01\\x06', b'']\n",
      "Bad pipe message: %s [b'\\x03\\x02\\x03\\x04\\x00-\\x00\\x02\\x01\\x01\\x003\\x00&\\x00$\\x00\\x1d\\x00 \\x88ef\\xbab3\\xfe\\xde\\xae\\xbf\\x9d\\xff)\\xd1q\\xe3\\xfb/J\\xc5\\x10\\xc3']\n",
      "Bad pipe message: %s [b'\\xee\\xa9p\\xc5q\\xa7\\xba\\xf22\\xf0=\\x05=\\xe6`\\xb3\\x8d\\xc9\\x00\\x00|\\xc0,\\xc00\\x00\\xa3\\x00\\x9f\\xcc\\xa9\\xcc\\xa8\\xcc\\xaa\\xc0\\xaf\\xc0\\xad\\xc0\\xa3\\xc0\\x9f\\xc0]\\xc0a\\xc0', b\"S\\xc0+\\xc0/\\x00\\xa2\\x00\\x9e\\xc0\\xae\\xc0\\xac\\xc0\\xa2\\xc0\\x9e\\xc0\\\\\\xc0`\\xc0V\\xc0R\\xc0$\\xc0(\\x00k\\x00j\\xc0#\\xc0'\\x00g\\x00@\\xc0\\n\\xc0\\x14\\x009\\x008\\xc0\\t\\xc0\\x13\\x003\\x002\\x00\\x9d\\xc0\\xa1\\xc0\\x9d\\xc0Q\\x00\\x9c\\xc0\\xa0\\xc0\\x9c\\xc0P\\x00=\\x00<\\x005\\x00/\\x00\\x9a\\x00\\x99\\xc0\"]\n",
      "Bad pipe message: %s [b'\\x11\\x00\\x96\\x00\\x05\\x00']\n",
      "Bad pipe message: %s [b'\\xa6y,^\\xd7\"\\xab\\x986\\x98\\xde\\xf5t~a\\xba\\xbf`\\x00\\x00\\xa6\\xc0,\\xc00\\x00\\xa3\\x00\\x9f\\xcc\\xa9\\xcc\\xa8\\xcc\\xaa\\xc0\\xaf\\xc0\\xad\\xc0\\xa3\\xc0\\x9f\\xc0]\\xc0a\\xc0W\\xc0S\\xc0+\\xc0/\\x00\\xa2\\x00\\x9e\\xc0\\xae\\xc0\\xac\\xc0\\xa2\\xc0\\x9e\\xc0\\\\\\xc0`\\xc0V\\xc0R\\xc0$\\xc0(\\x00k\\x00j\\xc0s\\xc0w\\x00\\xc4\\x00\\xc3\\xc0#\\xc0\\'\\x00g\\x00@\\xc0r\\xc0v\\x00\\xbe\\x00\\xbd\\xc0\\n\\xc0\\x14\\x009\\x008\\x00\\x88\\x00\\x87\\xc0\\t\\xc0\\x13\\x003\\x002\\x00\\x9a\\x00\\x99\\x00E\\x00D\\xc0\\x07\\xc0']\n",
      "Bad pipe message: %s [b'\\x08\\xc0\\x12\\x00\\x16\\x00\\x13\\x00\\x9d\\xc0\\xa1\\xc0\\x9d\\xc0Q\\x00']\n",
      "Bad pipe message: %s [b'\\xedX\\xd6\\x86{\\x98\\x00\\x8e\\n_Dv\\xb1\\xa1,R\\xbc\\xd1\\x00\\x00\\xa2\\xc0\\x14\\xc0\\n\\x009\\x008\\x007\\x006\\x00\\x88\\x00\\x87\\x00\\x86\\x00\\x85\\xc0\\x19\\x00:\\x00\\x89\\xc0\\x0f\\xc0\\x05\\x005\\x00\\x84\\xc0\\x13\\xc0\\t\\x003\\x002\\x001\\x000\\x00\\x9a\\x00\\x99\\x00\\x98\\x00\\x97\\x00E\\x00D\\x00C\\x00B\\xc0\\x18\\x004\\x00\\x9b\\x00F\\xc0\\x0e\\xc0\\x04\\x00/\\x00\\x96\\x00A\\x00\\x07\\xc0\\x11\\xc0\\x07\\xc0\\x16\\x00\\x18\\xc0\\x0c\\xc0\\x02\\x00\\x05\\x00\\x04\\xc0\\x12\\xc0\\x08\\x00\\x16\\x00\\x13\\x00\\x10\\x00\\r\\xc0\\x17\\x00\\x1b\\xc0\\r\\xc0\\x03\\x00\\n\\x00\\x15\\x00\\x12\\x00\\x0f\\x00\\x0c\\x00\\x1a\\x00\\t\\x00\\x14\\x00\\x11\\x00\\x19\\x00\\x08\\x00\\x06\\x00\\x17\\x00\\x03\\xc0\\x10\\xc0\\x06\\xc0\\x15\\xc0\\x0b\\xc0\\x01\\x00\\x02\\x00\\x01\\x00\\xff\\x02\\x01\\x00\\x00C\\x00\\x00\\x00\\x0e\\x00\\x0c\\x00\\x00\\t127.0.0.1\\x00\\x0b\\x00\\x04\\x03\\x00\\x01\\x02\\x00\\n\\x00\\x1c\\x00\\x1a\\x00\\x17\\x00\\x19\\x00\\x1c\\x00\\x1b\\x00\\x18\\x00', b'\\x16\\x00\\x0e\\x00\\r\\x00\\x0b\\x00\\x0c\\x00\\t\\x00\\n\\x00#\\x00\\x00\\x00\\x0f\\x00\\x01\\x01\\x15\\x03\\x02']"
     ]
    },
    {
     "name": "stdout",
     "output_type": "stream",
     "text": [
      "2108/8000 [======>.......................] - ETA: 1:10:59 - loss: 0.4005 - accuracy: 0.8881Failed file\n",
      "https://ifcbwesteurope.blob.core.windows.net/naames/NAAMES_ml/D20151110T150315_IFCB107/IFCB107D20151110T150315P00444.png\n",
      "8000/8000 [==============================] - 6226s 778ms/step - loss: 0.3939 - accuracy: 0.8887 - val_loss: 0.4657 - val_accuracy: 0.8777\n",
      "Epoch 3/10\n",
      "2601/8000 [========>.....................] - ETA: 31:22 - loss: 0.3709 - accuracy: 0.8964Failed file\n",
      "https://ifcbwesteurope.blob.core.windows.net/naames/NAAMES_ml/D20151110T150315_IFCB107/IFCB107D20151110T150315P00444.png\n",
      "6488/8000 [=======================>......] - ETA: 8:45 - loss: 0.3539 - accuracy: 0.8982Failed file\n",
      "https://ifcbwesteurope.blob.core.windows.net/naames/NAAMES_ml/D20151114T174811_IFCB107/IFCB107D20151114T174811P01367.png\n",
      "7684/8000 [===========================>..] - ETA: 1:50 - loss: 0.3499 - accuracy: 0.8992Failed file\n",
      "https://ifcbwesteurope.blob.core.windows.net/naames/NAAMES_ml/D20151114T195830_IFCB107/IFCB107D20151114T195830P00090.png\n",
      "7779/8000 [============================>.] - ETA: 1:17 - loss: 0.3506 - accuracy: 0.8992Failed file\n",
      "https://ifcbwesteurope.blob.core.windows.net/naames/NAAMES_ml/D20151110T150315_IFCB107/IFCB107D20151110T150315P00390.png\n",
      "8000/8000 [==============================] - 3440s 430ms/step - loss: 0.3505 - accuracy: 0.8992 - val_loss: 0.5313 - val_accuracy: 0.8907\n",
      "Epoch 4/10\n",
      "3135/8000 [==========>...................] - ETA: 28:27 - loss: 0.3211 - accuracy: 0.9058Failed file\n",
      "https://ifcbwesteurope.blob.core.windows.net/naames/NAAMES_ml/D20151114T174811_IFCB107/IFCB107D20151114T174811P01367.png\n",
      "3830/8000 [=============>................] - ETA: 24:17 - loss: 0.3241 - accuracy: 0.9056Failed file\n",
      "https://ifcbwesteurope.blob.core.windows.net/naames/NAAMES_ml/D20151110T150315_IFCB107/IFCB107D20151110T150315P00390.png\n",
      "6552/8000 [=======================>......] - ETA: 8:14 - loss: 0.3215 - accuracy: 0.9063Failed file\n",
      "https://ifcbwesteurope.blob.core.windows.net/naames/NAAMES_ml/D20151110T150315_IFCB107/IFCB107D20151110T150315P00444.png\n",
      "8000/8000 [==============================] - 3344s 418ms/step - loss: 0.3187 - accuracy: 0.9069 - val_loss: 0.3080 - val_accuracy: 0.9125\n",
      "Epoch 5/10\n",
      "1051/8000 [==>...........................] - ETA: 38:05 - loss: 0.3134 - accuracy: 0.9095Failed file\n",
      "https://ifcbwesteurope.blob.core.windows.net/naames/NAAMES_ml/D20151110T150315_IFCB107/IFCB107D20151110T150315P00444.png\n",
      "1331/8000 [===>..........................] - ETA: 36:50 - loss: 0.3205 - accuracy: 0.9065Failed file\n",
      "https://ifcbwesteurope.blob.core.windows.net/naames/NAAMES_ml/D20151110T150315_IFCB107/IFCB107D20151110T150315P00390.png\n",
      "6360/8000 [======================>.......] - ETA: 9:18 - loss: 0.3012 - accuracy: 0.9109Failed file\n",
      "https://ifcbwesteurope.blob.core.windows.net/naames/NAAMES_ml/D20151114T174811_IFCB107/IFCB107D20151114T174811P01367.png\n",
      "8000/8000 [==============================] - 3368s 421ms/step - loss: 0.2984 - accuracy: 0.9111 - val_loss: 1.1153 - val_accuracy: 0.8953\n",
      "Epoch 6/10\n",
      "2034/8000 [======>.......................] - ETA: 34:04 - loss: 0.2931 - accuracy: 0.9143Failed file\n",
      "https://ifcbwesteurope.blob.core.windows.net/naames/NAAMES_ml/D20151114T174811_IFCB107/IFCB107D20151114T174811P01367.png\n",
      "2454/8000 [========>.....................] - ETA: 31:33 - loss: 0.2901 - accuracy: 0.9151Failed file\n",
      "https://ifcbwesteurope.blob.core.windows.net/naames/NAAMES_ml/D20151110T150315_IFCB107/IFCB107D20151110T150315P00390.png\n",
      "7500/8000 [===========================>..] - ETA: 2:47 - loss: 0.2875 - accuracy: 0.9146Failed file\n",
      "https://ifcbwesteurope.blob.core.windows.net/naames/NAAMES_ml/D20151110T150315_IFCB107/IFCB107D20151110T150315P00444.png\n",
      "8000/8000 [==============================] - 3346s 418ms/step - loss: 0.2869 - accuracy: 0.9145 - val_loss: 0.8640 - val_accuracy: 0.9143\n",
      "Epoch 7/10\n",
      "4525/8000 [===============>..............] - ETA: 19:58 - loss: 0.2740 - accuracy: 0.9152Failed file\n",
      "https://ifcbwesteurope.blob.core.windows.net/naames/NAAMES_ml/D20151110T150315_IFCB107/IFCB107D20151110T150315P00390.png\n",
      "5418/8000 [===================>..........] - ETA: 14:48 - loss: 0.2743 - accuracy: 0.9149Failed file\n",
      "https://ifcbwesteurope.blob.core.windows.net/naames/NAAMES_ml/D20151110T150315_IFCB107/IFCB107D20151110T150315P00444.png\n",
      "6766/8000 [========================>.....] - ETA: 6:58 - loss: 0.2734 - accuracy: 0.9158Failed file\n",
      "https://ifcbwesteurope.blob.core.windows.net/naames/NAAMES_ml/D20151114T174811_IFCB107/IFCB107D20151114T174811P01367.png\n",
      "7049/8000 [=========================>....] - ETA: 5:22 - loss: 0.2727 - accuracy: 0.9160Failed file\n",
      "https://ifcbwesteurope.blob.core.windows.net/naames/NAAMES_ml/D20151119T072930_IFCB107/IFCB107D20151119T072930P00111.png\n",
      "8000/8000 [==============================] - 3361s 420ms/step - loss: 0.2708 - accuracy: 0.9167 - val_loss: 0.5141 - val_accuracy: 0.9192\n",
      "Epoch 8/10\n",
      "1522/8000 [====>.........................] - ETA: 36:42 - loss: 0.2608 - accuracy: 0.9192Failed file\n",
      "https://ifcbwesteurope.blob.core.windows.net/naames/NAAMES_ml/D20151114T174811_IFCB107/IFCB107D20151114T174811P01367.png\n",
      "3820/8000 [=============>................] - ETA: 24:07 - loss: 0.2613 - accuracy: 0.9197Failed file\n",
      "https://ifcbwesteurope.blob.core.windows.net/naames/NAAMES_ml/D20151110T150315_IFCB107/IFCB107D20151110T150315P00444.png\n",
      "7133/8000 [=========================>....] - ETA: 5:03 - loss: 0.2617 - accuracy: 0.9198Failed file\n",
      "https://ifcbwesteurope.blob.core.windows.net/naames/NAAMES_ml/D20151110T150315_IFCB107/IFCB107D20151110T150315P00390.png\n",
      "8000/8000 [==============================] - 3436s 430ms/step - loss: 0.2618 - accuracy: 0.9198 - val_loss: 3.9480 - val_accuracy: 0.9115\n",
      "Epoch 9/10\n",
      "2573/8000 [========>.....................] - ETA: 30:55 - loss: 0.2566 - accuracy: 0.9221Failed file\n",
      "https://ifcbwesteurope.blob.core.windows.net/naames/NAAMES_ml/D20151114T174811_IFCB107/IFCB107D20151114T174811P01367.png\n",
      "3500/8000 [============>.................] - ETA: 25:31 - loss: 0.2595 - accuracy: 0.9206Failed file\n",
      "https://ifcbwesteurope.blob.core.windows.net/naames/NAAMES_ml/D20151110T150315_IFCB107/IFCB107D20151110T150315P00444.png\n",
      "3637/8000 [============>.................] - ETA: 24:44 - loss: 0.2590 - accuracy: 0.9206Failed file\n",
      "https://ifcbwesteurope.blob.core.windows.net/naames/NAAMES_ml/D20151110T150315_IFCB107/IFCB107D20151110T150315P00390.png\n",
      "8000/8000 [==============================] - 3364s 420ms/step - loss: 0.2557 - accuracy: 0.9213 - val_loss: 1.4287 - val_accuracy: 0.9113\n",
      "Epoch 10/10\n",
      " 107/8000 [..............................] - ETA: 41:55 - loss: 0.2182 - accuracy: 0.9243Failed file\n",
      "https://ifcbwesteurope.blob.core.windows.net/naames/NAAMES_ml/D20151110T150315_IFCB107/IFCB107D20151110T150315P00390.png\n",
      "1692/8000 [=====>........................] - ETA: 36:41 - loss: 0.2466 - accuracy: 0.9241Failed file\n",
      "https://ifcbwesteurope.blob.core.windows.net/naames/NAAMES_ml/D20151114T174811_IFCB107/IFCB107D20151114T174811P01367.png\n",
      "3630/8000 [============>.................] - ETA: 25:36 - loss: 0.2507 - accuracy: 0.9221Failed file\n",
      "https://ifcbwesteurope.blob.core.windows.net/naames/NAAMES_ml/D20151110T150315_IFCB107/IFCB107D20151110T150315P00444.png\n",
      "8000/8000 [==============================] - 3473s 434ms/step - loss: 0.2499 - accuracy: 0.9228 - val_loss: 2.8071 - val_accuracy: 0.9204\n",
      "CPU times: user 19h 39min 1s, sys: 41min 9s, total: 20h 20min 10s\n",
      "Wall time: 11h 29s\n"
     ]
    },
    {
     "name": "stderr",
     "output_type": "stream",
     "text": [
      "\n",
      "Bad pipe message: %s [b\"Q\\xdd'\\x86J<\\xfe\\xaa\\x80\\x93\\xf7@\\xb6\\xcav\\xa68+\\x00\\x00\\x86\\xc00\\xc0,\\xc0(\\xc0$\\xc0\\x14\\xc0\\n\\x00\\xa5\\x00\\xa3\\x00\\xa1\\x00\\x9f\\x00k\\x00j\\x00i\\x00h\\x009\\x008\\x007\\x006\\xc02\\xc0.\\xc0*\\xc0&\\xc0\\x0f\\xc0\\x05\\x00\\x9d\\x00=\\x005\\xc0/\\xc0+\\xc0'\\xc0#\\xc0\\x13\\xc0\\t\\x00\\xa4\\x00\\xa2\\x00\\xa0\\x00\\x9e\\x00g\\x00@\\x00?\\x00>\\x003\\x002\\x001\\x000\\xc01\\xc0-\\xc0)\\xc0%\\xc0\\x0e\\xc0\\x04\\x00\\x9c\\x00<\\x00/\\x00\\x9a\\x00\\x99\\x00\\x98\\x00\\x97\\x00\\x96\\x00\\x07\\xc0\\x11\\xc0\\x07\\xc0\\x0c\\xc0\\x02\\x00\\x05\\x00\\x04\\x00\\xff\\x02\\x01\\x00\\x00g\\x00\\x00\\x00\\x0e\\x00\\x0c\\x00\\x00\\t127.0.0.1\\x00\\x0b\\x00\\x04\\x03\\x00\\x01\\x02\\x00\\n\\x00\\x1c\\x00\\x1a\\x00\\x17\\x00\\x19\\x00\\x1c\\x00\\x1b\\x00\\x18\\x00\\x1a\\x00\\x16\\x00\\x0e\\x00\\r\\x00\\x0b\\x00\\x0c\\x00\\t\\x00\\n\\x00#\\x00\\x00\\x00\\r\\x00 \\x00\\x1e\\x06\\x01\\x06\\x02\\x06\\x03\\x05\\x01\\x05\\x02\\x05\\x03\\x04\\x01\\x04\\x02\\x04\\x03\\x03\\x01\\x03\\x02\\x03\\x03\", b'\\x02', b'\\x03']\n",
      "Bad pipe message: %s [b'\\x150[\\x02\\x98E9\\x186\\xd4\\xac\\x998 *a5\\xd9 bb\\xe9\\x14@\\xf77\\xcd\\x1a\\x9fw\\xb0\\xb3\\xaal\\x7fq\\xa3`\\xdb\\xc0^\\xd0\\xdbm\\xb2\\xb2\\xf6m7^\\x8f\\x00\\x08\\x13\\x02\\x13\\x03\\x13\\x01\\x00\\xff\\x01\\x00\\x00\\x8f\\x00\\x00\\x00\\x0e\\x00\\x0c\\x00\\x00\\t127.0.0.1\\x00\\x0b\\x00\\x04\\x03\\x00\\x01\\x02\\x00\\n\\x00\\x0c\\x00\\n\\x00\\x1d\\x00\\x17\\x00\\x1e\\x00\\x19\\x00\\x18\\x00#\\x00\\x00\\x00\\x16\\x00\\x00\\x00\\x17\\x00\\x00\\x00\\r\\x00\\x1e\\x00\\x1c\\x04\\x03\\x05\\x03\\x06\\x03\\x08\\x07\\x08\\x08\\x08\\t\\x08\\n\\x08\\x0b\\x08\\x04\\x08\\x05\\x08\\x06\\x04\\x01\\x05\\x01\\x06\\x01\\x00+\\x00\\x03\\x02\\x03\\x04\\x00-\\x00\\x02\\x01\\x01\\x003\\x00&\\x00$\\x00\\x1d\\x00 ']\n",
      "Bad pipe message: %s [b'ml<^g]\\x92\\xc7\\xd0G\\x19\\xadv\\xca\\x1a\\x8a\\xdb/ 6Q\\xa4\\xbb\\xc4o*\\x93*\\x93\\xccS\\x05^\\xbd\\x0e\\xfe\\xc6\\x8a6\\xe1\\x02\\x02z\\xae\\xfd@\\xae\\xc8\\x15\\xa2k\\x00\\x08\\x13\\x02\\x13\\x03\\x13\\x01\\x00\\xff\\x01\\x00\\x00\\x8f\\x00\\x00\\x00\\x0e\\x00\\x0c\\x00\\x00\\t127.0.0.1\\x00\\x0b\\x00\\x04\\x03\\x00\\x01\\x02\\x00\\n\\x00\\x0c\\x00\\n\\x00\\x1d\\x00\\x17\\x00\\x1e\\x00\\x19\\x00\\x18\\x00#\\x00\\x00\\x00\\x16\\x00\\x00\\x00\\x17\\x00\\x00\\x00\\r\\x00\\x1e\\x00\\x1c\\x04\\x03\\x05\\x03\\x06\\x03\\x08\\x07\\x08\\x08\\x08\\t\\x08\\n\\x08\\x0b\\x08\\x04\\x08\\x05\\x08\\x06\\x04\\x01\\x05\\x01\\x06\\x01\\x00+\\x00\\x03\\x02\\x03\\x04\\x00-\\x00\\x02\\x01\\x01\\x003\\x00&\\x00$\\x00\\x1d\\x00 D\\xe4\\xc0!\\xd5\\x80\\x8ai^\\xa9\\xcd]\\x8chV\\xd1\\xcb{+\\x08\\xec']\n",
      "Bad pipe message: %s [b\"\\x87\\x10\\xd7-\\x15\\xf8\\x80f\\xe7\\xc0\\x13\\xbbn\\x80\\xfa\\xe4n\\x8c\\x00\\x00|\\xc0,\\xc00\\x00\\xa3\\x00\\x9f\\xcc\\xa9\\xcc\\xa8\\xcc\\xaa\\xc0\\xaf\\xc0\\xad\\xc0\\xa3\\xc0\\x9f\\xc0]\\xc0a\\xc0W\\xc0S\\xc0+\\xc0/\\x00\\xa2\\x00\\x9e\\xc0\\xae\\xc0\\xac\\xc0\\xa2\\xc0\\x9e\\xc0\\\\\\xc0`\\xc0V\\xc0R\\xc0$\\xc0(\\x00k\\x00j\\xc0#\\xc0'\\x00g\\x00@\\xc0\\n\\xc0\\x14\\x009\\x008\\xc0\\t\\xc0\\x13\\x003\\x002\\x00\\x9d\\xc0\\xa1\\xc0\\x9d\\xc0Q\\x00\\x9c\\xc0\\xa0\\xc0\\x9c\\xc0P\\x00=\\x00<\\x005\\x00/\\x00\\x9a\\x00\\x99\\xc0\\x07\\xc0\\x11\\x00\\x96\\x00\\x05\\x00\\xff\\x01\\x00\\x00j\\x00\\x00\\x00\\x0e\\x00\\x0c\\x00\\x00\\t127.0.0.1\\x00\\x0b\\x00\\x04\\x03\\x00\\x01\\x02\\x00\"]\n",
      "Bad pipe message: %s [b'\\x0c\\x00\\n\\x00\\x1d\\x00\\x17\\x00\\x1e']\n",
      "Bad pipe message: %s [b\"\\x9aI\\xe6\\x96\\xa3m\\x94K7w\\xa4;~\\xbd~\\x17\\xd8\\xaf\\x00\\x00\\xa6\\xc0,\\xc00\\x00\\xa3\\x00\\x9f\\xcc\\xa9\\xcc\\xa8\\xcc\\xaa\\xc0\\xaf\\xc0\\xad\\xc0\\xa3\\xc0\\x9f\\xc0]\\xc0a\\xc0W\\xc0S\\xc0+\\xc0/\\x00\\xa2\\x00\\x9e\\xc0\\xae\\xc0\\xac\\xc0\\xa2\\xc0\\x9e\\xc0\\\\\\xc0`\\xc0V\\xc0R\\xc0$\\xc0(\\x00k\\x00j\\xc0s\\xc0w\\x00\\xc4\\x00\\xc3\\xc0#\\xc0'\\x00g\\x00@\\xc0r\\xc0v\\x00\\xbe\\x00\\xbd\\xc0\\n\\xc0\\x14\\x009\\x008\\x00\\x88\\x00\\x87\\xc0\\t\\xc0\\x13\\x003\\x002\\x00\\x9a\\x00\\x99\\x00E\\x00D\\xc0\\x07\\xc0\\x11\\xc0\\x08\\xc0\\x12\\x00\\x16\\x00\\x13\\x00\\x9d\\xc0\\xa1\\xc0\\x9d\\xc0Q\\x00\\x9c\\xc0\\xa0\\xc0\\x9c\\xc0P\\x00=\\x00\\xc0\\x00<\\x00\\xba\\x005\\x00\\x84\\x00/\\x00\\x96\\x00A\\x00\\x05\\x00\\n\\x00\\xff\\x01\\x00\\x00j\\x00\\x00\\x00\\x0e\\x00\\x0c\\x00\\x00\\t127.0.0.1\\x00\\x0b\\x00\\x04\\x03\\x00\\x01\\x02\\x00\\n\\x00\\x0c\\x00\\n\\x00\\x1d\\x00\\x17\\x00\\x1e\\x00\\x19\\x00\\x18\\x00#\\x00\\x00\\x00\\x16\\x00\\x00\\x00\\x17\\x00\\x00\\x00\\r\\x000\\x00.\", b'\\x05\\x03\\x06', b'\\x07\\x08']\n",
      "Bad pipe message: %s [b'\\t\\x08\\n\\x08\\x0b\\x08\\x04']\n",
      "Bad pipe message: %s [b'\\x08\\x06\\x04\\x01\\x05\\x01\\x06', b'', b'\\x03\\x03']\n",
      "Bad pipe message: %s [b'']\n",
      "Bad pipe message: %s [b'', b'\\x02']\n",
      "Bad pipe message: %s [b'\\x05\\x02\\x06']\n",
      "Bad pipe message: %s [b'Z\\xb8\\xb0\\x83\\x00\\xa5\\xee\\x1b\\xb7\\xf3\\xcb\\xf5\\xcc\\xccTM\\x97W\\x00\\x00>\\xc0\\x14\\xc0\\n\\x009\\x008\\x007\\x006\\xc0\\x0f\\xc0\\x05\\x005\\xc0\\x13\\xc0\\t\\x003\\x002\\x001\\x000\\xc0\\x0e\\xc0\\x04\\x00/\\x00\\x9a\\x00\\x99\\x00\\x98\\x00\\x97\\x00\\x96\\x00\\x07\\xc0\\x11\\xc0\\x07\\xc0\\x0c\\xc0\\x02\\x00\\x05\\x00\\x04\\x00\\xff\\x02\\x01\\x00\\x00']\n",
      "Bad pipe message: %s [b'\\x00\\x00\\x0e\\x00\\x0c\\x00\\x00\\t127.0.0.1\\x00\\x0b\\x00\\x04\\x03\\x00\\x01\\x02\\x00\\n\\x00\\x1c\\x00\\x1a\\x00\\x17\\x00\\x19\\x00\\x1c\\x00\\x1b\\x00\\x18\\x00\\x1a\\x00\\x16\\x00\\x0e\\x00\\r\\x00\\x0b\\x00\\x0c\\x00\\t\\x00\\n\\x00#\\x00\\x00\\x00\\x0f\\x00\\x01\\x01']\n",
      "Bad pipe message: %s [b'\\xb4\\x97\\x14\\xc3\\x02I-\\xba\\x0e#\\xcc\\x18\\xbf\\x90\\t\\xc9\\xd41\\x00\\x00\\xa2\\xc0\\x14\\xc0\\n\\x009\\x008\\x007\\x006\\x00\\x88\\x00\\x87\\x00\\x86\\x00\\x85\\xc0\\x19\\x00:\\x00\\x89\\xc0\\x0f\\xc0\\x05\\x005\\x00\\x84\\xc0\\x13\\xc0\\t\\x003\\x002\\x001\\x000\\x00\\x9a\\x00\\x99\\x00\\x98\\x00\\x97\\x00E\\x00D\\x00C\\x00B\\xc0\\x18\\x004\\x00\\x9b\\x00F\\xc0\\x0e\\xc0\\x04\\x00/\\x00\\x96\\x00A\\x00\\x07\\xc0\\x11\\xc0\\x07\\xc0\\x16\\x00\\x18\\xc0\\x0c\\xc0\\x02\\x00\\x05\\x00\\x04\\xc0\\x12\\xc0\\x08\\x00\\x16\\x00\\x13\\x00\\x10\\x00\\r\\xc0\\x17\\x00\\x1b\\xc0\\r\\xc0\\x03\\x00\\n\\x00\\x15\\x00\\x12\\x00\\x0f\\x00\\x0c\\x00\\x1a\\x00\\t\\x00\\x14\\x00\\x11\\x00\\x19\\x00\\x08\\x00\\x06\\x00\\x17\\x00\\x03\\xc0\\x10\\xc0\\x06\\xc0\\x15\\xc0']\n",
      "Bad pipe message: %s [b'\\x01\\x00\\x02\\x00\\x01\\x00\\xff\\x02\\x01\\x00']\n",
      "Bad pipe message: %s [b'\\x0b\\xaa\\xee\\x15\\x8d=U+4\\x88\\xc2\\x82\\xb3\\x7f\\xd1\\xa0\\xea\\xa5\\x00\\x00>\\xc0\\x14\\xc0\\n\\x009\\x008\\x007\\x006\\xc0\\x0f\\xc0\\x05\\x005\\xc0\\x13\\xc0\\t\\x003\\x002\\x00', b'0\\xc0\\x0e\\xc0\\x04\\x00/\\x00\\x9a\\x00\\x99\\x00\\x98\\x00\\x97\\x00\\x96\\x00\\x07\\xc0\\x11\\xc0\\x07\\xc0\\x0c\\xc0\\x02\\x00\\x05\\x00\\x04\\x00\\xff\\x02\\x01\\x00\\x00C\\x00\\x00\\x00\\x0e\\x00\\x0c\\x00\\x00\\t1']\n",
      "Bad pipe message: %s [b'\\x98\\t]\\x1f\\xbb\\xa4\\xc1\\xc9P\\xec\\xca\\xf9\\xe4\\x9e\\xd5\\xae\\xa5.\\x00\\x00\\xa2\\xc0\\x14\\xc0\\n\\x009\\x008\\x007\\x006\\x00\\x88\\x00\\x87\\x00\\x86\\x00\\x85\\xc0\\x19\\x00:\\x00\\x89\\xc0\\x0f\\xc0\\x05\\x005\\x00\\x84\\xc0\\x13\\xc0\\t\\x003\\x002\\x001\\x000\\x00\\x9a\\x00\\x99\\x00\\x98\\x00\\x97\\x00E\\x00D\\x00C\\x00B\\xc0\\x18\\x004\\x00\\x9b\\x00F\\xc0\\x0e\\xc0\\x04\\x00/\\x00\\x96\\x00A\\x00\\x07\\xc0\\x11\\xc0\\x07\\xc0\\x16\\x00\\x18\\xc0\\x0c\\xc0\\x02\\x00\\x05\\x00\\x04\\xc0\\x12\\xc0\\x08\\x00\\x16\\x00\\x13\\x00\\x10\\x00\\r\\xc0\\x17\\x00\\x1b\\xc0\\r\\xc0\\x03\\x00\\n\\x00\\x15\\x00\\x12\\x00\\x0f\\x00\\x0c\\x00\\x1a\\x00\\t\\x00\\x14\\x00\\x11\\x00\\x19\\x00\\x08\\x00\\x06\\x00\\x17\\x00\\x03\\xc0\\x10\\xc0\\x06\\xc0\\x15\\xc0\\x0b\\xc0\\x01\\x00\\x02\\x00\\x01\\x00\\xff\\x02\\x01\\x00\\x00C\\x00\\x00\\x00\\x0e\\x00\\x0c\\x00\\x00\\t127.0.0.1\\x00\\x0b\\x00\\x04\\x03\\x00\\x01', b'\\n']\n",
      "Bad pipe message: %s [b'CZ\\xe1']\n",
      "Bad pipe message: %s [b\"sQ\\xaa3\\x16;\\xedg\\x18]\\xb8\\t]\\xc5\\xda2\\x084\\x00\\x00\\x86\\xc00\\xc0,\\xc0(\\xc0$\\xc0\\x14\\xc0\\n\\x00\\xa5\\x00\\xa3\\x00\\xa1\\x00\\x9f\\x00k\\x00j\\x00i\\x00h\\x009\\x008\\x007\\x006\\xc02\\xc0.\\xc0*\\xc0&\\xc0\\x0f\\xc0\\x05\\x00\\x9d\\x00=\\x005\\xc0/\\xc0+\\xc0'\\xc0#\\xc0\\x13\\xc0\\t\\x00\\xa4\\x00\\xa2\\x00\\xa0\\x00\\x9e\\x00g\\x00@\\x00?\\x00>\\x003\\x002\\x001\\x000\\xc01\\xc0-\\xc0)\\xc0%\\xc0\\x0e\\xc0\\x04\\x00\\x9c\\x00<\\x00/\\x00\\x9a\\x00\\x99\\x00\\x98\\x00\\x97\\x00\\x96\\x00\\x07\\xc0\\x11\\xc0\\x07\\xc0\\x0c\\xc0\\x02\\x00\\x05\\x00\\x04\\x00\\xff\\x02\\x01\\x00\\x00g\\x00\\x00\\x00\\x0e\\x00\\x0c\\x00\\x00\\t127\", b'.0.1\\x00\\x0b\\x00\\x04\\x03\\x00\\x01\\x02\\x00\\n\\x00\\x1c\\x00\\x1a\\x00\\x17\\x00\\x19\\x00\\x1c\\x00\\x1b\\x00\\x18\\x00\\x1a\\x00\\x16\\x00\\x0e\\x00\\r\\x00\\x0b\\x00\\x0c\\x00\\t\\x00\\n\\x00']\n",
      "Bad pipe message: %s [b'\\x00\\x00\\r\\x00 \\x00\\x1e\\x06\\x01\\x06\\x02\\x06\\x03\\x05\\x01\\x05\\x02\\x05\\x03\\x04\\x01\\x04\\x02\\x04\\x03\\x03\\x01\\x03\\x02\\x03\\x03\\x02\\x01\\x02']\n",
      "Bad pipe message: %s [b'\\x03']\n",
      "Bad pipe message: %s [b')\\x10l\\xe0z\\xa9X\\xf8\\xbe\\x9fX\\xad\\xd5\\xad,\\xca\\x8b}\\x00\\x00\\xf4\\xc00\\xc0,\\xc0(\\xc0$\\xc0\\x14\\xc0\\n\\x00\\xa5\\x00\\xa3\\x00\\xa1\\x00\\x9f\\x00k\\x00j\\x00i\\x00h\\x009\\x008\\x007\\x006\\x00\\x88\\x00\\x87\\x00\\x86\\x00\\x85\\xc0\\x19\\x00\\xa7\\x00', b\":\\x00\\x89\\xc02\\xc0.\\xc0*\\xc0&\\xc0\\x0f\\xc0\\x05\\x00\\x9d\\x00=\\x005\\x00\\x84\\xc0/\\xc0+\\xc0'\\xc0#\\xc0\\x13\\xc0\\t\\x00\\xa4\\x00\\xa2\\x00\\xa0\\x00\\x9e\\x00g\\x00@\\x00?\\x00>\\x003\\x002\\x001\\x000\\x00\\x9a\\x00\\x99\\x00\\x98\\x00\\x97\\x00E\\x00D\\x00C\\x00B\\xc0\\x18\\x00\\xa6\\x00l\\x004\\x00\\x9b\\x00F\\xc01\\xc0-\\xc0)\\xc0%\\xc0\\x0e\\xc0\\x04\\x00\\x9c\\x00<\\x00/\\x00\\x96\\x00\"]\n",
      "Bad pipe message: %s [b'\\x07\\xc0\\x11\\xc0\\x07\\xc0\\x16\\x00\\x18\\xc0\\x0c\\xc0\\x02\\x00\\x05\\x00\\x04\\xc0\\x12\\xc0\\x08\\x00\\x16\\x00\\x13\\x00\\x10\\x00\\r\\xc0\\x17\\x00\\x1b\\xc0\\r\\xc0\\x03\\x00\\n\\x00\\x15\\x00\\x12\\x00\\x0f\\x00\\x0c\\x00\\x1a\\x00\\t\\x00\\x14\\x00\\x11\\x00\\x19\\x00\\x08\\x00\\x06\\x00\\x17\\x00']\n",
      "Bad pipe message: %s [b'\\x10\\xc0']\n",
      "Bad pipe message: %s [b'\\x15\\xc0\\x0b\\xc0\\x01']"
     ]
    }
   ],
   "source": [
    "%%time\n",
    "# train model and save history object \n",
    "\n",
    "' training in smaller increments to monitor progress '\n",
    "\n",
    "print(\"[INFO] training simple network...\")\n",
    "H = model.fit(\n",
    "    trainGen,\n",
    "    steps_per_epoch=totalTrain // batch_size,\n",
    "    validation_data=validationGen,\n",
    "    validation_steps=totalVal // batch_size,\n",
    "    #epochs=2,\n",
    "    epochs=10,\n",
    "    callbacks=[tensorboard_callback])"
   ]
  },
  {
   "cell_type": "code",
   "execution_count": 79,
   "id": "c2660835-eac3-4f3d-990b-d3d323d7d188",
   "metadata": {},
   "outputs": [
    {
     "data": {
      "text/plain": [
       "ERROR: Failed to launch TensorBoard (exited with 255).\n",
       "Contents of stderr:\n",
       "NOTE: Using experimental fast data loading logic. To disable, pass\n",
       "    \"--load_fast=false\" and report issues on GitHub. More details:\n",
       "    https://github.com/tensorflow/tensorboard/issues/4784\n",
       "\n",
       "E0810 14:39:11.590087 140717883467584 program.py:298] TensorBoard could not bind to port 6008, it was already in use\n",
       "ERROR: TensorBoard could not bind to port 6008, it was already in use"
      ]
     },
     "metadata": {},
     "output_type": "display_data"
    }
   ],
   "source": []
  },
  {
   "cell_type": "code",
   "execution_count": 76,
   "id": "5989fb20-4c9e-4242-8ac8-97f1245da205",
   "metadata": {
    "tags": []
   },
   "outputs": [
    {
     "name": "stdout",
     "output_type": "stream",
     "text": [
      "\n",
      "***** TensorBoard Uploader *****\n",
      "\n",
      "This will upload your TensorBoard logs to https://tensorboard.dev/ from\n",
      "the following directory:\n",
      "\n",
      "./logs\n",
      "\n",
      "This TensorBoard will be visible to everyone. Do not upload sensitive\n",
      "data.\n",
      "\n",
      "Your use of this service is subject to Google's Terms of Service\n",
      "<https://policies.google.com/terms> and Privacy Policy\n",
      "<https://policies.google.com/privacy>, and TensorBoard.dev's Terms of Service\n",
      "<https://tensorboard.dev/policy/terms/>.\n",
      "\n",
      "This notice will not be shown again while you are logged into the uploader.\n",
      "To log out, run `tensorboard dev auth revoke`.\n",
      "\n",
      "Continue? (yes/NO) ^C\n",
      "Traceback (most recent call last):\n",
      "  File \"/anaconda/envs/azureml_py38/bin/tensorboard\", line 8, in <module>\n",
      "    sys.exit(run_main())\n",
      "  File \"/anaconda/envs/azureml_py38/lib/python3.8/site-packages/tensorboard/main.py\", line 46, in run_main\n",
      "    app.run(tensorboard.main, flags_parser=tensorboard.configure)\n",
      "  File \"/anaconda/envs/azureml_py38/lib/python3.8/site-packages/absl/app.py\", line 312, in run\n",
      "    _run_main(main, args)\n",
      "  File \"/anaconda/envs/azureml_py38/lib/python3.8/site-packages/absl/app.py\", line 258, in _run_main\n",
      "    sys.exit(main(argv))\n",
      "  File \"/anaconda/envs/azureml_py38/lib/python3.8/site-packages/tensorboard/program.py\", line 276, in main\n",
      "    return runner(self.flags) or 0\n",
      "  File \"/anaconda/envs/azureml_py38/lib/python3.8/site-packages/tensorboard/uploader/uploader_subcommand.py\", line 692, in run\n",
      "    return _run(flags, self._experiment_url_callback)\n",
      "  File \"/anaconda/envs/azureml_py38/lib/python3.8/site-packages/tensorboard/uploader/uploader_subcommand.py\", line 94, in _run\n",
      "    _prompt_for_user_ack(intent)\n",
      "  File \"/anaconda/envs/azureml_py38/lib/python3.8/site-packages/tensorboard/uploader/uploader_subcommand.py\", line 67, in _prompt_for_user_ack\n",
      "    response = input(\"Continue? (yes/NO) \")\n",
      "KeyboardInterrupt\n"
     ]
    }
   ],
   "source": [
    "!tensorboard dev upload --logdir ./logs \\\n",
    "  --name 'Simple experiment with basic CNN' \\\n",
    "  --description 'Training results from 100k images' \\\n",
    "  --one_shot"
   ]
  },
  {
   "cell_type": "code",
   "execution_count": 80,
   "id": "9456f5fe-2f2b-4d21-b676-a5c62e9ff957",
   "metadata": {},
   "outputs": [
    {
     "name": "stdout",
     "output_type": "stream",
     "text": [
      "dict_keys(['loss', 'accuracy', 'val_loss', 'val_accuracy'])\n"
     ]
    },
    {
     "data": {
      "image/png": "[encoded data removed]",
      "text/plain": [
       "<Figure size 432x288 with 1 Axes>"
      ]
     },
     "metadata": {
      "needs_background": "light"
     },
     "output_type": "display_data"
    },
    {
     "data": {
      "image/png": "[encoded data removed]",
      "text/plain": [
       "<Figure size 432x288 with 1 Axes>"
      ]
     },
     "metadata": {
      "needs_background": "light"
     },
     "output_type": "display_data"
    }
   ],
   "source": [
    "# plot info from model history object \n",
    "\n",
    "# list all data in history\n",
    "print(H.history.keys())\n",
    "\n",
    "# summarize history for accuracy\n",
    "plt.plot(H.history['accuracy'])\n",
    "plt.plot(H.history['val_accuracy'])\n",
    "plt.title('model accuracy')\n",
    "plt.ylabel('accuracy')\n",
    "plt.xlabel('epoch')\n",
    "plt.legend(['train', 'validation'], loc='upper left')\n",
    "plt.show()\n",
    "\n",
    "# summarize history for loss\n",
    "plt.plot(H.history['loss'])\n",
    "plt.plot(H.history['val_loss'])\n",
    "plt.title('model loss')\n",
    "plt.ylabel('loss')\n",
    "plt.xlabel('epoch')\n",
    "plt.legend(['train', 'validation'], loc='upper left')\n",
    "plt.show()"
   ]
  },
  {
   "cell_type": "code",
   "execution_count": 78,
   "id": "8d0901c1-541e-4397-ac4f-6a87676f95f6",
   "metadata": {},
   "outputs": [
    {
     "data": {
      "text/html": [
       "\n",
       "      <iframe id=\"tensorboard-frame-506a072634e774b9\" width=\"100%\" height=\"800\" frameborder=\"0\">\n",
       "      </iframe>\n",
       "      <script>\n",
       "        (function() {\n",
       "          const frame = document.getElementById(\"tensorboard-frame-506a072634e774b9\");\n",
       "          const url = new URL(\"/\", window.location);\n",
       "          const port = 6006;\n",
       "          if (port) {\n",
       "            url.port = port;\n",
       "          }\n",
       "          frame.src = url;\n",
       "        })();\n",
       "      </script>\n",
       "    "
      ],
      "text/plain": [
       "<IPython.core.display.HTML object>"
      ]
     },
     "metadata": {},
     "output_type": "display_data"
    }
   ],
   "source": [
    "%tensorboard --logdir logs/fit "
   ]
  },
  {
   "cell_type": "code",
   "execution_count": 81,
   "id": "09e99c73-7486-4495-a852-de3e8789ea86",
   "metadata": {},
   "outputs": [
    {
     "name": "stdout",
     "output_type": "stream",
     "text": [
      "Saved model to disk\n"
     ]
    }
   ],
   "source": [
    "# -- \n",
    "# save model weights and structure from history object / reload and make predictions \n",
    "\n",
    "''' save model and weights '''\n",
    "model_json = model.to_json()\n",
    "with open(\"model-test-cnn-20220809.json\", \"w\") as json_file:\n",
    "    json_file.write(model_json)\n",
    "\n",
    "model.save_weights(\"model-test-cnn-20220809.h5\")\n",
    "print(\"Saved model to disk\")"
   ]
  },
  {
   "cell_type": "code",
   "execution_count": 82,
   "id": "0b1598d7-7434-4f5d-b0fe-8a95a266e887",
   "metadata": {},
   "outputs": [
    {
     "ename": "NameError",
     "evalue": "name 'np' is not defined",
     "output_type": "error",
     "traceback": [
      "\u001b[0;31m---------------------------------------------------------------------------\u001b[0m",
      "\u001b[0;31mNameError\u001b[0m                                 Traceback (most recent call last)",
      "Input \u001b[0;32mIn [82]\u001b[0m, in \u001b[0;36m<cell line: 3>\u001b[0;34m()\u001b[0m\n\u001b[1;32m      1\u001b[0m \u001b[38;5;66;03m# predicting with the trained model before exporting & reloading etc\u001b[39;00m\n\u001b[0;32m----> 3\u001b[0m test_split \u001b[38;5;241m=\u001b[39m \u001b[43mnp\u001b[49m\u001b[38;5;241m.\u001b[39marray_split(test, \u001b[38;5;241m10\u001b[39m)\n\u001b[1;32m      4\u001b[0m test_preds \u001b[38;5;241m=\u001b[39m []\n\u001b[1;32m      5\u001b[0m n \u001b[38;5;241m=\u001b[39m \u001b[38;5;241m1\u001b[39m\n",
      "\u001b[0;31mNameError\u001b[0m: name 'np' is not defined"
     ]
    }
   ],
   "source": [
    "# predicting with the trained model before exporting & reloading etc\n",
    "\n",
    "test_split = np.array_split(test, 10)\n",
    "test_preds = []\n",
    "n = 1\n",
    "for df in test_split: \n",
    "    labels = df['label'].values\n",
    "    test_labels = lb.fit_transform(labels)\n",
    "    v_dat = df.drop(['image_path', 'label'], axis=1).values\n",
    "    image_data = []\n",
    "    for i in range(len(df)): \n",
    "        row = df.iloc[i]\n",
    "        input_path = row['image_path'] \n",
    "        image_data.append(preprocess_input(cv2.imread(input_path)))\n",
    "        #\n",
    "    test_input = np.array(image_data)\n",
    "    predictions = model.predict(test_input)\n",
    "    pred_frame = pd.DataFrame(predictions)\n",
    "    pred_frame['image_path'] = df['image_path'].values.tolist()\n",
    "    top_1 = [np.argmax(i) for i in predictions]\n",
    "    df['pred_label'] = top_1\n",
    "    df['true_label'] = [np.argmax(i) for i in test_labels]\n",
    "    df['is_correct'] = df.apply(lambda row: is_correct(row), axis=1)\n",
    "    df_out = pd.merge(df, pred_frame, on = 'image_path', how='left')\n",
    "    test_preds.append(df_out)\n",
    "    print('completed ' + str(n) + ' of 10 testing subsets')\n",
    "    n +=1 \n",
    "    del image_data\n",
    "\n",
    "\n",
    "\n",
    "test_eval = pd.concat(test_preds)\n",
    "\n",
    "if len(test_eval) == len(test):\n",
    "    print('generated predictions for all examples in testing dataset')"
   ]
  },
  {
   "cell_type": "code",
   "execution_count": 20,
   "id": "65ca523d-3e8a-4ddc-a104-3382335fc856",
   "metadata": {},
   "outputs": [],
   "source": [
    "#imp.reload(ml_models)"
   ]
  },
  {
   "cell_type": "code",
   "execution_count": 13,
   "id": "29114a47-f42e-42f6-92a1-77b0982ef36c",
   "metadata": {},
   "outputs": [],
   "source": [
    "#account_key = input('input_account_key')"
   ]
  },
  {
   "cell_type": "code",
   "execution_count": 21,
   "id": "3f833d8d-8936-41e8-a2fc-a71b7b914c7c",
   "metadata": {},
   "outputs": [],
   "source": [
    "# attach the azure url\n",
    "#blob_urls = (f\"https://{account_name}.blob.core.windows.net/{container_name}/{blob.name}\" for blob in blobs_list)"
   ]
  },
  {
   "cell_type": "code",
   "execution_count": 20,
   "id": "509e292a-5248-429c-a91c-f1d004e3f20e",
   "metadata": {
    "tags": []
   },
   "outputs": [],
   "source": [
    "#%%time\n",
    "#dataset = []\n",
    "#failed_urls = []\n",
    "#for blob_url in blob_urls:\n",
    "    # print(blob_url)\n",
    "    # select 'png'\n",
    "#    if 'png' in blob_url:\n",
    "#        try:\n",
    "#            image = imageio.imread(blob_url)\n",
    "#            dataset.append(image)\n",
    "#        except Exception as e:\n",
    "#            failed_urls.append(blob_url)\n",
    "#            pass\n",
    "        "
   ]
  },
  {
   "cell_type": "code",
   "execution_count": 22,
   "id": "98e485d1-555b-4b1a-a240-9230af07334b",
   "metadata": {},
   "outputs": [],
   "source": [
    "#print(failed_urls)"
   ]
  },
  {
   "cell_type": "code",
   "execution_count": 23,
   "id": "d3732234-ed99-44a6-828f-71b5c7ac659a",
   "metadata": {},
   "outputs": [],
   "source": [
    "#len(dataset)"
   ]
  },
  {
   "cell_type": "code",
   "execution_count": 25,
   "id": "a7e71d31-2899-4a4d-96ba-e17ab8e53a39",
   "metadata": {
    "tags": []
   },
   "outputs": [],
   "source": [
    "# show an image"
   ]
  },
  {
   "cell_type": "code",
   "execution_count": 43,
   "id": "aad3fe03-3abf-4670-82a9-241099bf467e",
   "metadata": {},
   "outputs": [
    {
     "data": {
      "text/plain": [
       "<matplotlib.image.AxesImage at 0x7fea5491b0d0>"
      ]
     },
     "execution_count": 43,
     "metadata": {},
     "output_type": "execute_result"
    },
    {
     "data": {
      "image/png": "[encoded data removed]",
      "text/plain": [
       "<Figure size 432x288 with 1 Axes>"
      ]
     },
     "metadata": {
      "needs_background": "light"
     },
     "output_type": "display_data"
    }
   ],
   "source": [
    "plt.imshow(dataset[0])"
   ]
  },
  {
   "cell_type": "code",
   "execution_count": 30,
   "id": "f64a7aed-3df6-42f7-be69-f507b7220c5a",
   "metadata": {},
   "outputs": [
    {
     "data": {
      "text/plain": [
       "<imageio.plugins.pillow_legacy.PNGFormat.Reader at 0x7fea565d77c0>"
      ]
     },
     "execution_count": 30,
     "metadata": {},
     "output_type": "execute_result"
    }
   ],
   "source": [
    "dataset[0]"
   ]
  },
  {
   "cell_type": "code",
   "execution_count": 15,
   "id": "f9a0cf3c-3e1e-4cad-93be-f04fd4fded09",
   "metadata": {},
   "outputs": [],
   "source": [
    "image = imageio.imread('https://ifcb.blob.core.windows.net/naames/NAAMES_ml/D20151102T161705_IFCB107/IFCB107D20151102T161705P00002.png')"
   ]
  },
  {
   "cell_type": "code",
   "execution_count": 17,
   "id": "31b0ac42-782a-4313-be8f-110f541d4a79",
   "metadata": {},
   "outputs": [
    {
     "data": {
      "text/plain": [
       "Array([[203, 200, 200, ..., 200, 198, 200],\n",
       "       [199, 200, 198, ..., 195, 199, 194],\n",
       "       [201, 201, 205, ..., 200, 197, 198],\n",
       "       ...,\n",
       "       [205, 203, 207, ..., 197, 197, 197],\n",
       "       [205, 203, 203, ..., 200, 199, 196],\n",
       "       [207, 202, 209, ..., 201, 198, 199]], dtype=uint8)"
      ]
     },
     "execution_count": 17,
     "metadata": {},
     "output_type": "execute_result"
    }
   ],
   "source": [
    "image"
   ]
  },
  {
   "cell_type": "code",
   "execution_count": null,
   "id": "f3356643-6cba-49f7-aa9d-851d991524ac",
   "metadata": {},
   "outputs": [],
   "source": []
  }
 ],
 "metadata": {
  "kernelspec": {
   "display_name": "azureml_py38",
   "language": "python",
   "name": "conda-env-azureml_py38-py"
  },
  "language_info": {
   "codemirror_mode": {
    "name": "ipython",
    "version": 3
   },
   "file_extension": ".py",
   "mimetype": "text/x-python",
   "name": "python",
   "nbconvert_exporter": "python",
   "pygments_lexer": "ipython3",
   "version": "3.8.5"
  }
 },
 "nbformat": 4,
 "nbformat_minor": 5
}
